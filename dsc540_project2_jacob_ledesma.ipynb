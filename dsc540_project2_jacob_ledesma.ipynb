{
  "cells": [
    {
      "cell_type": "markdown",
      "metadata": {
        "id": "zEgK3i-n6CnV"
      },
      "source": [
        "# DSC540 Project 2"
      ]
    },
    {
      "cell_type": "markdown",
      "metadata": {
        "id": "5fG7Fnss6CnY"
      },
      "source": [
        "## Rules\n",
        "- Do not change the code already present in the notebook.\n",
        "- Write your code under the corresponding questions where you see `# Code here`. You are encouraged to use more than one cell.\n",
        "- Provide explanation in a separate Markdown formatted cell. \n",
        "- You can change the cell type by:\n",
        "    - Clicking on the outer area of the cell type you want to change,\n",
        "    - Go to the top, and select either Code or Markdown from the dropdown menu.\n",
        "- Be concise in your explanations and conclusions.\n",
        "- Write clear code and provide explanation to functions you create by using `#` comment sign.\n",
        "- For built-in function and methods you use from libraries, provide a very brief explanation of what they do.\n",
        "- Try to answer the questions by yourself. Use documentation from pandas, sklearn and similar libraries to solve the problem.\n",
        "- If you are stuck you can use different resources. Do not find an identical project and copy paste the solutions. \n",
        "- Write your name before beginning to code.\n",
        "\n",
        "\n",
        "Important:  \n",
        "- **Do NOT share the solutions with other people.**\n",
        "- **Do NOT share the solutions on the internet including but not limited to Github and other platforms.**\n",
        "- Sign the Honor Pledge below indicating that you have agreed to these rules listed here, and any other ethical and honor rules as required by the university.\n",
        "\n",
        "\n",
        "\n",
        "- **Deliverables:**\n",
        "    1. The Python Jupyter notebook file named properly with your name. Example: dsc540_project1_john_doe.ipynb\n",
        "    2. The HTML output of this code notebook names the same way. Example: dsc540_project1_john_doe.html\n",
        "        - File -> Download as -> HTML   \n",
        "    \n",
        "> **Do not ZIP the files.**\n",
        "\n",
        "Good Luck!"
      ]
    },
    {
      "cell_type": "markdown",
      "metadata": {
        "id": "R2Fa02086CnZ"
      },
      "source": [
        "### Jacob Ledesma"
      ]
    },
    {
      "cell_type": "markdown",
      "metadata": {
        "id": "EjyER8On6CnZ"
      },
      "source": [
        "**Honor Pledge:**  \n",
        "I pledge on my honor that I, **Jacob Ledesma**, have followed the rules listed above, that I have not given or received any unauthorized assistance on this assignment. \n"
      ]
    },
    {
      "cell_type": "markdown",
      "metadata": {
        "id": "EN1bKpHZ6Cna"
      },
      "source": [
        "\n",
        "## Project Description\n",
        "\n",
        "For this project we will be exploring publicly available data from [LendingClub.com](www.lendingclub.com).  \n",
        "Lending Club connects people who need money (borrowers) with people who have money (investors).   \n",
        "Hopefully, as an investor you would want to invest in people who showed a profile of having a high probability of paying you back. We will try to create a model that will help predict this.\n",
        "\n",
        "Check out more info on Lending Club on [Wikipedia](https://en.wikipedia.org/wiki/Lending_Club). Lending Club also had a [very interesting year in 2016](https://en.wikipedia.org/wiki/Lending_Club#2016).\n",
        "\n",
        "This dataset is from before they went public.\n",
        "\n",
        "We will use lending data from 2007-2010 and will try to classify and predict whether or not the borrower paid back their loan in full. You will analyze the data file provided. \n",
        "\n",
        "Here are what the columns represent:\n",
        "* credit.policy: 1 if the customer meets the credit underwriting criteria of LendingClub.com, and 0 otherwise.\n",
        "* purpose: The purpose of the loan (takes values \"credit_card\", \"debt_consolidation\", \"educational\", \"major_purchase\", \"small_business\", and \"all_other\").\n",
        "* int.rate: The interest rate of the loan, as a proportion (a rate of 11% would be stored as 0.11). Borrowers judged by LendingClub.com to be more risky are assigned higher interest rates.\n",
        "* installment: The monthly installments owed by the borrower if the loan is funded.\n",
        "* log.annual.inc: The natural log of the self-reported annual income of the borrower.\n",
        "* dti: The debt-to-income ratio of the borrower (amount of debt divided by annual income).\n",
        "* fico: The FICO credit score of the borrower.\n",
        "* days.with.cr.line: The number of days the borrower has had a credit line.\n",
        "* revol.bal: The borrower's revolving balance (amount unpaid at the end of the credit card billing cycle).\n",
        "* revol.util: The borrower's revolving line utilization rate (the amount of the credit line used relative to total credit available).\n",
        "* inq.last.6mths: The borrower's number of inquiries by creditors in the last 6 months.\n",
        "* delinq.2yrs: The number of times the borrower had been 30+ days past due on a payment in the past 2 years.\n",
        "* pub.rec: The borrower's number of derogatory public records (bankruptcy filings, tax liens, or judgments).\n",
        "* not.fully.paid: Whether the loan was paid back or not."
      ]
    },
    {
      "cell_type": "markdown",
      "metadata": {
        "id": "k6AOQPyE6Cna"
      },
      "source": [
        "## Import Libraries\n",
        "\n",
        "**Import the usual libraries for pandas and plotting, and sklearn.**"
      ]
    },
    {
      "cell_type": "code",
      "execution_count": 1,
      "metadata": {
        "id": "HpHFalCq6Cnb"
      },
      "outputs": [],
      "source": [
        "import warnings\n",
        "warnings.filterwarnings(\"ignore\")"
      ]
    },
    {
      "cell_type": "code",
      "execution_count": 2,
      "metadata": {
        "id": "kxrdMPDf6Cnc"
      },
      "outputs": [],
      "source": [
        "%config InlineBackend.figure_format ='retina'\n",
        "RANDOM_STATE = 42"
      ]
    },
    {
      "cell_type": "code",
      "execution_count": 3,
      "metadata": {
        "id": "-RYzPBae6Cnc"
      },
      "outputs": [],
      "source": [
        "import pandas as pd\n",
        "import numpy as np\n",
        "import matplotlib.pyplot as plt\n",
        "import seaborn as sns\n",
        "\n",
        "from sklearn import metrics"
      ]
    },
    {
      "cell_type": "code",
      "execution_count": 4,
      "metadata": {
        "colab": {
          "base_uri": "https://localhost:8080/",
          "height": 35
        },
        "id": "Y6ax-diG6Cnc",
        "outputId": "494e5be4-242c-45fb-bb25-fd04c100d947"
      },
      "outputs": [
        {
          "output_type": "execute_result",
          "data": {
            "text/plain": [
              "'1.0.2'"
            ],
            "application/vnd.google.colaboratory.intrinsic+json": {
              "type": "string"
            }
          },
          "metadata": {},
          "execution_count": 4
        }
      ],
      "source": [
        "import sklearn\n",
        "sklearn.__version__"
      ]
    },
    {
      "cell_type": "code",
      "execution_count": 5,
      "metadata": {
        "id": "7YVJ1ymN6Cnd"
      },
      "outputs": [],
      "source": [
        "pd.set_option('display.max_columns', 100)"
      ]
    },
    {
      "cell_type": "markdown",
      "metadata": {
        "id": "DUgqt7X36Cnd"
      },
      "source": [
        "### These are the packages I used"
      ]
    },
    {
      "cell_type": "code",
      "execution_count": null,
      "metadata": {
        "id": "bTgL0GPk6Cnd"
      },
      "outputs": [],
      "source": [
        "# Your package imports here"
      ]
    },
    {
      "cell_type": "markdown",
      "metadata": {
        "id": "Z3ZzniJs6Cne"
      },
      "source": [
        "# Q1\n",
        "- Read in the dataset `loan_data.csv`\n",
        "- How many rows and variables are there?\n",
        "- What are the unique values of `not.fully.paid`?\n",
        "- `not.fully.paid` having a value of 1 means that the person who took the loan did not fully pay it back. What's the proportion of those people in the full dataset?"
      ]
    },
    {
      "cell_type": "markdown",
      "metadata": {
        "id": "uiIOL-r56Cne"
      },
      "source": [
        "## Get the Data\n",
        "\n",
        "**Use pandas to read in the datasets as a dataframe.**"
      ]
    },
    {
      "cell_type": "code",
      "execution_count": 7,
      "metadata": {
        "id": "lVg-2sgk6Cne"
      },
      "outputs": [],
      "source": [
        "loans = pd.read_csv('loans.csv')"
      ]
    },
    {
      "cell_type": "markdown",
      "metadata": {
        "id": "HN933RPl6Cne"
      },
      "source": [
        "**Check out the info(), head(), and describe() methods on loans.**"
      ]
    },
    {
      "cell_type": "code",
      "execution_count": 8,
      "metadata": {
        "colab": {
          "base_uri": "https://localhost:8080/"
        },
        "id": "Zb55lCXx6Cne",
        "outputId": "191db367-d211-4b60-96f7-8486e8d91e49"
      },
      "outputs": [
        {
          "output_type": "stream",
          "name": "stdout",
          "text": [
            "<class 'pandas.core.frame.DataFrame'>\n",
            "RangeIndex: 2981 entries, 0 to 2980\n",
            "Data columns (total 14 columns):\n",
            " #   Column             Non-Null Count  Dtype  \n",
            "---  ------             --------------  -----  \n",
            " 0   credit.policy      2981 non-null   int64  \n",
            " 1   purpose            2981 non-null   object \n",
            " 2   int.rate           2981 non-null   float64\n",
            " 3   installment        2981 non-null   float64\n",
            " 4   log.annual.inc     2981 non-null   float64\n",
            " 5   dti                2981 non-null   float64\n",
            " 6   fico               2981 non-null   int64  \n",
            " 7   days.with.cr.line  2981 non-null   float64\n",
            " 8   revol.bal          2981 non-null   int64  \n",
            " 9   revol.util         2981 non-null   float64\n",
            " 10  inq.last.6mths     2981 non-null   int64  \n",
            " 11  delinq.2yrs        2981 non-null   int64  \n",
            " 12  pub.rec            2981 non-null   int64  \n",
            " 13  not.fully.paid     2981 non-null   int64  \n",
            "dtypes: float64(6), int64(7), object(1)\n",
            "memory usage: 326.2+ KB\n"
          ]
        }
      ],
      "source": [
        "loans.info()"
      ]
    },
    {
      "cell_type": "markdown",
      "source": [
        "2981 Rows, 14 variables (columns)"
      ],
      "metadata": {
        "id": "nye6nPu07TO4"
      }
    },
    {
      "cell_type": "code",
      "execution_count": 9,
      "metadata": {
        "colab": {
          "base_uri": "https://localhost:8080/",
          "height": 270
        },
        "id": "VGrl0ecf6Cnf",
        "outputId": "d0de7b26-4c47-42c5-bc19-e0ed5fde595f"
      },
      "outputs": [
        {
          "output_type": "execute_result",
          "data": {
            "text/plain": [
              "   credit.policy             purpose  int.rate  installment  log.annual.inc  \\\n",
              "0              1  debt_consolidation    0.1183       231.94       10.348846   \n",
              "1              1      major_purchase    0.0774       124.88       11.264464   \n",
              "2              1         credit_card    0.1505        86.73       11.184421   \n",
              "3              1  debt_consolidation    0.1284       403.42       10.736397   \n",
              "4              1  debt_consolidation    0.1531       278.53       10.621327   \n",
              "\n",
              "     dti  fico  days.with.cr.line  revol.bal  revol.util  inq.last.6mths  \\\n",
              "0   5.69   712        2460.958333       6955        63.8               1   \n",
              "1   7.17   792        6360.041667        168         0.7               0   \n",
              "2  16.30   667        3600.000000      16242        95.5               0   \n",
              "3  19.57   697        3450.041667      27261        87.4               1   \n",
              "4   8.20   662        1860.000000       7979        48.7               0   \n",
              "\n",
              "   delinq.2yrs  pub.rec  not.fully.paid  \n",
              "0            0        0               0  \n",
              "1            0        0               0  \n",
              "2            0        0               0  \n",
              "3            0        0               0  \n",
              "4            1        0               0  "
            ],
            "text/html": [
              "\n",
              "  <div id=\"df-b104c92e-42d1-41fc-af9b-244f305359d3\">\n",
              "    <div class=\"colab-df-container\">\n",
              "      <div>\n",
              "<style scoped>\n",
              "    .dataframe tbody tr th:only-of-type {\n",
              "        vertical-align: middle;\n",
              "    }\n",
              "\n",
              "    .dataframe tbody tr th {\n",
              "        vertical-align: top;\n",
              "    }\n",
              "\n",
              "    .dataframe thead th {\n",
              "        text-align: right;\n",
              "    }\n",
              "</style>\n",
              "<table border=\"1\" class=\"dataframe\">\n",
              "  <thead>\n",
              "    <tr style=\"text-align: right;\">\n",
              "      <th></th>\n",
              "      <th>credit.policy</th>\n",
              "      <th>purpose</th>\n",
              "      <th>int.rate</th>\n",
              "      <th>installment</th>\n",
              "      <th>log.annual.inc</th>\n",
              "      <th>dti</th>\n",
              "      <th>fico</th>\n",
              "      <th>days.with.cr.line</th>\n",
              "      <th>revol.bal</th>\n",
              "      <th>revol.util</th>\n",
              "      <th>inq.last.6mths</th>\n",
              "      <th>delinq.2yrs</th>\n",
              "      <th>pub.rec</th>\n",
              "      <th>not.fully.paid</th>\n",
              "    </tr>\n",
              "  </thead>\n",
              "  <tbody>\n",
              "    <tr>\n",
              "      <th>0</th>\n",
              "      <td>1</td>\n",
              "      <td>debt_consolidation</td>\n",
              "      <td>0.1183</td>\n",
              "      <td>231.94</td>\n",
              "      <td>10.348846</td>\n",
              "      <td>5.69</td>\n",
              "      <td>712</td>\n",
              "      <td>2460.958333</td>\n",
              "      <td>6955</td>\n",
              "      <td>63.8</td>\n",
              "      <td>1</td>\n",
              "      <td>0</td>\n",
              "      <td>0</td>\n",
              "      <td>0</td>\n",
              "    </tr>\n",
              "    <tr>\n",
              "      <th>1</th>\n",
              "      <td>1</td>\n",
              "      <td>major_purchase</td>\n",
              "      <td>0.0774</td>\n",
              "      <td>124.88</td>\n",
              "      <td>11.264464</td>\n",
              "      <td>7.17</td>\n",
              "      <td>792</td>\n",
              "      <td>6360.041667</td>\n",
              "      <td>168</td>\n",
              "      <td>0.7</td>\n",
              "      <td>0</td>\n",
              "      <td>0</td>\n",
              "      <td>0</td>\n",
              "      <td>0</td>\n",
              "    </tr>\n",
              "    <tr>\n",
              "      <th>2</th>\n",
              "      <td>1</td>\n",
              "      <td>credit_card</td>\n",
              "      <td>0.1505</td>\n",
              "      <td>86.73</td>\n",
              "      <td>11.184421</td>\n",
              "      <td>16.30</td>\n",
              "      <td>667</td>\n",
              "      <td>3600.000000</td>\n",
              "      <td>16242</td>\n",
              "      <td>95.5</td>\n",
              "      <td>0</td>\n",
              "      <td>0</td>\n",
              "      <td>0</td>\n",
              "      <td>0</td>\n",
              "    </tr>\n",
              "    <tr>\n",
              "      <th>3</th>\n",
              "      <td>1</td>\n",
              "      <td>debt_consolidation</td>\n",
              "      <td>0.1284</td>\n",
              "      <td>403.42</td>\n",
              "      <td>10.736397</td>\n",
              "      <td>19.57</td>\n",
              "      <td>697</td>\n",
              "      <td>3450.041667</td>\n",
              "      <td>27261</td>\n",
              "      <td>87.4</td>\n",
              "      <td>1</td>\n",
              "      <td>0</td>\n",
              "      <td>0</td>\n",
              "      <td>0</td>\n",
              "    </tr>\n",
              "    <tr>\n",
              "      <th>4</th>\n",
              "      <td>1</td>\n",
              "      <td>debt_consolidation</td>\n",
              "      <td>0.1531</td>\n",
              "      <td>278.53</td>\n",
              "      <td>10.621327</td>\n",
              "      <td>8.20</td>\n",
              "      <td>662</td>\n",
              "      <td>1860.000000</td>\n",
              "      <td>7979</td>\n",
              "      <td>48.7</td>\n",
              "      <td>0</td>\n",
              "      <td>1</td>\n",
              "      <td>0</td>\n",
              "      <td>0</td>\n",
              "    </tr>\n",
              "  </tbody>\n",
              "</table>\n",
              "</div>\n",
              "      <button class=\"colab-df-convert\" onclick=\"convertToInteractive('df-b104c92e-42d1-41fc-af9b-244f305359d3')\"\n",
              "              title=\"Convert this dataframe to an interactive table.\"\n",
              "              style=\"display:none;\">\n",
              "        \n",
              "  <svg xmlns=\"http://www.w3.org/2000/svg\" height=\"24px\"viewBox=\"0 0 24 24\"\n",
              "       width=\"24px\">\n",
              "    <path d=\"M0 0h24v24H0V0z\" fill=\"none\"/>\n",
              "    <path d=\"M18.56 5.44l.94 2.06.94-2.06 2.06-.94-2.06-.94-.94-2.06-.94 2.06-2.06.94zm-11 1L8.5 8.5l.94-2.06 2.06-.94-2.06-.94L8.5 2.5l-.94 2.06-2.06.94zm10 10l.94 2.06.94-2.06 2.06-.94-2.06-.94-.94-2.06-.94 2.06-2.06.94z\"/><path d=\"M17.41 7.96l-1.37-1.37c-.4-.4-.92-.59-1.43-.59-.52 0-1.04.2-1.43.59L10.3 9.45l-7.72 7.72c-.78.78-.78 2.05 0 2.83L4 21.41c.39.39.9.59 1.41.59.51 0 1.02-.2 1.41-.59l7.78-7.78 2.81-2.81c.8-.78.8-2.07 0-2.86zM5.41 20L4 18.59l7.72-7.72 1.47 1.35L5.41 20z\"/>\n",
              "  </svg>\n",
              "      </button>\n",
              "      \n",
              "  <style>\n",
              "    .colab-df-container {\n",
              "      display:flex;\n",
              "      flex-wrap:wrap;\n",
              "      gap: 12px;\n",
              "    }\n",
              "\n",
              "    .colab-df-convert {\n",
              "      background-color: #E8F0FE;\n",
              "      border: none;\n",
              "      border-radius: 50%;\n",
              "      cursor: pointer;\n",
              "      display: none;\n",
              "      fill: #1967D2;\n",
              "      height: 32px;\n",
              "      padding: 0 0 0 0;\n",
              "      width: 32px;\n",
              "    }\n",
              "\n",
              "    .colab-df-convert:hover {\n",
              "      background-color: #E2EBFA;\n",
              "      box-shadow: 0px 1px 2px rgba(60, 64, 67, 0.3), 0px 1px 3px 1px rgba(60, 64, 67, 0.15);\n",
              "      fill: #174EA6;\n",
              "    }\n",
              "\n",
              "    [theme=dark] .colab-df-convert {\n",
              "      background-color: #3B4455;\n",
              "      fill: #D2E3FC;\n",
              "    }\n",
              "\n",
              "    [theme=dark] .colab-df-convert:hover {\n",
              "      background-color: #434B5C;\n",
              "      box-shadow: 0px 1px 3px 1px rgba(0, 0, 0, 0.15);\n",
              "      filter: drop-shadow(0px 1px 2px rgba(0, 0, 0, 0.3));\n",
              "      fill: #FFFFFF;\n",
              "    }\n",
              "  </style>\n",
              "\n",
              "      <script>\n",
              "        const buttonEl =\n",
              "          document.querySelector('#df-b104c92e-42d1-41fc-af9b-244f305359d3 button.colab-df-convert');\n",
              "        buttonEl.style.display =\n",
              "          google.colab.kernel.accessAllowed ? 'block' : 'none';\n",
              "\n",
              "        async function convertToInteractive(key) {\n",
              "          const element = document.querySelector('#df-b104c92e-42d1-41fc-af9b-244f305359d3');\n",
              "          const dataTable =\n",
              "            await google.colab.kernel.invokeFunction('convertToInteractive',\n",
              "                                                     [key], {});\n",
              "          if (!dataTable) return;\n",
              "\n",
              "          const docLinkHtml = 'Like what you see? Visit the ' +\n",
              "            '<a target=\"_blank\" href=https://colab.research.google.com/notebooks/data_table.ipynb>data table notebook</a>'\n",
              "            + ' to learn more about interactive tables.';\n",
              "          element.innerHTML = '';\n",
              "          dataTable['output_type'] = 'display_data';\n",
              "          await google.colab.output.renderOutput(dataTable, element);\n",
              "          const docLink = document.createElement('div');\n",
              "          docLink.innerHTML = docLinkHtml;\n",
              "          element.appendChild(docLink);\n",
              "        }\n",
              "      </script>\n",
              "    </div>\n",
              "  </div>\n",
              "  "
            ]
          },
          "metadata": {},
          "execution_count": 9
        }
      ],
      "source": [
        "loans.head()"
      ]
    },
    {
      "cell_type": "code",
      "execution_count": 9,
      "metadata": {
        "colab": {
          "base_uri": "https://localhost:8080/",
          "height": 364
        },
        "id": "zD-DUKnB6Cnf",
        "outputId": "1f6eff8e-21e9-4741-eaf7-e34e74ec9e1f"
      },
      "outputs": [
        {
          "output_type": "execute_result",
          "data": {
            "text/plain": [
              "       credit.policy     int.rate  installment  log.annual.inc          dti  \\\n",
              "count    2981.000000  2981.000000  2981.000000     2981.000000  2981.000000   \n",
              "mean        0.748071     0.125977   326.020778       10.898762    12.794119   \n",
              "std         0.434193     0.026565   213.108504        0.650773     6.986455   \n",
              "min         0.000000     0.060000    15.670000        7.547502     0.000000   \n",
              "25%         0.000000     0.109600   165.630000       10.498250     7.170000   \n",
              "50%         1.000000     0.125300   275.570000       10.915088    12.870000   \n",
              "75%         1.000000     0.142600   457.050000       11.289782    18.350000   \n",
              "max         1.000000     0.216400   926.830000       14.124465    29.960000   \n",
              "\n",
              "              fico  days.with.cr.line     revol.bal   revol.util  \\\n",
              "count  2981.000000        2981.000000  2.981000e+03  2981.000000   \n",
              "mean    705.839316        4460.703008  1.826035e+04    48.442170   \n",
              "std      37.073906        2486.531742  4.029009e+04    29.251287   \n",
              "min     612.000000         180.041667  0.000000e+00     0.000000   \n",
              "25%     677.000000        2760.041667  2.979000e+03    24.700000   \n",
              "50%     702.000000        4043.000000  8.493000e+03    48.800000   \n",
              "75%     732.000000        5640.041667  1.853800e+04    72.500000   \n",
              "max     817.000000       17616.000000  1.207359e+06   119.000000   \n",
              "\n",
              "       inq.last.6mths  delinq.2yrs      pub.rec  not.fully.paid  \n",
              "count     2981.000000  2981.000000  2981.000000     2981.000000  \n",
              "mean         1.868165     0.171419     0.073465        0.480711  \n",
              "std          2.567033     0.526928     0.271035        0.499712  \n",
              "min          0.000000     0.000000     0.000000        0.000000  \n",
              "25%          0.000000     0.000000     0.000000        0.000000  \n",
              "50%          1.000000     0.000000     0.000000        0.000000  \n",
              "75%          3.000000     0.000000     0.000000        1.000000  \n",
              "max         33.000000     6.000000     3.000000        1.000000  "
            ],
            "text/html": [
              "\n",
              "  <div id=\"df-92f9f0f4-6b4e-4f16-be59-5d2df1f62072\">\n",
              "    <div class=\"colab-df-container\">\n",
              "      <div>\n",
              "<style scoped>\n",
              "    .dataframe tbody tr th:only-of-type {\n",
              "        vertical-align: middle;\n",
              "    }\n",
              "\n",
              "    .dataframe tbody tr th {\n",
              "        vertical-align: top;\n",
              "    }\n",
              "\n",
              "    .dataframe thead th {\n",
              "        text-align: right;\n",
              "    }\n",
              "</style>\n",
              "<table border=\"1\" class=\"dataframe\">\n",
              "  <thead>\n",
              "    <tr style=\"text-align: right;\">\n",
              "      <th></th>\n",
              "      <th>credit.policy</th>\n",
              "      <th>int.rate</th>\n",
              "      <th>installment</th>\n",
              "      <th>log.annual.inc</th>\n",
              "      <th>dti</th>\n",
              "      <th>fico</th>\n",
              "      <th>days.with.cr.line</th>\n",
              "      <th>revol.bal</th>\n",
              "      <th>revol.util</th>\n",
              "      <th>inq.last.6mths</th>\n",
              "      <th>delinq.2yrs</th>\n",
              "      <th>pub.rec</th>\n",
              "      <th>not.fully.paid</th>\n",
              "    </tr>\n",
              "  </thead>\n",
              "  <tbody>\n",
              "    <tr>\n",
              "      <th>count</th>\n",
              "      <td>2981.000000</td>\n",
              "      <td>2981.000000</td>\n",
              "      <td>2981.000000</td>\n",
              "      <td>2981.000000</td>\n",
              "      <td>2981.000000</td>\n",
              "      <td>2981.000000</td>\n",
              "      <td>2981.000000</td>\n",
              "      <td>2.981000e+03</td>\n",
              "      <td>2981.000000</td>\n",
              "      <td>2981.000000</td>\n",
              "      <td>2981.000000</td>\n",
              "      <td>2981.000000</td>\n",
              "      <td>2981.000000</td>\n",
              "    </tr>\n",
              "    <tr>\n",
              "      <th>mean</th>\n",
              "      <td>0.748071</td>\n",
              "      <td>0.125977</td>\n",
              "      <td>326.020778</td>\n",
              "      <td>10.898762</td>\n",
              "      <td>12.794119</td>\n",
              "      <td>705.839316</td>\n",
              "      <td>4460.703008</td>\n",
              "      <td>1.826035e+04</td>\n",
              "      <td>48.442170</td>\n",
              "      <td>1.868165</td>\n",
              "      <td>0.171419</td>\n",
              "      <td>0.073465</td>\n",
              "      <td>0.480711</td>\n",
              "    </tr>\n",
              "    <tr>\n",
              "      <th>std</th>\n",
              "      <td>0.434193</td>\n",
              "      <td>0.026565</td>\n",
              "      <td>213.108504</td>\n",
              "      <td>0.650773</td>\n",
              "      <td>6.986455</td>\n",
              "      <td>37.073906</td>\n",
              "      <td>2486.531742</td>\n",
              "      <td>4.029009e+04</td>\n",
              "      <td>29.251287</td>\n",
              "      <td>2.567033</td>\n",
              "      <td>0.526928</td>\n",
              "      <td>0.271035</td>\n",
              "      <td>0.499712</td>\n",
              "    </tr>\n",
              "    <tr>\n",
              "      <th>min</th>\n",
              "      <td>0.000000</td>\n",
              "      <td>0.060000</td>\n",
              "      <td>15.670000</td>\n",
              "      <td>7.547502</td>\n",
              "      <td>0.000000</td>\n",
              "      <td>612.000000</td>\n",
              "      <td>180.041667</td>\n",
              "      <td>0.000000e+00</td>\n",
              "      <td>0.000000</td>\n",
              "      <td>0.000000</td>\n",
              "      <td>0.000000</td>\n",
              "      <td>0.000000</td>\n",
              "      <td>0.000000</td>\n",
              "    </tr>\n",
              "    <tr>\n",
              "      <th>25%</th>\n",
              "      <td>0.000000</td>\n",
              "      <td>0.109600</td>\n",
              "      <td>165.630000</td>\n",
              "      <td>10.498250</td>\n",
              "      <td>7.170000</td>\n",
              "      <td>677.000000</td>\n",
              "      <td>2760.041667</td>\n",
              "      <td>2.979000e+03</td>\n",
              "      <td>24.700000</td>\n",
              "      <td>0.000000</td>\n",
              "      <td>0.000000</td>\n",
              "      <td>0.000000</td>\n",
              "      <td>0.000000</td>\n",
              "    </tr>\n",
              "    <tr>\n",
              "      <th>50%</th>\n",
              "      <td>1.000000</td>\n",
              "      <td>0.125300</td>\n",
              "      <td>275.570000</td>\n",
              "      <td>10.915088</td>\n",
              "      <td>12.870000</td>\n",
              "      <td>702.000000</td>\n",
              "      <td>4043.000000</td>\n",
              "      <td>8.493000e+03</td>\n",
              "      <td>48.800000</td>\n",
              "      <td>1.000000</td>\n",
              "      <td>0.000000</td>\n",
              "      <td>0.000000</td>\n",
              "      <td>0.000000</td>\n",
              "    </tr>\n",
              "    <tr>\n",
              "      <th>75%</th>\n",
              "      <td>1.000000</td>\n",
              "      <td>0.142600</td>\n",
              "      <td>457.050000</td>\n",
              "      <td>11.289782</td>\n",
              "      <td>18.350000</td>\n",
              "      <td>732.000000</td>\n",
              "      <td>5640.041667</td>\n",
              "      <td>1.853800e+04</td>\n",
              "      <td>72.500000</td>\n",
              "      <td>3.000000</td>\n",
              "      <td>0.000000</td>\n",
              "      <td>0.000000</td>\n",
              "      <td>1.000000</td>\n",
              "    </tr>\n",
              "    <tr>\n",
              "      <th>max</th>\n",
              "      <td>1.000000</td>\n",
              "      <td>0.216400</td>\n",
              "      <td>926.830000</td>\n",
              "      <td>14.124465</td>\n",
              "      <td>29.960000</td>\n",
              "      <td>817.000000</td>\n",
              "      <td>17616.000000</td>\n",
              "      <td>1.207359e+06</td>\n",
              "      <td>119.000000</td>\n",
              "      <td>33.000000</td>\n",
              "      <td>6.000000</td>\n",
              "      <td>3.000000</td>\n",
              "      <td>1.000000</td>\n",
              "    </tr>\n",
              "  </tbody>\n",
              "</table>\n",
              "</div>\n",
              "      <button class=\"colab-df-convert\" onclick=\"convertToInteractive('df-92f9f0f4-6b4e-4f16-be59-5d2df1f62072')\"\n",
              "              title=\"Convert this dataframe to an interactive table.\"\n",
              "              style=\"display:none;\">\n",
              "        \n",
              "  <svg xmlns=\"http://www.w3.org/2000/svg\" height=\"24px\"viewBox=\"0 0 24 24\"\n",
              "       width=\"24px\">\n",
              "    <path d=\"M0 0h24v24H0V0z\" fill=\"none\"/>\n",
              "    <path d=\"M18.56 5.44l.94 2.06.94-2.06 2.06-.94-2.06-.94-.94-2.06-.94 2.06-2.06.94zm-11 1L8.5 8.5l.94-2.06 2.06-.94-2.06-.94L8.5 2.5l-.94 2.06-2.06.94zm10 10l.94 2.06.94-2.06 2.06-.94-2.06-.94-.94-2.06-.94 2.06-2.06.94z\"/><path d=\"M17.41 7.96l-1.37-1.37c-.4-.4-.92-.59-1.43-.59-.52 0-1.04.2-1.43.59L10.3 9.45l-7.72 7.72c-.78.78-.78 2.05 0 2.83L4 21.41c.39.39.9.59 1.41.59.51 0 1.02-.2 1.41-.59l7.78-7.78 2.81-2.81c.8-.78.8-2.07 0-2.86zM5.41 20L4 18.59l7.72-7.72 1.47 1.35L5.41 20z\"/>\n",
              "  </svg>\n",
              "      </button>\n",
              "      \n",
              "  <style>\n",
              "    .colab-df-container {\n",
              "      display:flex;\n",
              "      flex-wrap:wrap;\n",
              "      gap: 12px;\n",
              "    }\n",
              "\n",
              "    .colab-df-convert {\n",
              "      background-color: #E8F0FE;\n",
              "      border: none;\n",
              "      border-radius: 50%;\n",
              "      cursor: pointer;\n",
              "      display: none;\n",
              "      fill: #1967D2;\n",
              "      height: 32px;\n",
              "      padding: 0 0 0 0;\n",
              "      width: 32px;\n",
              "    }\n",
              "\n",
              "    .colab-df-convert:hover {\n",
              "      background-color: #E2EBFA;\n",
              "      box-shadow: 0px 1px 2px rgba(60, 64, 67, 0.3), 0px 1px 3px 1px rgba(60, 64, 67, 0.15);\n",
              "      fill: #174EA6;\n",
              "    }\n",
              "\n",
              "    [theme=dark] .colab-df-convert {\n",
              "      background-color: #3B4455;\n",
              "      fill: #D2E3FC;\n",
              "    }\n",
              "\n",
              "    [theme=dark] .colab-df-convert:hover {\n",
              "      background-color: #434B5C;\n",
              "      box-shadow: 0px 1px 3px 1px rgba(0, 0, 0, 0.15);\n",
              "      filter: drop-shadow(0px 1px 2px rgba(0, 0, 0, 0.3));\n",
              "      fill: #FFFFFF;\n",
              "    }\n",
              "  </style>\n",
              "\n",
              "      <script>\n",
              "        const buttonEl =\n",
              "          document.querySelector('#df-92f9f0f4-6b4e-4f16-be59-5d2df1f62072 button.colab-df-convert');\n",
              "        buttonEl.style.display =\n",
              "          google.colab.kernel.accessAllowed ? 'block' : 'none';\n",
              "\n",
              "        async function convertToInteractive(key) {\n",
              "          const element = document.querySelector('#df-92f9f0f4-6b4e-4f16-be59-5d2df1f62072');\n",
              "          const dataTable =\n",
              "            await google.colab.kernel.invokeFunction('convertToInteractive',\n",
              "                                                     [key], {});\n",
              "          if (!dataTable) return;\n",
              "\n",
              "          const docLinkHtml = 'Like what you see? Visit the ' +\n",
              "            '<a target=\"_blank\" href=https://colab.research.google.com/notebooks/data_table.ipynb>data table notebook</a>'\n",
              "            + ' to learn more about interactive tables.';\n",
              "          element.innerHTML = '';\n",
              "          dataTable['output_type'] = 'display_data';\n",
              "          await google.colab.output.renderOutput(dataTable, element);\n",
              "          const docLink = document.createElement('div');\n",
              "          docLink.innerHTML = docLinkHtml;\n",
              "          element.appendChild(docLink);\n",
              "        }\n",
              "      </script>\n",
              "    </div>\n",
              "  </div>\n",
              "  "
            ]
          },
          "metadata": {},
          "execution_count": 9
        }
      ],
      "source": [
        "loans.describe()"
      ]
    },
    {
      "cell_type": "code",
      "execution_count": 10,
      "metadata": {
        "colab": {
          "base_uri": "https://localhost:8080/"
        },
        "id": "LbD83P5p6Cnf",
        "outputId": "160ed9a8-b4aa-4ac4-c34e-f61e2a91c8ae"
      },
      "outputs": [
        {
          "output_type": "execute_result",
          "data": {
            "text/plain": [
              "array([0, 1])"
            ]
          },
          "metadata": {},
          "execution_count": 10
        }
      ],
      "source": [
        "loans['not.fully.paid'].unique()"
      ]
    },
    {
      "cell_type": "markdown",
      "source": [
        "Unique values of not.fully.paid are 0, 1"
      ],
      "metadata": {
        "id": "ir7RhqwJ888L"
      }
    },
    {
      "cell_type": "code",
      "source": [
        "loans['not.fully.paid'].value_counts(normalize=True)"
      ],
      "metadata": {
        "colab": {
          "base_uri": "https://localhost:8080/"
        },
        "id": "pb6lDcaB9A-O",
        "outputId": "9143d638-8358-4944-fb1a-fba11431e05a"
      },
      "execution_count": 11,
      "outputs": [
        {
          "output_type": "execute_result",
          "data": {
            "text/plain": [
              "0    0.519289\n",
              "1    0.480711\n",
              "Name: not.fully.paid, dtype: float64"
            ]
          },
          "metadata": {},
          "execution_count": 11
        }
      ]
    },
    {
      "cell_type": "markdown",
      "source": [
        "Proportion of people who took the loan and did not fully pay it back is 0.48 or 48%"
      ],
      "metadata": {
        "id": "fU4VMOKx9x9y"
      }
    },
    {
      "cell_type": "markdown",
      "metadata": {
        "id": "xz7RrFDB6Cnf"
      },
      "source": [
        "# Q2\n",
        "- Visual and Exploratory Analysis\n",
        "- Carry out the tasks given below"
      ]
    },
    {
      "cell_type": "markdown",
      "metadata": {
        "id": "__RgILaZ6Cnf"
      },
      "source": [
        "## Exploratory Data Analysis\n",
        "\n",
        "- Let's do some data visualization! \n",
        "- You can use many different visualization libraries inclusing matplotlib, seaborn, pandasand many more. Feel free to use whatever library you want. Don't worry about the colors matching, just worry about getting the main idea of the plot.\n",
        "\n",
        "**Create a histogram of two FICO distributions on top of each other, one for each credit.policy outcome.**\n",
        "\n",
        "*Note: You'll probably need one line of code for each histogram, I also recommend just using pandas built in .hist()*"
      ]
    },
    {
      "cell_type": "code",
      "execution_count": 12,
      "metadata": {
        "colab": {
          "base_uri": "https://localhost:8080/",
          "height": 278
        },
        "id": "uk5MqQVI6Cnf",
        "outputId": "c9571f12-dd86-44a9-8873-69f112c1673b"
      },
      "outputs": [
        {
          "output_type": "display_data",
          "data": {
            "text/plain": [
              "<Figure size 432x288 with 1 Axes>"
            ],
            "image/png": "[encoded data removed]"
          },
          "metadata": {
            "image/png": {
              "width": 382,
              "height": 261
            },
            "needs_background": "light"
          }
        }
      ],
      "source": [
        "cred1 = loans['credit.policy']==1\n",
        "cred0 = loans['credit.policy']==0\n",
        "plt.hist(loans['fico'][cred1],color='blue',rwidth=0.9,alpha=0.5,label='credit.policy = 1')\n",
        "plt.hist(loans['fico'][cred0],color='red',rwidth=0.9,alpha=0.5,label='credit.policy = 0')\n",
        "plt.legend(loc='upper right')\n",
        "plt.xlabel('FICO') \n",
        "plt.show()"
      ]
    },
    {
      "cell_type": "code",
      "execution_count": 13,
      "metadata": {
        "colab": {
          "base_uri": "https://localhost:8080/",
          "height": 296
        },
        "id": "5MQ_z0o76Cng",
        "outputId": "e2417b5b-f382-48bd-a73d-757224a2b1c3"
      },
      "outputs": [
        {
          "output_type": "execute_result",
          "data": {
            "text/plain": [
              "<matplotlib.axes._subplots.AxesSubplot at 0x7f7da0e6ba00>"
            ]
          },
          "metadata": {},
          "execution_count": 13
        },
        {
          "output_type": "display_data",
          "data": {
            "text/plain": [
              "<Figure size 432x288 with 1 Axes>"
            ],
            "image/png": "[encoded data removed]"
          },
          "metadata": {
            "image/png": {
              "width": 388,
              "height": 261
            },
            "needs_background": "light"
          }
        }
      ],
      "source": [
        "sns.histplot(data=loans, x=\"fico\", hue=\"credit.policy\")"
      ]
    },
    {
      "cell_type": "markdown",
      "metadata": {
        "id": "XMpnzQIu6Cng"
      },
      "source": [
        "**Create another histogram for `not.fully.paid` column.**"
      ]
    },
    {
      "cell_type": "code",
      "execution_count": 14,
      "metadata": {
        "colab": {
          "base_uri": "https://localhost:8080/",
          "height": 296
        },
        "id": "sz8OI6Xb6Cng",
        "outputId": "8ed98eb2-06e6-4aa9-bd3d-756053e6d990"
      },
      "outputs": [
        {
          "output_type": "execute_result",
          "data": {
            "text/plain": [
              "<matplotlib.axes._subplots.AxesSubplot at 0x7f7da07fa850>"
            ]
          },
          "metadata": {},
          "execution_count": 14
        },
        {
          "output_type": "display_data",
          "data": {
            "text/plain": [
              "<Figure size 432x288 with 1 Axes>"
            ],
            "image/png": "[encoded data removed]"
          },
          "metadata": {
            "image/png": {
              "width": 388,
              "height": 261
            },
            "needs_background": "light"
          }
        }
      ],
      "source": [
        "sns.histplot(data=loans, x=\"fico\", hue=\"not.fully.paid\")"
      ]
    },
    {
      "cell_type": "markdown",
      "metadata": {
        "id": "bEZviyCg6Cng"
      },
      "source": [
        "**Create a countplot (bar plot showing counts using seaborn) that shows the counts of loans by purpose, with the color hue defined by `not.fully.paid`**"
      ]
    },
    {
      "cell_type": "code",
      "execution_count": 15,
      "metadata": {
        "colab": {
          "base_uri": "https://localhost:8080/",
          "height": 296
        },
        "id": "zaIayzv56Cng",
        "outputId": "f260abef-cfda-4e7a-c96e-d08bbd94f26e"
      },
      "outputs": [
        {
          "output_type": "execute_result",
          "data": {
            "text/plain": [
              "<matplotlib.axes._subplots.AxesSubplot at 0x7f7da08cebe0>"
            ]
          },
          "metadata": {},
          "execution_count": 15
        },
        {
          "output_type": "display_data",
          "data": {
            "text/plain": [
              "<Figure size 432x288 with 1 Axes>"
            ],
            "image/png": "[encoded data removed]"
          },
          "metadata": {
            "image/png": {
              "width": 470,
              "height": 261
            },
            "needs_background": "light"
          }
        }
      ],
      "source": [
        "sns.countplot(data=loans, y=\"purpose\", hue=\"not.fully.paid\")"
      ]
    },
    {
      "cell_type": "markdown",
      "metadata": {
        "id": "Gy4iDxLq6Cng"
      },
      "source": [
        "**Let's see the trend between FICO score and interest rate. Recreate the following jointplot.**"
      ]
    },
    {
      "cell_type": "code",
      "execution_count": 16,
      "metadata": {
        "colab": {
          "base_uri": "https://localhost:8080/",
          "height": 458
        },
        "id": "PhI3t1L86Cng",
        "outputId": "025e3405-48f6-4d6e-b7f8-430543c3fbde"
      },
      "outputs": [
        {
          "output_type": "execute_result",
          "data": {
            "text/plain": [
              "<seaborn.axisgrid.JointGrid at 0x7f7da068fcd0>"
            ]
          },
          "metadata": {},
          "execution_count": 16
        },
        {
          "output_type": "display_data",
          "data": {
            "text/plain": [
              "<Figure size 432x432 with 3 Axes>"
            ],
            "image/png": "[encoded data removed]"
          },
          "metadata": {
            "image/png": {
              "width": 430,
              "height": 423
            },
            "needs_background": "light"
          }
        }
      ],
      "source": [
        "sns.jointplot(data=loans, x='fico', y='int.rate', color='green')"
      ]
    },
    {
      "cell_type": "markdown",
      "metadata": {
        "id": "3-1xl3hU6Cng"
      },
      "source": [
        "**Create the following lmplots to see if the trend differed between `not.fully.paid` and `int.rate`. Check the documentation for seaborn `lmplot()` if you can't figure out how to separate it into columns.**"
      ]
    },
    {
      "cell_type": "code",
      "execution_count": 17,
      "metadata": {
        "colab": {
          "base_uri": "https://localhost:8080/",
          "height": 386
        },
        "id": "z30mhz-X6Cng",
        "outputId": "bed63b71-513a-487d-b1e0-aa68360ee327"
      },
      "outputs": [
        {
          "output_type": "execute_result",
          "data": {
            "text/plain": [
              "<seaborn.axisgrid.FacetGrid at 0x7f7ddf00dfd0>"
            ]
          },
          "metadata": {},
          "execution_count": 17
        },
        {
          "output_type": "display_data",
          "data": {
            "text/plain": [
              "<Figure size 789.25x360 with 2 Axes>"
            ],
            "image/png": "[encoded data removed]"
          },
          "metadata": {
            "image/png": {
              "width": 782,
              "height": 351
            },
            "needs_background": "light"
          }
        }
      ],
      "source": [
        "sns.lmplot(data=loans, x='fico', y='int.rate', hue='credit.policy', col='not.fully.paid', palette='RdBu')"
      ]
    },
    {
      "cell_type": "markdown",
      "metadata": {
        "id": "j3Mxqe_D6Cnh"
      },
      "source": [
        "# Q3"
      ]
    },
    {
      "cell_type": "markdown",
      "metadata": {
        "id": "uvRhh-DP6Cnh"
      },
      "source": [
        "## Setting up the Data\n",
        "\n",
        "Let's get ready to set up our data for our models!\n",
        "\n",
        "**This question has already been solved. You don't need to do anything. Just run the cells and continue.**"
      ]
    },
    {
      "cell_type": "code",
      "execution_count": 18,
      "metadata": {
        "colab": {
          "base_uri": "https://localhost:8080/"
        },
        "id": "GTXzu0o96Cnh",
        "outputId": "5be442e3-ebec-447e-f1a9-faf68e0c87ac"
      },
      "outputs": [
        {
          "output_type": "stream",
          "name": "stdout",
          "text": [
            "<class 'pandas.core.frame.DataFrame'>\n",
            "RangeIndex: 2981 entries, 0 to 2980\n",
            "Data columns (total 14 columns):\n",
            " #   Column             Non-Null Count  Dtype  \n",
            "---  ------             --------------  -----  \n",
            " 0   credit.policy      2981 non-null   int64  \n",
            " 1   purpose            2981 non-null   object \n",
            " 2   int.rate           2981 non-null   float64\n",
            " 3   installment        2981 non-null   float64\n",
            " 4   log.annual.inc     2981 non-null   float64\n",
            " 5   dti                2981 non-null   float64\n",
            " 6   fico               2981 non-null   int64  \n",
            " 7   days.with.cr.line  2981 non-null   float64\n",
            " 8   revol.bal          2981 non-null   int64  \n",
            " 9   revol.util         2981 non-null   float64\n",
            " 10  inq.last.6mths     2981 non-null   int64  \n",
            " 11  delinq.2yrs        2981 non-null   int64  \n",
            " 12  pub.rec            2981 non-null   int64  \n",
            " 13  not.fully.paid     2981 non-null   int64  \n",
            "dtypes: float64(6), int64(7), object(1)\n",
            "memory usage: 326.2+ KB\n"
          ]
        }
      ],
      "source": [
        "loans.info()"
      ]
    },
    {
      "cell_type": "markdown",
      "metadata": {
        "id": "5qE4NGq86Cnh"
      },
      "source": [
        "## Categorical Features\n",
        "\n",
        "Notice that the **purpose** column is of categorical type.\n",
        "\n",
        "That means we need to transform them using dummy variables so sklearn will be able to understand them.   \n",
        "\n",
        "Let's do this in one step using pd.get_dummies().\n"
      ]
    },
    {
      "cell_type": "markdown",
      "metadata": {
        "id": "fdKS3KhR6Cnh"
      },
      "source": [
        "> The same transformation needs to be aplied on the test set as well. The easiest way would be to merge train and test sets, and to split after the transformation."
      ]
    },
    {
      "cell_type": "code",
      "execution_count": 19,
      "metadata": {
        "id": "30Q0NpTk6Cnh"
      },
      "outputs": [],
      "source": [
        "cat_feats = ['purpose']"
      ]
    },
    {
      "cell_type": "code",
      "execution_count": 20,
      "metadata": {
        "id": "o5riVKVL6Cnh"
      },
      "outputs": [],
      "source": [
        "loans = pd.get_dummies(loans, columns=cat_feats, drop_first=False)"
      ]
    },
    {
      "cell_type": "code",
      "execution_count": 21,
      "metadata": {
        "colab": {
          "base_uri": "https://localhost:8080/"
        },
        "id": "Udb80ocI6Cnh",
        "outputId": "eab0a3ff-095b-4eb3-a96f-1efb79610f6d"
      },
      "outputs": [
        {
          "output_type": "stream",
          "name": "stdout",
          "text": [
            "<class 'pandas.core.frame.DataFrame'>\n",
            "RangeIndex: 2981 entries, 0 to 2980\n",
            "Data columns (total 20 columns):\n",
            " #   Column                      Non-Null Count  Dtype  \n",
            "---  ------                      --------------  -----  \n",
            " 0   credit.policy               2981 non-null   int64  \n",
            " 1   int.rate                    2981 non-null   float64\n",
            " 2   installment                 2981 non-null   float64\n",
            " 3   log.annual.inc              2981 non-null   float64\n",
            " 4   dti                         2981 non-null   float64\n",
            " 5   fico                        2981 non-null   int64  \n",
            " 6   days.with.cr.line           2981 non-null   float64\n",
            " 7   revol.bal                   2981 non-null   int64  \n",
            " 8   revol.util                  2981 non-null   float64\n",
            " 9   inq.last.6mths              2981 non-null   int64  \n",
            " 10  delinq.2yrs                 2981 non-null   int64  \n",
            " 11  pub.rec                     2981 non-null   int64  \n",
            " 12  not.fully.paid              2981 non-null   int64  \n",
            " 13  purpose_all_other           2981 non-null   uint8  \n",
            " 14  purpose_credit_card         2981 non-null   uint8  \n",
            " 15  purpose_debt_consolidation  2981 non-null   uint8  \n",
            " 16  purpose_educational         2981 non-null   uint8  \n",
            " 17  purpose_home_improvement    2981 non-null   uint8  \n",
            " 18  purpose_major_purchase      2981 non-null   uint8  \n",
            " 19  purpose_small_business      2981 non-null   uint8  \n",
            "dtypes: float64(6), int64(7), uint8(7)\n",
            "memory usage: 323.3 KB\n"
          ]
        }
      ],
      "source": [
        "loans.info()"
      ]
    },
    {
      "cell_type": "code",
      "execution_count": 22,
      "metadata": {
        "colab": {
          "base_uri": "https://localhost:8080/",
          "height": 270
        },
        "id": "O2A7xBW66Cnh",
        "outputId": "c039bc4e-25d6-4fe0-feb2-35dfc5f0fc12"
      },
      "outputs": [
        {
          "output_type": "execute_result",
          "data": {
            "text/plain": [
              "   credit.policy  int.rate  installment  log.annual.inc    dti  fico  \\\n",
              "0              1    0.1183       231.94       10.348846   5.69   712   \n",
              "1              1    0.0774       124.88       11.264464   7.17   792   \n",
              "2              1    0.1505        86.73       11.184421  16.30   667   \n",
              "3              1    0.1284       403.42       10.736397  19.57   697   \n",
              "4              1    0.1531       278.53       10.621327   8.20   662   \n",
              "\n",
              "   days.with.cr.line  revol.bal  revol.util  inq.last.6mths  delinq.2yrs  \\\n",
              "0        2460.958333       6955        63.8               1            0   \n",
              "1        6360.041667        168         0.7               0            0   \n",
              "2        3600.000000      16242        95.5               0            0   \n",
              "3        3450.041667      27261        87.4               1            0   \n",
              "4        1860.000000       7979        48.7               0            1   \n",
              "\n",
              "   pub.rec  not.fully.paid  purpose_all_other  purpose_credit_card  \\\n",
              "0        0               0                  0                    0   \n",
              "1        0               0                  0                    0   \n",
              "2        0               0                  0                    1   \n",
              "3        0               0                  0                    0   \n",
              "4        0               0                  0                    0   \n",
              "\n",
              "   purpose_debt_consolidation  purpose_educational  purpose_home_improvement  \\\n",
              "0                           1                    0                         0   \n",
              "1                           0                    0                         0   \n",
              "2                           0                    0                         0   \n",
              "3                           1                    0                         0   \n",
              "4                           1                    0                         0   \n",
              "\n",
              "   purpose_major_purchase  purpose_small_business  \n",
              "0                       0                       0  \n",
              "1                       1                       0  \n",
              "2                       0                       0  \n",
              "3                       0                       0  \n",
              "4                       0                       0  "
            ],
            "text/html": [
              "\n",
              "  <div id=\"df-4fd12670-adbe-4076-91ab-819953390bd4\">\n",
              "    <div class=\"colab-df-container\">\n",
              "      <div>\n",
              "<style scoped>\n",
              "    .dataframe tbody tr th:only-of-type {\n",
              "        vertical-align: middle;\n",
              "    }\n",
              "\n",
              "    .dataframe tbody tr th {\n",
              "        vertical-align: top;\n",
              "    }\n",
              "\n",
              "    .dataframe thead th {\n",
              "        text-align: right;\n",
              "    }\n",
              "</style>\n",
              "<table border=\"1\" class=\"dataframe\">\n",
              "  <thead>\n",
              "    <tr style=\"text-align: right;\">\n",
              "      <th></th>\n",
              "      <th>credit.policy</th>\n",
              "      <th>int.rate</th>\n",
              "      <th>installment</th>\n",
              "      <th>log.annual.inc</th>\n",
              "      <th>dti</th>\n",
              "      <th>fico</th>\n",
              "      <th>days.with.cr.line</th>\n",
              "      <th>revol.bal</th>\n",
              "      <th>revol.util</th>\n",
              "      <th>inq.last.6mths</th>\n",
              "      <th>delinq.2yrs</th>\n",
              "      <th>pub.rec</th>\n",
              "      <th>not.fully.paid</th>\n",
              "      <th>purpose_all_other</th>\n",
              "      <th>purpose_credit_card</th>\n",
              "      <th>purpose_debt_consolidation</th>\n",
              "      <th>purpose_educational</th>\n",
              "      <th>purpose_home_improvement</th>\n",
              "      <th>purpose_major_purchase</th>\n",
              "      <th>purpose_small_business</th>\n",
              "    </tr>\n",
              "  </thead>\n",
              "  <tbody>\n",
              "    <tr>\n",
              "      <th>0</th>\n",
              "      <td>1</td>\n",
              "      <td>0.1183</td>\n",
              "      <td>231.94</td>\n",
              "      <td>10.348846</td>\n",
              "      <td>5.69</td>\n",
              "      <td>712</td>\n",
              "      <td>2460.958333</td>\n",
              "      <td>6955</td>\n",
              "      <td>63.8</td>\n",
              "      <td>1</td>\n",
              "      <td>0</td>\n",
              "      <td>0</td>\n",
              "      <td>0</td>\n",
              "      <td>0</td>\n",
              "      <td>0</td>\n",
              "      <td>1</td>\n",
              "      <td>0</td>\n",
              "      <td>0</td>\n",
              "      <td>0</td>\n",
              "      <td>0</td>\n",
              "    </tr>\n",
              "    <tr>\n",
              "      <th>1</th>\n",
              "      <td>1</td>\n",
              "      <td>0.0774</td>\n",
              "      <td>124.88</td>\n",
              "      <td>11.264464</td>\n",
              "      <td>7.17</td>\n",
              "      <td>792</td>\n",
              "      <td>6360.041667</td>\n",
              "      <td>168</td>\n",
              "      <td>0.7</td>\n",
              "      <td>0</td>\n",
              "      <td>0</td>\n",
              "      <td>0</td>\n",
              "      <td>0</td>\n",
              "      <td>0</td>\n",
              "      <td>0</td>\n",
              "      <td>0</td>\n",
              "      <td>0</td>\n",
              "      <td>0</td>\n",
              "      <td>1</td>\n",
              "      <td>0</td>\n",
              "    </tr>\n",
              "    <tr>\n",
              "      <th>2</th>\n",
              "      <td>1</td>\n",
              "      <td>0.1505</td>\n",
              "      <td>86.73</td>\n",
              "      <td>11.184421</td>\n",
              "      <td>16.30</td>\n",
              "      <td>667</td>\n",
              "      <td>3600.000000</td>\n",
              "      <td>16242</td>\n",
              "      <td>95.5</td>\n",
              "      <td>0</td>\n",
              "      <td>0</td>\n",
              "      <td>0</td>\n",
              "      <td>0</td>\n",
              "      <td>0</td>\n",
              "      <td>1</td>\n",
              "      <td>0</td>\n",
              "      <td>0</td>\n",
              "      <td>0</td>\n",
              "      <td>0</td>\n",
              "      <td>0</td>\n",
              "    </tr>\n",
              "    <tr>\n",
              "      <th>3</th>\n",
              "      <td>1</td>\n",
              "      <td>0.1284</td>\n",
              "      <td>403.42</td>\n",
              "      <td>10.736397</td>\n",
              "      <td>19.57</td>\n",
              "      <td>697</td>\n",
              "      <td>3450.041667</td>\n",
              "      <td>27261</td>\n",
              "      <td>87.4</td>\n",
              "      <td>1</td>\n",
              "      <td>0</td>\n",
              "      <td>0</td>\n",
              "      <td>0</td>\n",
              "      <td>0</td>\n",
              "      <td>0</td>\n",
              "      <td>1</td>\n",
              "      <td>0</td>\n",
              "      <td>0</td>\n",
              "      <td>0</td>\n",
              "      <td>0</td>\n",
              "    </tr>\n",
              "    <tr>\n",
              "      <th>4</th>\n",
              "      <td>1</td>\n",
              "      <td>0.1531</td>\n",
              "      <td>278.53</td>\n",
              "      <td>10.621327</td>\n",
              "      <td>8.20</td>\n",
              "      <td>662</td>\n",
              "      <td>1860.000000</td>\n",
              "      <td>7979</td>\n",
              "      <td>48.7</td>\n",
              "      <td>0</td>\n",
              "      <td>1</td>\n",
              "      <td>0</td>\n",
              "      <td>0</td>\n",
              "      <td>0</td>\n",
              "      <td>0</td>\n",
              "      <td>1</td>\n",
              "      <td>0</td>\n",
              "      <td>0</td>\n",
              "      <td>0</td>\n",
              "      <td>0</td>\n",
              "    </tr>\n",
              "  </tbody>\n",
              "</table>\n",
              "</div>\n",
              "      <button class=\"colab-df-convert\" onclick=\"convertToInteractive('df-4fd12670-adbe-4076-91ab-819953390bd4')\"\n",
              "              title=\"Convert this dataframe to an interactive table.\"\n",
              "              style=\"display:none;\">\n",
              "        \n",
              "  <svg xmlns=\"http://www.w3.org/2000/svg\" height=\"24px\"viewBox=\"0 0 24 24\"\n",
              "       width=\"24px\">\n",
              "    <path d=\"M0 0h24v24H0V0z\" fill=\"none\"/>\n",
              "    <path d=\"M18.56 5.44l.94 2.06.94-2.06 2.06-.94-2.06-.94-.94-2.06-.94 2.06-2.06.94zm-11 1L8.5 8.5l.94-2.06 2.06-.94-2.06-.94L8.5 2.5l-.94 2.06-2.06.94zm10 10l.94 2.06.94-2.06 2.06-.94-2.06-.94-.94-2.06-.94 2.06-2.06.94z\"/><path d=\"M17.41 7.96l-1.37-1.37c-.4-.4-.92-.59-1.43-.59-.52 0-1.04.2-1.43.59L10.3 9.45l-7.72 7.72c-.78.78-.78 2.05 0 2.83L4 21.41c.39.39.9.59 1.41.59.51 0 1.02-.2 1.41-.59l7.78-7.78 2.81-2.81c.8-.78.8-2.07 0-2.86zM5.41 20L4 18.59l7.72-7.72 1.47 1.35L5.41 20z\"/>\n",
              "  </svg>\n",
              "      </button>\n",
              "      \n",
              "  <style>\n",
              "    .colab-df-container {\n",
              "      display:flex;\n",
              "      flex-wrap:wrap;\n",
              "      gap: 12px;\n",
              "    }\n",
              "\n",
              "    .colab-df-convert {\n",
              "      background-color: #E8F0FE;\n",
              "      border: none;\n",
              "      border-radius: 50%;\n",
              "      cursor: pointer;\n",
              "      display: none;\n",
              "      fill: #1967D2;\n",
              "      height: 32px;\n",
              "      padding: 0 0 0 0;\n",
              "      width: 32px;\n",
              "    }\n",
              "\n",
              "    .colab-df-convert:hover {\n",
              "      background-color: #E2EBFA;\n",
              "      box-shadow: 0px 1px 2px rgba(60, 64, 67, 0.3), 0px 1px 3px 1px rgba(60, 64, 67, 0.15);\n",
              "      fill: #174EA6;\n",
              "    }\n",
              "\n",
              "    [theme=dark] .colab-df-convert {\n",
              "      background-color: #3B4455;\n",
              "      fill: #D2E3FC;\n",
              "    }\n",
              "\n",
              "    [theme=dark] .colab-df-convert:hover {\n",
              "      background-color: #434B5C;\n",
              "      box-shadow: 0px 1px 3px 1px rgba(0, 0, 0, 0.15);\n",
              "      filter: drop-shadow(0px 1px 2px rgba(0, 0, 0, 0.3));\n",
              "      fill: #FFFFFF;\n",
              "    }\n",
              "  </style>\n",
              "\n",
              "      <script>\n",
              "        const buttonEl =\n",
              "          document.querySelector('#df-4fd12670-adbe-4076-91ab-819953390bd4 button.colab-df-convert');\n",
              "        buttonEl.style.display =\n",
              "          google.colab.kernel.accessAllowed ? 'block' : 'none';\n",
              "\n",
              "        async function convertToInteractive(key) {\n",
              "          const element = document.querySelector('#df-4fd12670-adbe-4076-91ab-819953390bd4');\n",
              "          const dataTable =\n",
              "            await google.colab.kernel.invokeFunction('convertToInteractive',\n",
              "                                                     [key], {});\n",
              "          if (!dataTable) return;\n",
              "\n",
              "          const docLinkHtml = 'Like what you see? Visit the ' +\n",
              "            '<a target=\"_blank\" href=https://colab.research.google.com/notebooks/data_table.ipynb>data table notebook</a>'\n",
              "            + ' to learn more about interactive tables.';\n",
              "          element.innerHTML = '';\n",
              "          dataTable['output_type'] = 'display_data';\n",
              "          await google.colab.output.renderOutput(dataTable, element);\n",
              "          const docLink = document.createElement('div');\n",
              "          docLink.innerHTML = docLinkHtml;\n",
              "          element.appendChild(docLink);\n",
              "        }\n",
              "      </script>\n",
              "    </div>\n",
              "  </div>\n",
              "  "
            ]
          },
          "metadata": {},
          "execution_count": 22
        }
      ],
      "source": [
        "loans.head()"
      ]
    },
    {
      "cell_type": "markdown",
      "metadata": {
        "id": "Wse4DoeC6Cni"
      },
      "source": [
        "## Train Test Split\n",
        "\n",
        "Now its time to split our data into a training set and a validation set!  \n",
        "\n",
        "The `not.fully.paid` variable is the one that we will try to predict.\n",
        "\n",
        "**Use sklearn to split your data into a training set and a testing set as we've done in the past.**"
      ]
    },
    {
      "cell_type": "code",
      "execution_count": 23,
      "metadata": {
        "id": "3kA-3MPz6Cni"
      },
      "outputs": [],
      "source": [
        "from sklearn.model_selection import train_test_split"
      ]
    },
    {
      "cell_type": "code",
      "execution_count": 24,
      "metadata": {
        "colab": {
          "base_uri": "https://localhost:8080/",
          "height": 488
        },
        "id": "Kh9zM7ZV6Cni",
        "outputId": "c6aac9ca-10a2-46c2-9d3e-006a7be3b4fd"
      },
      "outputs": [
        {
          "output_type": "execute_result",
          "data": {
            "text/plain": [
              "      credit.policy  int.rate  installment  log.annual.inc    dti  fico  \\\n",
              "0                 1    0.1183       231.94       10.348846   5.69   712   \n",
              "1                 1    0.0774       124.88       11.264464   7.17   792   \n",
              "2                 1    0.1505        86.73       11.184421  16.30   667   \n",
              "3                 1    0.1284       403.42       10.736397  19.57   697   \n",
              "4                 1    0.1531       278.53       10.621327   8.20   662   \n",
              "...             ...       ...          ...             ...    ...   ...   \n",
              "2976              0    0.1797       364.99       10.762488  23.53   642   \n",
              "2977              1    0.1316       202.63       11.156251  23.91   692   \n",
              "2978              1    0.1148       263.75       10.491274   2.90   727   \n",
              "2979              1    0.1442       859.57       12.611538   1.48   702   \n",
              "2980              1    0.0894       381.26       11.512925  11.27   747   \n",
              "\n",
              "      days.with.cr.line  revol.bal  revol.util  inq.last.6mths  delinq.2yrs  \\\n",
              "0           2460.958333       6955        63.8               1            0   \n",
              "1           6360.041667        168         0.7               0            0   \n",
              "2           3600.000000      16242        95.5               0            0   \n",
              "3           3450.041667      27261        87.4               1            0   \n",
              "4           1860.000000       7979        48.7               0            1   \n",
              "...                 ...        ...         ...             ...          ...   \n",
              "2976        4252.041667      10226        63.9               1            1   \n",
              "2977        2130.000000      22713        43.1               1            0   \n",
              "2978        1800.000000       2980        31.7               1            0   \n",
              "2979        5279.958333      28367        66.5               2            1   \n",
              "2980        4649.958333      23270        41.0               1            0   \n",
              "\n",
              "      pub.rec  not.fully.paid  purpose_all_other  purpose_credit_card  \\\n",
              "0           0               0                  0                    0   \n",
              "1           0               0                  0                    0   \n",
              "2           0               0                  0                    1   \n",
              "3           0               0                  0                    0   \n",
              "4           0               0                  0                    0   \n",
              "...       ...             ...                ...                  ...   \n",
              "2976        0               0                  0                    0   \n",
              "2977        0               0                  0                    0   \n",
              "2978        0               0                  0                    0   \n",
              "2979        0               0                  0                    0   \n",
              "2980        0               0                  0                    0   \n",
              "\n",
              "      purpose_debt_consolidation  purpose_educational  \\\n",
              "0                              1                    0   \n",
              "1                              0                    0   \n",
              "2                              0                    0   \n",
              "3                              1                    0   \n",
              "4                              1                    0   \n",
              "...                          ...                  ...   \n",
              "2976                           1                    0   \n",
              "2977                           1                    0   \n",
              "2978                           1                    0   \n",
              "2979                           0                    0   \n",
              "2980                           0                    0   \n",
              "\n",
              "      purpose_home_improvement  purpose_major_purchase  purpose_small_business  \n",
              "0                            0                       0                       0  \n",
              "1                            0                       1                       0  \n",
              "2                            0                       0                       0  \n",
              "3                            0                       0                       0  \n",
              "4                            0                       0                       0  \n",
              "...                        ...                     ...                     ...  \n",
              "2976                         0                       0                       0  \n",
              "2977                         0                       0                       0  \n",
              "2978                         0                       0                       0  \n",
              "2979                         1                       0                       0  \n",
              "2980                         0                       1                       0  \n",
              "\n",
              "[2981 rows x 20 columns]"
            ],
            "text/html": [
              "\n",
              "  <div id=\"df-d3a770b7-518d-47a6-877b-529d52ecceaf\">\n",
              "    <div class=\"colab-df-container\">\n",
              "      <div>\n",
              "<style scoped>\n",
              "    .dataframe tbody tr th:only-of-type {\n",
              "        vertical-align: middle;\n",
              "    }\n",
              "\n",
              "    .dataframe tbody tr th {\n",
              "        vertical-align: top;\n",
              "    }\n",
              "\n",
              "    .dataframe thead th {\n",
              "        text-align: right;\n",
              "    }\n",
              "</style>\n",
              "<table border=\"1\" class=\"dataframe\">\n",
              "  <thead>\n",
              "    <tr style=\"text-align: right;\">\n",
              "      <th></th>\n",
              "      <th>credit.policy</th>\n",
              "      <th>int.rate</th>\n",
              "      <th>installment</th>\n",
              "      <th>log.annual.inc</th>\n",
              "      <th>dti</th>\n",
              "      <th>fico</th>\n",
              "      <th>days.with.cr.line</th>\n",
              "      <th>revol.bal</th>\n",
              "      <th>revol.util</th>\n",
              "      <th>inq.last.6mths</th>\n",
              "      <th>delinq.2yrs</th>\n",
              "      <th>pub.rec</th>\n",
              "      <th>not.fully.paid</th>\n",
              "      <th>purpose_all_other</th>\n",
              "      <th>purpose_credit_card</th>\n",
              "      <th>purpose_debt_consolidation</th>\n",
              "      <th>purpose_educational</th>\n",
              "      <th>purpose_home_improvement</th>\n",
              "      <th>purpose_major_purchase</th>\n",
              "      <th>purpose_small_business</th>\n",
              "    </tr>\n",
              "  </thead>\n",
              "  <tbody>\n",
              "    <tr>\n",
              "      <th>0</th>\n",
              "      <td>1</td>\n",
              "      <td>0.1183</td>\n",
              "      <td>231.94</td>\n",
              "      <td>10.348846</td>\n",
              "      <td>5.69</td>\n",
              "      <td>712</td>\n",
              "      <td>2460.958333</td>\n",
              "      <td>6955</td>\n",
              "      <td>63.8</td>\n",
              "      <td>1</td>\n",
              "      <td>0</td>\n",
              "      <td>0</td>\n",
              "      <td>0</td>\n",
              "      <td>0</td>\n",
              "      <td>0</td>\n",
              "      <td>1</td>\n",
              "      <td>0</td>\n",
              "      <td>0</td>\n",
              "      <td>0</td>\n",
              "      <td>0</td>\n",
              "    </tr>\n",
              "    <tr>\n",
              "      <th>1</th>\n",
              "      <td>1</td>\n",
              "      <td>0.0774</td>\n",
              "      <td>124.88</td>\n",
              "      <td>11.264464</td>\n",
              "      <td>7.17</td>\n",
              "      <td>792</td>\n",
              "      <td>6360.041667</td>\n",
              "      <td>168</td>\n",
              "      <td>0.7</td>\n",
              "      <td>0</td>\n",
              "      <td>0</td>\n",
              "      <td>0</td>\n",
              "      <td>0</td>\n",
              "      <td>0</td>\n",
              "      <td>0</td>\n",
              "      <td>0</td>\n",
              "      <td>0</td>\n",
              "      <td>0</td>\n",
              "      <td>1</td>\n",
              "      <td>0</td>\n",
              "    </tr>\n",
              "    <tr>\n",
              "      <th>2</th>\n",
              "      <td>1</td>\n",
              "      <td>0.1505</td>\n",
              "      <td>86.73</td>\n",
              "      <td>11.184421</td>\n",
              "      <td>16.30</td>\n",
              "      <td>667</td>\n",
              "      <td>3600.000000</td>\n",
              "      <td>16242</td>\n",
              "      <td>95.5</td>\n",
              "      <td>0</td>\n",
              "      <td>0</td>\n",
              "      <td>0</td>\n",
              "      <td>0</td>\n",
              "      <td>0</td>\n",
              "      <td>1</td>\n",
              "      <td>0</td>\n",
              "      <td>0</td>\n",
              "      <td>0</td>\n",
              "      <td>0</td>\n",
              "      <td>0</td>\n",
              "    </tr>\n",
              "    <tr>\n",
              "      <th>3</th>\n",
              "      <td>1</td>\n",
              "      <td>0.1284</td>\n",
              "      <td>403.42</td>\n",
              "      <td>10.736397</td>\n",
              "      <td>19.57</td>\n",
              "      <td>697</td>\n",
              "      <td>3450.041667</td>\n",
              "      <td>27261</td>\n",
              "      <td>87.4</td>\n",
              "      <td>1</td>\n",
              "      <td>0</td>\n",
              "      <td>0</td>\n",
              "      <td>0</td>\n",
              "      <td>0</td>\n",
              "      <td>0</td>\n",
              "      <td>1</td>\n",
              "      <td>0</td>\n",
              "      <td>0</td>\n",
              "      <td>0</td>\n",
              "      <td>0</td>\n",
              "    </tr>\n",
              "    <tr>\n",
              "      <th>4</th>\n",
              "      <td>1</td>\n",
              "      <td>0.1531</td>\n",
              "      <td>278.53</td>\n",
              "      <td>10.621327</td>\n",
              "      <td>8.20</td>\n",
              "      <td>662</td>\n",
              "      <td>1860.000000</td>\n",
              "      <td>7979</td>\n",
              "      <td>48.7</td>\n",
              "      <td>0</td>\n",
              "      <td>1</td>\n",
              "      <td>0</td>\n",
              "      <td>0</td>\n",
              "      <td>0</td>\n",
              "      <td>0</td>\n",
              "      <td>1</td>\n",
              "      <td>0</td>\n",
              "      <td>0</td>\n",
              "      <td>0</td>\n",
              "      <td>0</td>\n",
              "    </tr>\n",
              "    <tr>\n",
              "      <th>...</th>\n",
              "      <td>...</td>\n",
              "      <td>...</td>\n",
              "      <td>...</td>\n",
              "      <td>...</td>\n",
              "      <td>...</td>\n",
              "      <td>...</td>\n",
              "      <td>...</td>\n",
              "      <td>...</td>\n",
              "      <td>...</td>\n",
              "      <td>...</td>\n",
              "      <td>...</td>\n",
              "      <td>...</td>\n",
              "      <td>...</td>\n",
              "      <td>...</td>\n",
              "      <td>...</td>\n",
              "      <td>...</td>\n",
              "      <td>...</td>\n",
              "      <td>...</td>\n",
              "      <td>...</td>\n",
              "      <td>...</td>\n",
              "    </tr>\n",
              "    <tr>\n",
              "      <th>2976</th>\n",
              "      <td>0</td>\n",
              "      <td>0.1797</td>\n",
              "      <td>364.99</td>\n",
              "      <td>10.762488</td>\n",
              "      <td>23.53</td>\n",
              "      <td>642</td>\n",
              "      <td>4252.041667</td>\n",
              "      <td>10226</td>\n",
              "      <td>63.9</td>\n",
              "      <td>1</td>\n",
              "      <td>1</td>\n",
              "      <td>0</td>\n",
              "      <td>0</td>\n",
              "      <td>0</td>\n",
              "      <td>0</td>\n",
              "      <td>1</td>\n",
              "      <td>0</td>\n",
              "      <td>0</td>\n",
              "      <td>0</td>\n",
              "      <td>0</td>\n",
              "    </tr>\n",
              "    <tr>\n",
              "      <th>2977</th>\n",
              "      <td>1</td>\n",
              "      <td>0.1316</td>\n",
              "      <td>202.63</td>\n",
              "      <td>11.156251</td>\n",
              "      <td>23.91</td>\n",
              "      <td>692</td>\n",
              "      <td>2130.000000</td>\n",
              "      <td>22713</td>\n",
              "      <td>43.1</td>\n",
              "      <td>1</td>\n",
              "      <td>0</td>\n",
              "      <td>0</td>\n",
              "      <td>0</td>\n",
              "      <td>0</td>\n",
              "      <td>0</td>\n",
              "      <td>1</td>\n",
              "      <td>0</td>\n",
              "      <td>0</td>\n",
              "      <td>0</td>\n",
              "      <td>0</td>\n",
              "    </tr>\n",
              "    <tr>\n",
              "      <th>2978</th>\n",
              "      <td>1</td>\n",
              "      <td>0.1148</td>\n",
              "      <td>263.75</td>\n",
              "      <td>10.491274</td>\n",
              "      <td>2.90</td>\n",
              "      <td>727</td>\n",
              "      <td>1800.000000</td>\n",
              "      <td>2980</td>\n",
              "      <td>31.7</td>\n",
              "      <td>1</td>\n",
              "      <td>0</td>\n",
              "      <td>0</td>\n",
              "      <td>0</td>\n",
              "      <td>0</td>\n",
              "      <td>0</td>\n",
              "      <td>1</td>\n",
              "      <td>0</td>\n",
              "      <td>0</td>\n",
              "      <td>0</td>\n",
              "      <td>0</td>\n",
              "    </tr>\n",
              "    <tr>\n",
              "      <th>2979</th>\n",
              "      <td>1</td>\n",
              "      <td>0.1442</td>\n",
              "      <td>859.57</td>\n",
              "      <td>12.611538</td>\n",
              "      <td>1.48</td>\n",
              "      <td>702</td>\n",
              "      <td>5279.958333</td>\n",
              "      <td>28367</td>\n",
              "      <td>66.5</td>\n",
              "      <td>2</td>\n",
              "      <td>1</td>\n",
              "      <td>0</td>\n",
              "      <td>0</td>\n",
              "      <td>0</td>\n",
              "      <td>0</td>\n",
              "      <td>0</td>\n",
              "      <td>0</td>\n",
              "      <td>1</td>\n",
              "      <td>0</td>\n",
              "      <td>0</td>\n",
              "    </tr>\n",
              "    <tr>\n",
              "      <th>2980</th>\n",
              "      <td>1</td>\n",
              "      <td>0.0894</td>\n",
              "      <td>381.26</td>\n",
              "      <td>11.512925</td>\n",
              "      <td>11.27</td>\n",
              "      <td>747</td>\n",
              "      <td>4649.958333</td>\n",
              "      <td>23270</td>\n",
              "      <td>41.0</td>\n",
              "      <td>1</td>\n",
              "      <td>0</td>\n",
              "      <td>0</td>\n",
              "      <td>0</td>\n",
              "      <td>0</td>\n",
              "      <td>0</td>\n",
              "      <td>0</td>\n",
              "      <td>0</td>\n",
              "      <td>0</td>\n",
              "      <td>1</td>\n",
              "      <td>0</td>\n",
              "    </tr>\n",
              "  </tbody>\n",
              "</table>\n",
              "<p>2981 rows × 20 columns</p>\n",
              "</div>\n",
              "      <button class=\"colab-df-convert\" onclick=\"convertToInteractive('df-d3a770b7-518d-47a6-877b-529d52ecceaf')\"\n",
              "              title=\"Convert this dataframe to an interactive table.\"\n",
              "              style=\"display:none;\">\n",
              "        \n",
              "  <svg xmlns=\"http://www.w3.org/2000/svg\" height=\"24px\"viewBox=\"0 0 24 24\"\n",
              "       width=\"24px\">\n",
              "    <path d=\"M0 0h24v24H0V0z\" fill=\"none\"/>\n",
              "    <path d=\"M18.56 5.44l.94 2.06.94-2.06 2.06-.94-2.06-.94-.94-2.06-.94 2.06-2.06.94zm-11 1L8.5 8.5l.94-2.06 2.06-.94-2.06-.94L8.5 2.5l-.94 2.06-2.06.94zm10 10l.94 2.06.94-2.06 2.06-.94-2.06-.94-.94-2.06-.94 2.06-2.06.94z\"/><path d=\"M17.41 7.96l-1.37-1.37c-.4-.4-.92-.59-1.43-.59-.52 0-1.04.2-1.43.59L10.3 9.45l-7.72 7.72c-.78.78-.78 2.05 0 2.83L4 21.41c.39.39.9.59 1.41.59.51 0 1.02-.2 1.41-.59l7.78-7.78 2.81-2.81c.8-.78.8-2.07 0-2.86zM5.41 20L4 18.59l7.72-7.72 1.47 1.35L5.41 20z\"/>\n",
              "  </svg>\n",
              "      </button>\n",
              "      \n",
              "  <style>\n",
              "    .colab-df-container {\n",
              "      display:flex;\n",
              "      flex-wrap:wrap;\n",
              "      gap: 12px;\n",
              "    }\n",
              "\n",
              "    .colab-df-convert {\n",
              "      background-color: #E8F0FE;\n",
              "      border: none;\n",
              "      border-radius: 50%;\n",
              "      cursor: pointer;\n",
              "      display: none;\n",
              "      fill: #1967D2;\n",
              "      height: 32px;\n",
              "      padding: 0 0 0 0;\n",
              "      width: 32px;\n",
              "    }\n",
              "\n",
              "    .colab-df-convert:hover {\n",
              "      background-color: #E2EBFA;\n",
              "      box-shadow: 0px 1px 2px rgba(60, 64, 67, 0.3), 0px 1px 3px 1px rgba(60, 64, 67, 0.15);\n",
              "      fill: #174EA6;\n",
              "    }\n",
              "\n",
              "    [theme=dark] .colab-df-convert {\n",
              "      background-color: #3B4455;\n",
              "      fill: #D2E3FC;\n",
              "    }\n",
              "\n",
              "    [theme=dark] .colab-df-convert:hover {\n",
              "      background-color: #434B5C;\n",
              "      box-shadow: 0px 1px 3px 1px rgba(0, 0, 0, 0.15);\n",
              "      filter: drop-shadow(0px 1px 2px rgba(0, 0, 0, 0.3));\n",
              "      fill: #FFFFFF;\n",
              "    }\n",
              "  </style>\n",
              "\n",
              "      <script>\n",
              "        const buttonEl =\n",
              "          document.querySelector('#df-d3a770b7-518d-47a6-877b-529d52ecceaf button.colab-df-convert');\n",
              "        buttonEl.style.display =\n",
              "          google.colab.kernel.accessAllowed ? 'block' : 'none';\n",
              "\n",
              "        async function convertToInteractive(key) {\n",
              "          const element = document.querySelector('#df-d3a770b7-518d-47a6-877b-529d52ecceaf');\n",
              "          const dataTable =\n",
              "            await google.colab.kernel.invokeFunction('convertToInteractive',\n",
              "                                                     [key], {});\n",
              "          if (!dataTable) return;\n",
              "\n",
              "          const docLinkHtml = 'Like what you see? Visit the ' +\n",
              "            '<a target=\"_blank\" href=https://colab.research.google.com/notebooks/data_table.ipynb>data table notebook</a>'\n",
              "            + ' to learn more about interactive tables.';\n",
              "          element.innerHTML = '';\n",
              "          dataTable['output_type'] = 'display_data';\n",
              "          await google.colab.output.renderOutput(dataTable, element);\n",
              "          const docLink = document.createElement('div');\n",
              "          docLink.innerHTML = docLinkHtml;\n",
              "          element.appendChild(docLink);\n",
              "        }\n",
              "      </script>\n",
              "    </div>\n",
              "  </div>\n",
              "  "
            ]
          },
          "metadata": {},
          "execution_count": 24
        }
      ],
      "source": [
        "loans"
      ]
    },
    {
      "cell_type": "code",
      "execution_count": 25,
      "metadata": {
        "id": "XMcxIBwo6Cni"
      },
      "outputs": [],
      "source": [
        "X = loans.drop('not.fully.paid',axis=1)\n",
        "y = loans['not.fully.paid']\n",
        "X_train, X_test, y_train, y_test = train_test_split(X, y, test_size=0.40, random_state=RANDOM_STATE)\n",
        "X_val, X_test, y_val, y_test = train_test_split(X_test, y_test, test_size=0.50, random_state=RANDOM_STATE)"
      ]
    },
    {
      "cell_type": "code",
      "execution_count": 26,
      "metadata": {
        "colab": {
          "base_uri": "https://localhost:8080/",
          "height": 280
        },
        "id": "zkE-z6_H6Cni",
        "outputId": "634ac8d4-8e0f-4bcc-d0b0-9ee53fe425a0"
      },
      "outputs": [
        {
          "output_type": "execute_result",
          "data": {
            "text/plain": [
              "<matplotlib.axes._subplots.AxesSubplot at 0x7f7d9be0e940>"
            ]
          },
          "metadata": {},
          "execution_count": 26
        },
        {
          "output_type": "display_data",
          "data": {
            "text/plain": [
              "<Figure size 432x288 with 1 Axes>"
            ],
            "image/png": "[encoded data removed]"
          },
          "metadata": {
            "image/png": {
              "width": 381,
              "height": 245
            },
            "needs_background": "light"
          }
        }
      ],
      "source": [
        "y.value_counts().plot(kind='bar')"
      ]
    },
    {
      "cell_type": "code",
      "execution_count": 27,
      "metadata": {
        "colab": {
          "base_uri": "https://localhost:8080/",
          "height": 280
        },
        "id": "Xuw1du1U6Cni",
        "outputId": "b479874e-9600-4cd7-e03f-15ab1b9fcd47"
      },
      "outputs": [
        {
          "output_type": "execute_result",
          "data": {
            "text/plain": [
              "<matplotlib.axes._subplots.AxesSubplot at 0x7f7d9bd7bac0>"
            ]
          },
          "metadata": {},
          "execution_count": 27
        },
        {
          "output_type": "display_data",
          "data": {
            "text/plain": [
              "<Figure size 432x288 with 1 Axes>"
            ],
            "image/png": "[encoded data removed]"
          },
          "metadata": {
            "image/png": {
              "width": 375,
              "height": 245
            },
            "needs_background": "light"
          }
        }
      ],
      "source": [
        "y_train.value_counts().plot(kind='bar')"
      ]
    },
    {
      "cell_type": "code",
      "execution_count": 28,
      "metadata": {
        "colab": {
          "base_uri": "https://localhost:8080/",
          "height": 280
        },
        "id": "Dj2slpea6Cni",
        "outputId": "330cc33e-a685-400a-9cf8-c6cd4d52f40a"
      },
      "outputs": [
        {
          "output_type": "execute_result",
          "data": {
            "text/plain": [
              "<matplotlib.axes._subplots.AxesSubplot at 0x7f7d9bd65b50>"
            ]
          },
          "metadata": {},
          "execution_count": 28
        },
        {
          "output_type": "display_data",
          "data": {
            "text/plain": [
              "<Figure size 432x288 with 1 Axes>"
            ],
            "image/png": "[encoded data removed]"
          },
          "metadata": {
            "image/png": {
              "width": 375,
              "height": 245
            },
            "needs_background": "light"
          }
        }
      ],
      "source": [
        "y_val.value_counts().plot(kind='bar')"
      ]
    },
    {
      "cell_type": "markdown",
      "metadata": {
        "id": "t_f-14TR6Cni"
      },
      "source": [
        "> NOTE:\n",
        "\n",
        "When asked to provide the performance metrics you can use the confusion matrix or the methods in `sklearn.metrics`.  \n",
        "**Performance metrics** (at the very least):  \n",
        "- Recall (Sensitivity)  \n",
        "- Specificity  \n",
        "- Precision  \n",
        "- Balanced Accuracy  \n",
        "- F1 Score  \n",
        "\n",
        "Grid Search:\n",
        "- https://scikit-learn.org/stable/modules/generated/sklearn.model_selection.GridSearchCV.html\n"
      ]
    },
    {
      "cell_type": "markdown",
      "metadata": {
        "id": "33WYJdst6Cnj"
      },
      "source": [
        "# Q4"
      ]
    },
    {
      "cell_type": "markdown",
      "metadata": {
        "id": "pGu5fdBr6Cnj"
      },
      "source": [
        "## Decision Tree Model\n",
        "\n",
        "Let's start by training a single decision tree first!"
      ]
    },
    {
      "cell_type": "markdown",
      "metadata": {
        "id": "dCKd75AH6Cnj"
      },
      "source": [
        "1. Default decision tree:\n",
        "    - Initiate the Decision Tree classifier from the sklearn library. Keep all parameters with their default values. (No need to specify anything)\n",
        "    - Fit the model\n",
        "    - Make predictions\n",
        "    - Calculate accuracy score. What are the **training** and **validation** accuracies of the model?\n",
        "    - Create confusion matrix\n",
        "    - Provide the performance metrics for the **validation** set.\n",
        "\n",
        "\n",
        "2. Using the training data perform hyper-parameter tuning. Use an appropriate metric for scoring (f1 is generally good).\n",
        "    - Try several values for the `min_samples_split` hyper-parameter and apply cross validation (`GridSearchCV`) to find the best value.  \n",
        "        - Using the best model provide the performance metrics for the validation set.\n",
        "    - Try several values for the `max_depth` hyper-parameter and apply cross validation (`GridSearchCV`) to find the best value. \n",
        "        - Using the best model provide the performance metrics for the validation set.\n",
        "    - Perform grid search (`GridSearchCV`) where you check for `min_samples_split` and `max_depth`.\n",
        "        - Using the best model provide the performance metrics for the validation set.\n",
        "        \n",
        "        \n",
        "3. Create a chart showing the feature importances based on the best model obtained."
      ]
    },
    {
      "cell_type": "code",
      "execution_count": 29,
      "metadata": {
        "id": "Ku8ic6gs6Cnj"
      },
      "outputs": [],
      "source": [
        "# Import DecisionTreeClassifier\n",
        "from sklearn.tree import DecisionTreeClassifier"
      ]
    },
    {
      "cell_type": "code",
      "execution_count": 30,
      "metadata": {
        "id": "tvj0UE6w6Cnj"
      },
      "outputs": [],
      "source": [
        "dtc = DecisionTreeClassifier()"
      ]
    },
    {
      "cell_type": "markdown",
      "source": [
        "fitting the model"
      ],
      "metadata": {
        "id": "sKtV7mLLlgZd"
      }
    },
    {
      "cell_type": "code",
      "source": [
        "dtc.fit(X_train, y_train)"
      ],
      "metadata": {
        "colab": {
          "base_uri": "https://localhost:8080/"
        },
        "id": "_vmr-6p9kBCk",
        "outputId": "d963f3e3-8ed3-44e2-9d8d-b75f6d08533c"
      },
      "execution_count": 31,
      "outputs": [
        {
          "output_type": "execute_result",
          "data": {
            "text/plain": [
              "DecisionTreeClassifier()"
            ]
          },
          "metadata": {},
          "execution_count": 31
        }
      ]
    },
    {
      "cell_type": "markdown",
      "source": [
        "storing predictions"
      ],
      "metadata": {
        "id": "v0YqaSwOliwZ"
      }
    },
    {
      "cell_type": "code",
      "source": [
        "predictions = dtc.predict(X_val)"
      ],
      "metadata": {
        "id": "HjefWRQjkT7a"
      },
      "execution_count": 32,
      "outputs": []
    },
    {
      "cell_type": "markdown",
      "source": [
        "calculating accuracy scores"
      ],
      "metadata": {
        "id": "Jz8p8hrdlmhC"
      }
    },
    {
      "cell_type": "code",
      "source": [
        "train_score = dtc.score(X_train,y_train)\n",
        "val_score = dtc.score(X_val,y_val)\n",
        "print(train_score)\n",
        "print(val_score)"
      ],
      "metadata": {
        "colab": {
          "base_uri": "https://localhost:8080/"
        },
        "id": "VA0vF2kwlmNf",
        "outputId": "3efd2ef0-7390-430e-f93e-decb01197ab2"
      },
      "execution_count": 33,
      "outputs": [
        {
          "output_type": "stream",
          "name": "stdout",
          "text": [
            "1.0\n",
            "0.5587248322147651\n"
          ]
        }
      ]
    },
    {
      "cell_type": "markdown",
      "source": [
        "training accuracy is 1, while validation accuracy is .56"
      ],
      "metadata": {
        "id": "QrkuWKy-mJyh"
      }
    },
    {
      "cell_type": "markdown",
      "source": [
        "building confusion matrix"
      ],
      "metadata": {
        "id": "L3Km-H_gmehs"
      }
    },
    {
      "cell_type": "code",
      "source": [
        "cm = metrics.confusion_matrix(y_val, predictions)\n",
        "print(cm)"
      ],
      "metadata": {
        "colab": {
          "base_uri": "https://localhost:8080/"
        },
        "id": "5AUaJngwmgsN",
        "outputId": "2ab44585-d241-435a-c98d-3b2e8eacb32a"
      },
      "execution_count": 34,
      "outputs": [
        {
          "output_type": "stream",
          "name": "stdout",
          "text": [
            "[[167 139]\n",
            " [124 166]]\n"
          ]
        }
      ]
    },
    {
      "cell_type": "markdown",
      "source": [
        "performance metrics for validation set"
      ],
      "metadata": {
        "id": "I6i3j7s5m5aN"
      }
    },
    {
      "cell_type": "code",
      "source": [
        "from sklearn.metrics import recall_score\n",
        "from sklearn.metrics import precision_score\n",
        "from sklearn.metrics import balanced_accuracy_score\n",
        "from sklearn.metrics import f1_score\n",
        "recall = recall_score(y_val, predictions, average='micro')\n",
        "spec = recall_score(y_val, predictions, pos_label = 0)\n",
        "pres = precision_score(y_val, predictions, average='macro')\n",
        "bal = balanced_accuracy_score(y_val, predictions)\n",
        "f1 = f1_score(y_val, predictions, average='weighted')\n",
        "print(\"Recall =\", recall)\n",
        "print(\"Specificity =\", spec)\n",
        "print(\"Precision =\", pres)\n",
        "print(\"Balanced Accuracy =\", bal)\n",
        "print(\"F1 Score =\", f1)"
      ],
      "metadata": {
        "colab": {
          "base_uri": "https://localhost:8080/"
        },
        "id": "dYgzq6XFm1_7",
        "outputId": "60eb044f-e358-43d8-9e04-dac0cad84c68"
      },
      "execution_count": 35,
      "outputs": [
        {
          "output_type": "stream",
          "name": "stdout",
          "text": [
            "Recall = 0.5587248322147651\n",
            "Specificity = 0.545751633986928\n",
            "Precision = 0.5590727282969974\n",
            "Balanced Accuracy = 0.5590827135451881\n",
            "F1 Score = 0.5587434663589221\n"
          ]
        }
      ]
    },
    {
      "cell_type": "markdown",
      "source": [
        "hyper-parameter tuning, several values for the min_samples_split"
      ],
      "metadata": {
        "id": "RyWJBVWNtP8n"
      }
    },
    {
      "cell_type": "code",
      "source": [
        "dtc3 = DecisionTreeClassifier(min_samples_split=3)\n",
        "dtc3.fit(X_train, y_train)\n",
        "predictions = dtc3.predict(X_val)\n",
        "f1 = f1_score(y_val, predictions, average='weighted')\n",
        "print(\"F1 Score =\", f1)"
      ],
      "metadata": {
        "colab": {
          "base_uri": "https://localhost:8080/"
        },
        "id": "MVdBvJ5ht3ul",
        "outputId": "b12cbce1-c25e-46b4-d7f0-2cdfaf74f39b"
      },
      "execution_count": 36,
      "outputs": [
        {
          "output_type": "stream",
          "name": "stdout",
          "text": [
            "F1 Score = 0.5520827918674023\n"
          ]
        }
      ]
    },
    {
      "cell_type": "code",
      "source": [
        "dtc5 = DecisionTreeClassifier(min_samples_split=5)\n",
        "dtc5.fit(X_train, y_train)\n",
        "predictions = dtc5.predict(X_val)\n",
        "f1 = f1_score(y_val, predictions, average='weighted')\n",
        "print(\"F1 Score =\", f1)"
      ],
      "metadata": {
        "colab": {
          "base_uri": "https://localhost:8080/"
        },
        "id": "0T1fb9r2u7C8",
        "outputId": "5d48d3b7-6dab-4345-fb39-a36acc7b91d7"
      },
      "execution_count": 37,
      "outputs": [
        {
          "output_type": "stream",
          "name": "stdout",
          "text": [
            "F1 Score = 0.5638370019771097\n"
          ]
        }
      ]
    },
    {
      "cell_type": "code",
      "source": [
        "dtc15 = DecisionTreeClassifier(min_samples_split=15)\n",
        "dtc15.fit(X_train, y_train)\n",
        "predictions = dtc15.predict(X_val)\n",
        "f1 = f1_score(y_val, predictions, average='weighted')\n",
        "print(\"F1 Score =\", f1)"
      ],
      "metadata": {
        "colab": {
          "base_uri": "https://localhost:8080/"
        },
        "id": "YhSd-xKzu_Zk",
        "outputId": "ca6428ea-d4fc-4f81-b6f8-7da3611cc252"
      },
      "execution_count": 38,
      "outputs": [
        {
          "output_type": "stream",
          "name": "stdout",
          "text": [
            "F1 Score = 0.5805369127516778\n"
          ]
        }
      ]
    },
    {
      "cell_type": "code",
      "source": [
        "dtc150 = DecisionTreeClassifier(min_samples_split=150)\n",
        "dtc150.fit(X_train, y_train)\n",
        "predictions = dtc150.predict(X_val)\n",
        "f1 = f1_score(y_val, predictions, average='weighted')\n",
        "print(\"F1 Score =\", f1)"
      ],
      "metadata": {
        "colab": {
          "base_uri": "https://localhost:8080/"
        },
        "id": "Gwx652AKwinb",
        "outputId": "598771bc-b5ef-4297-f234-5846c12dab07"
      },
      "execution_count": 39,
      "outputs": [
        {
          "output_type": "stream",
          "name": "stdout",
          "text": [
            "F1 Score = 0.5923542007830969\n"
          ]
        }
      ]
    },
    {
      "cell_type": "markdown",
      "source": [
        "apply cross-validation for min_samples_split"
      ],
      "metadata": {
        "id": "AEvCiOkgvu_S"
      }
    },
    {
      "cell_type": "code",
      "source": [
        "from sklearn.model_selection import GridSearchCV\n",
        "grid = { \n",
        "    'min_samples_split': [2,3,5,15,50,150,250,500,1000],\n",
        "    }\n",
        "clf = GridSearchCV(estimator=DecisionTreeClassifier(),\n",
        "                   param_grid=grid)\n",
        "clf.fit(X_train, y_train)\n",
        "clf.best_params_"
      ],
      "metadata": {
        "colab": {
          "base_uri": "https://localhost:8080/"
        },
        "id": "Jb-Aq6hWvNwA",
        "outputId": "cf7c76e8-b04a-479a-fb99-902d133e931a"
      },
      "execution_count": 40,
      "outputs": [
        {
          "output_type": "execute_result",
          "data": {
            "text/plain": [
              "{'min_samples_split': 150}"
            ]
          },
          "metadata": {},
          "execution_count": 40
        }
      ]
    },
    {
      "cell_type": "markdown",
      "source": [
        "using the best value for min_samples_split (150) obtaining performance metrics for validation set"
      ],
      "metadata": {
        "id": "KDmjhILfzV2R"
      }
    },
    {
      "cell_type": "code",
      "source": [
        "dtc150 = DecisionTreeClassifier(min_samples_split=150)\n",
        "dtc150.fit(X_train, y_train)\n",
        "predictions = dtc150.predict(X_val)\n",
        "recall = recall_score(y_val, predictions, average='micro')\n",
        "spec = recall_score(y_val, predictions, pos_label = 0)\n",
        "pres = precision_score(y_val, predictions, average='macro')\n",
        "bal = balanced_accuracy_score(y_val, predictions)\n",
        "f1 = f1_score(y_val, predictions, average='weighted')\n",
        "print(\"Recall =\", recall)\n",
        "print(\"Specificity =\", spec)\n",
        "print(\"Precision =\", pres)\n",
        "print(\"Balanced Accuracy =\", bal)\n",
        "print(\"F1 Score =\", f1)"
      ],
      "metadata": {
        "colab": {
          "base_uri": "https://localhost:8080/"
        },
        "id": "pRhl1n9CzRB5",
        "outputId": "1b0d5142-96ef-4125-e041-5a54838b760d"
      },
      "execution_count": 41,
      "outputs": [
        {
          "output_type": "stream",
          "name": "stdout",
          "text": [
            "Recall = 0.5922818791946308\n",
            "Specificity = 0.5882352941176471\n",
            "Precision = 0.5923279618931793\n",
            "Balanced Accuracy = 0.592393509127789\n",
            "F1 Score = 0.5923542007830969\n"
          ]
        }
      ]
    },
    {
      "cell_type": "markdown",
      "source": [
        "several values for max_depth"
      ],
      "metadata": {
        "id": "0U8B89Wr0LSG"
      }
    },
    {
      "cell_type": "code",
      "source": [
        "dtc = DecisionTreeClassifier(max_depth=2)\n",
        "dtc.fit(X_train, y_train)\n",
        "predictions = dtc.predict(X_val)\n",
        "f1 = f1_score(y_val, predictions, average='weighted')\n",
        "print(\"F1 Score =\", f1)"
      ],
      "metadata": {
        "colab": {
          "base_uri": "https://localhost:8080/"
        },
        "id": "VCtGJpXV0EcB",
        "outputId": "e7d839cf-1499-40b3-ec21-c732deedd861"
      },
      "execution_count": 42,
      "outputs": [
        {
          "output_type": "stream",
          "name": "stdout",
          "text": [
            "F1 Score = 0.5694300744307316\n"
          ]
        }
      ]
    },
    {
      "cell_type": "code",
      "source": [
        "dtc = DecisionTreeClassifier(max_depth=10)\n",
        "dtc.fit(X_train, y_train)\n",
        "predictions = dtc.predict(X_val)\n",
        "f1 = f1_score(y_val, predictions, average='weighted')\n",
        "print(\"F1 Score =\", f1)"
      ],
      "metadata": {
        "colab": {
          "base_uri": "https://localhost:8080/"
        },
        "id": "ckEpgtsO1Pzd",
        "outputId": "a8aa6201-a9eb-402b-cc29-ac7de2ac8e40"
      },
      "execution_count": 43,
      "outputs": [
        {
          "output_type": "stream",
          "name": "stdout",
          "text": [
            "F1 Score = 0.5770858755338621\n"
          ]
        }
      ]
    },
    {
      "cell_type": "code",
      "source": [
        "dtc = DecisionTreeClassifier(max_depth=25)\n",
        "dtc.fit(X_train, y_train)\n",
        "predictions = dtc.predict(X_val)\n",
        "f1 = f1_score(y_val, predictions, average='weighted')\n",
        "print(\"F1 Score =\", f1)"
      ],
      "metadata": {
        "colab": {
          "base_uri": "https://localhost:8080/"
        },
        "id": "eXhDhWkO1TcT",
        "outputId": "d9a523e0-9eb9-4fad-8947-da6bc65706e0"
      },
      "execution_count": 44,
      "outputs": [
        {
          "output_type": "stream",
          "name": "stdout",
          "text": [
            "F1 Score = 0.5586540208721853\n"
          ]
        }
      ]
    },
    {
      "cell_type": "code",
      "source": [
        "dtc = DecisionTreeClassifier(max_depth=100)\n",
        "dtc.fit(X_train, y_train)\n",
        "predictions = dtc.predict(X_val)\n",
        "f1 = f1_score(y_val, predictions, average='weighted')\n",
        "print(\"F1 Score =\", f1)"
      ],
      "metadata": {
        "colab": {
          "base_uri": "https://localhost:8080/"
        },
        "id": "OxXKIOxU1XOu",
        "outputId": "830ffc81-1698-4379-8a5e-d5d2072db6e9"
      },
      "execution_count": 45,
      "outputs": [
        {
          "output_type": "stream",
          "name": "stdout",
          "text": [
            "F1 Score = 0.5670702218703386\n"
          ]
        }
      ]
    },
    {
      "cell_type": "markdown",
      "source": [
        "cross validation for max_depth"
      ],
      "metadata": {
        "id": "ERX8U6YR1eQM"
      }
    },
    {
      "cell_type": "code",
      "source": [
        "grid = { \n",
        "    'max_depth': [1,2,3,5,10,15,50,150,250,500],\n",
        "    }\n",
        "clf = GridSearchCV(estimator=DecisionTreeClassifier(),\n",
        "                   param_grid=grid)\n",
        "clf.fit(X_train, y_train)\n",
        "clf.best_params_"
      ],
      "metadata": {
        "colab": {
          "base_uri": "https://localhost:8080/"
        },
        "id": "5B_l6gs11hY_",
        "outputId": "db6bc468-08bf-4593-b2ed-909b750c9947"
      },
      "execution_count": 46,
      "outputs": [
        {
          "output_type": "execute_result",
          "data": {
            "text/plain": [
              "{'max_depth': 3}"
            ]
          },
          "metadata": {},
          "execution_count": 46
        }
      ]
    },
    {
      "cell_type": "markdown",
      "source": [
        "using the best value for max_depth (3) obtaining performance metrics for validation set"
      ],
      "metadata": {
        "id": "WWVlf998100d"
      }
    },
    {
      "cell_type": "code",
      "source": [
        "dtc = DecisionTreeClassifier(max_depth=3)\n",
        "dtc.fit(X_train, y_train)\n",
        "predictions = dtc.predict(X_val)\n",
        "recall = recall_score(y_val, predictions, average='micro')\n",
        "spec = recall_score(y_val, predictions, pos_label = 0)\n",
        "pres = precision_score(y_val, predictions, average='macro')\n",
        "bal = balanced_accuracy_score(y_val, predictions)\n",
        "f1 = f1_score(y_val, predictions, average='weighted')\n",
        "print(\"Recall =\", recall)\n",
        "print(\"Specificity =\", spec)\n",
        "print(\"Precision =\", pres)\n",
        "print(\"Balanced Accuracy =\", bal)\n",
        "print(\"F1 Score =\", f1)"
      ],
      "metadata": {
        "colab": {
          "base_uri": "https://localhost:8080/"
        },
        "id": "N8ZkTWHQ2Cuk",
        "outputId": "72f471ab-331f-4332-9a6c-d5a21ba21e93"
      },
      "execution_count": 47,
      "outputs": [
        {
          "output_type": "stream",
          "name": "stdout",
          "text": [
            "Recall = 0.5973154362416108\n",
            "Specificity = 0.8169934640522876\n",
            "Precision = 0.6151789270068839\n",
            "Balanced Accuracy = 0.591255352715799\n",
            "F1 Score = 0.5751249259593977\n"
          ]
        }
      ]
    },
    {
      "cell_type": "markdown",
      "source": [
        "grid search for min_samples_split and max_depth"
      ],
      "metadata": {
        "id": "26R8KH5P2X1z"
      }
    },
    {
      "cell_type": "code",
      "source": [
        "grid = {\n",
        "    'min_samples_split': [2,3,5,15,50,150,250,500,1000], \n",
        "    'max_depth': [1,2,3,5,10,15,50,150,250,500],\n",
        "    }\n",
        "clf = GridSearchCV(estimator=DecisionTreeClassifier(),\n",
        "                   param_grid=grid)\n",
        "clf.fit(X_train, y_train)\n",
        "clf.best_params_"
      ],
      "metadata": {
        "colab": {
          "base_uri": "https://localhost:8080/"
        },
        "id": "MK3lKgse2fp6",
        "outputId": "a6810781-4e96-4fb9-e5b2-2a508a372a8a"
      },
      "execution_count": 48,
      "outputs": [
        {
          "output_type": "execute_result",
          "data": {
            "text/plain": [
              "{'max_depth': 15, 'min_samples_split': 150}"
            ]
          },
          "metadata": {},
          "execution_count": 48
        }
      ]
    },
    {
      "cell_type": "markdown",
      "source": [
        "performance metrics for best model according to grid search (max_depth = 15, min_samples_split = 150)"
      ],
      "metadata": {
        "id": "_aAEF-8-21sB"
      }
    },
    {
      "cell_type": "code",
      "source": [
        "dtc = DecisionTreeClassifier(min_samples_split=150,max_depth=15)\n",
        "dtc.fit(X_train, y_train)\n",
        "predictions = dtc.predict(X_val)\n",
        "recall = recall_score(y_val, predictions, average='micro')\n",
        "spec = recall_score(y_val, predictions, pos_label = 0)\n",
        "pres = precision_score(y_val, predictions, average='macro')\n",
        "bal = balanced_accuracy_score(y_val, predictions)\n",
        "f1 = f1_score(y_val, predictions, average='weighted')\n",
        "print(\"Recall =\", recall)\n",
        "print(\"Specificity =\", spec)\n",
        "print(\"Precision =\", pres)\n",
        "print(\"Balanced Accuracy =\", bal)\n",
        "print(\"F1 Score =\", f1)"
      ],
      "metadata": {
        "colab": {
          "base_uri": "https://localhost:8080/"
        },
        "id": "QEwnfMI-2_8N",
        "outputId": "8e767d3a-16fe-4e7d-b3c5-06ec4fe2473d"
      },
      "execution_count": 49,
      "outputs": [
        {
          "output_type": "stream",
          "name": "stdout",
          "text": [
            "Recall = 0.5922818791946308\n",
            "Specificity = 0.5882352941176471\n",
            "Precision = 0.5923279618931793\n",
            "Balanced Accuracy = 0.592393509127789\n",
            "F1 Score = 0.5923542007830969\n"
          ]
        }
      ]
    },
    {
      "cell_type": "markdown",
      "source": [
        "chart with feature importances"
      ],
      "metadata": {
        "id": "1d8HbMx_34Zx"
      }
    },
    {
      "cell_type": "code",
      "source": [
        "feat_importances = pd.Series(dtc.feature_importances_, index=X.columns)\n",
        "feat_importances.nlargest().plot(kind='barh')\n",
        "plt.title('Feature Importances in Decision Tree Model')\n",
        "plt.show()"
      ],
      "metadata": {
        "colab": {
          "base_uri": "https://localhost:8080/",
          "height": 280
        },
        "id": "G_aHf56j36P1",
        "outputId": "03fc7452-7515-4721-d85d-c17695acdb05"
      },
      "execution_count": 50,
      "outputs": [
        {
          "output_type": "display_data",
          "data": {
            "text/plain": [
              "<Figure size 432x288 with 1 Axes>"
            ],
            "image/png": "[encoded data removed]"
          },
          "metadata": {
            "image/png": {
              "width": 427,
              "height": 263
            },
            "needs_background": "light"
          }
        }
      ]
    },
    {
      "cell_type": "markdown",
      "metadata": {
        "id": "IQkCjB5A6Cnj"
      },
      "source": [
        "# Q5"
      ]
    },
    {
      "cell_type": "markdown",
      "metadata": {
        "id": "2kW_55186Cnj"
      },
      "source": [
        "## Random Forest model"
      ]
    },
    {
      "cell_type": "markdown",
      "metadata": {
        "id": "XVEIIj5O6Cnj"
      },
      "source": [
        "1. Default Random Forest Classifier:\n",
        "    - Initiate the Random Forest Classifier from the sklearn library. Keep all parameters with their default values. (No need to specify anything)\n",
        "    - Fit the model\n",
        "    - Make predictions\n",
        "    - Calculate accuracy score. What are the **training** and **validation** accuracies of the model?\n",
        "    - Create confusion matrix\n",
        "    - Provide the performance metrics for the **validation** set.\n",
        "    \n",
        "    \n",
        "2. Using the training data perform hyper-parameter tuning. Use an appropriate metric for scoring (f1 is generally good).\n",
        "    - Perform grid search (`GridSearchCV`) where you check for `min_samples_split`, `max_depth`, and `n_estimators`.\n",
        "        - Using the best model provide the performance metrics for the validation set.\n",
        "       \n",
        "3. Create a chart showing the feature importances based on the best model obtained."
      ]
    },
    {
      "cell_type": "code",
      "execution_count": 51,
      "metadata": {
        "colab": {
          "base_uri": "https://localhost:8080/"
        },
        "id": "LCqdcj1k6Cnj",
        "outputId": "08cae3bd-f8ca-4492-acfb-9a29f8ed297a"
      },
      "outputs": [
        {
          "output_type": "stream",
          "name": "stdout",
          "text": [
            "1.0\n",
            "0.6124161073825504\n"
          ]
        }
      ],
      "source": [
        "from sklearn.ensemble import RandomForestClassifier\n",
        "rfc = RandomForestClassifier()\n",
        "rfc.fit(X_train, y_train)\n",
        "predictions = rfc.predict(X_val)\n",
        "train_score = rfc.score(X_train,y_train)\n",
        "val_score = rfc.score(X_val,y_val)\n",
        "print(train_score)\n",
        "print(val_score)"
      ]
    },
    {
      "cell_type": "code",
      "source": [
        "cm = metrics.confusion_matrix(y_val, predictions)\n",
        "print(cm)"
      ],
      "metadata": {
        "colab": {
          "base_uri": "https://localhost:8080/"
        },
        "id": "02UPst7yXdFT",
        "outputId": "4a3bb9e7-ca9f-42ca-b088-2ab0e6586b67"
      },
      "execution_count": 52,
      "outputs": [
        {
          "output_type": "stream",
          "name": "stdout",
          "text": [
            "[[193 113]\n",
            " [118 172]]\n"
          ]
        }
      ]
    },
    {
      "cell_type": "code",
      "source": [
        "recall = recall_score(y_val, predictions, average='micro')\n",
        "spec = recall_score(y_val, predictions, pos_label = 0)\n",
        "pres = precision_score(y_val, predictions, average='macro')\n",
        "bal = balanced_accuracy_score(y_val, predictions)\n",
        "f1 = f1_score(y_val, predictions, average='weighted')\n",
        "print(\"Recall =\", recall)\n",
        "print(\"Specificity =\", spec)\n",
        "print(\"Precision =\", pres)\n",
        "print(\"Balanced Accuracy =\", bal)\n",
        "print(\"F1 Score =\", f1)"
      ],
      "metadata": {
        "colab": {
          "base_uri": "https://localhost:8080/"
        },
        "id": "4IJ7nrUuXokv",
        "outputId": "a11ad15d-31a6-4fc6-bc4e-edb7f2e4f03c"
      },
      "execution_count": 53,
      "outputs": [
        {
          "output_type": "stream",
          "name": "stdout",
          "text": [
            "Recall = 0.6124161073825504\n",
            "Specificity = 0.630718954248366\n",
            "Precision = 0.6120437750324363\n",
            "Balanced Accuracy = 0.611911201262114\n",
            "F1 Score = 0.6123013971895412\n"
          ]
        }
      ]
    },
    {
      "cell_type": "code",
      "source": [
        "grid = {\n",
        "    'min_samples_split': [2,50,150,250,500], \n",
        "    'max_depth': [None,1,5,15,50,250],\n",
        "    'n_estimators': [1,10,50,100,250,500],\n",
        "    }\n",
        "gs = GridSearchCV(estimator=RandomForestClassifier(),\n",
        "                   param_grid=grid)\n",
        "gs.fit(X_train, y_train)\n",
        "gs.best_params_"
      ],
      "metadata": {
        "colab": {
          "base_uri": "https://localhost:8080/"
        },
        "id": "VtIWEbxVYpVj",
        "outputId": "cf9368f0-8fa1-42d8-fc4e-71e3a5d15442"
      },
      "execution_count": 54,
      "outputs": [
        {
          "output_type": "execute_result",
          "data": {
            "text/plain": [
              "{'max_depth': None, 'min_samples_split': 50, 'n_estimators': 250}"
            ]
          },
          "metadata": {},
          "execution_count": 54
        }
      ]
    },
    {
      "cell_type": "markdown",
      "source": [
        "performance metrics for best model"
      ],
      "metadata": {
        "id": "I97ysN-7g1tD"
      }
    },
    {
      "cell_type": "code",
      "source": [
        "rfc = RandomForestClassifier(max_depth=None, min_samples_split=50, n_estimators=250)\n",
        "rfc.fit(X_train, y_train)\n",
        "predictions = rfc.predict(X_val)\n",
        "recall = recall_score(y_val, predictions, average='micro')\n",
        "spec = recall_score(y_val, predictions, pos_label = 0)\n",
        "pres = precision_score(y_val, predictions, average='macro')\n",
        "bal = balanced_accuracy_score(y_val, predictions)\n",
        "f1 = f1_score(y_val, predictions, average='weighted')\n",
        "print(\"Recall =\", recall)\n",
        "print(\"Specificity =\", spec)\n",
        "print(\"Precision =\", pres)\n",
        "print(\"Balanced Accuracy =\", bal)\n",
        "print(\"F1 Score =\", f1)"
      ],
      "metadata": {
        "colab": {
          "base_uri": "https://localhost:8080/"
        },
        "id": "LvshEpG6gwGx",
        "outputId": "72faf520-1b07-4565-ea59-03d6aa58a000"
      },
      "execution_count": 56,
      "outputs": [
        {
          "output_type": "stream",
          "name": "stdout",
          "text": [
            "Recall = 0.610738255033557\n",
            "Specificity = 0.6078431372549019\n",
            "Precision = 0.610738255033557\n",
            "Balanced Accuracy = 0.6108181203515889\n",
            "F1 Score = 0.6108084017641903\n"
          ]
        }
      ]
    },
    {
      "cell_type": "code",
      "source": [
        "feat_importances = pd.Series(rfc.feature_importances_, index=X.columns)\n",
        "feat_importances.nlargest().plot(kind='barh')\n",
        "plt.title('Feature Importances in Random Forest Model')\n",
        "plt.show()"
      ],
      "metadata": {
        "colab": {
          "base_uri": "https://localhost:8080/",
          "height": 280
        },
        "id": "1VgoW5F_kQ6g",
        "outputId": "9c0e7a2d-5f99-47ff-f266-89e6115620ae"
      },
      "execution_count": 57,
      "outputs": [
        {
          "output_type": "display_data",
          "data": {
            "text/plain": [
              "<Figure size 432x288 with 1 Axes>"
            ],
            "image/png": "[encoded data removed]"
          },
          "metadata": {
            "image/png": {
              "width": 434,
              "height": 263
            },
            "needs_background": "light"
          }
        }
      ]
    },
    {
      "cell_type": "markdown",
      "metadata": {
        "id": "qGiZutMC6Cnk"
      },
      "source": [
        "# Q6"
      ]
    },
    {
      "cell_type": "markdown",
      "metadata": {
        "id": "y6r79qJn6Cnk"
      },
      "source": [
        "## Adaboost model"
      ]
    },
    {
      "cell_type": "markdown",
      "metadata": {
        "id": "V-SuBeuy6Cnk"
      },
      "source": [
        "1. Default Adaboost classifier:\n",
        "    - Initiate the Adaboost classifier from the sklearn library. Keep all parameters with their default values. (No need to specify anything)\n",
        "    - Fit the model\n",
        "    - Make predictions\n",
        "    - Calculate accuracy score. What are the **training** and **validation** accuracies of the model?\n",
        "    - Create confusion matrix\n",
        "    - Provide the performance metrics for the **validation** set.\n",
        "    \n",
        "    \n",
        "2. Using the training data perform hyper-parameter tuning. Use an appropriate metric for scoring (f1 is generally good).\n",
        "    - Perform grid search (`GridSearchCV`) where you check for `learning_rate`, and `n_estimators`.\n",
        "        - Using the best model provide the performance metrics for the validation set.\n",
        "       \n",
        "3. Create a chart showing the feature importances based on the best model obtained."
      ]
    },
    {
      "cell_type": "code",
      "execution_count": 58,
      "metadata": {
        "id": "CsfuRcV86Cnk"
      },
      "outputs": [],
      "source": [
        "from sklearn.ensemble import AdaBoostClassifier"
      ]
    },
    {
      "cell_type": "code",
      "execution_count": 59,
      "metadata": {
        "colab": {
          "base_uri": "https://localhost:8080/"
        },
        "id": "qX6Wx4nM6Cnk",
        "outputId": "b8499e5c-6fa0-43c1-ceca-2bbe0f4c911d"
      },
      "outputs": [
        {
          "output_type": "stream",
          "name": "stdout",
          "text": [
            "0.6739373601789709\n",
            "0.5855704697986577\n"
          ]
        }
      ],
      "source": [
        "adb = AdaBoostClassifier()\n",
        "adb.fit(X_train, y_train)\n",
        "predictions = adb.predict(X_val)\n",
        "train_score = adb.score(X_train,y_train)\n",
        "val_score = adb.score(X_val,y_val)\n",
        "print(train_score)\n",
        "print(val_score)"
      ]
    },
    {
      "cell_type": "code",
      "source": [
        "cm = metrics.confusion_matrix(y_val, predictions)\n",
        "print(cm)"
      ],
      "metadata": {
        "colab": {
          "base_uri": "https://localhost:8080/"
        },
        "id": "zKZR0S3kk042",
        "outputId": "092191ce-1ebf-4c3e-840e-4d2ec5e40fdb"
      },
      "execution_count": 60,
      "outputs": [
        {
          "output_type": "stream",
          "name": "stdout",
          "text": [
            "[[177 129]\n",
            " [118 172]]\n"
          ]
        }
      ]
    },
    {
      "cell_type": "code",
      "source": [
        "recall = recall_score(y_val, predictions, average='micro')\n",
        "spec = recall_score(y_val, predictions, pos_label = 0)\n",
        "pres = precision_score(y_val, predictions, average='macro')\n",
        "bal = balanced_accuracy_score(y_val, predictions)\n",
        "f1 = f1_score(y_val, predictions, average='weighted')\n",
        "print(\"Recall =\", recall)\n",
        "print(\"Specificity =\", spec)\n",
        "print(\"Precision =\", pres)\n",
        "print(\"Balanced Accuracy =\", bal)\n",
        "print(\"F1 Score =\", f1)"
      ],
      "metadata": {
        "colab": {
          "base_uri": "https://localhost:8080/"
        },
        "id": "h1cjW7-ElERz",
        "outputId": "f0e015c3-26ce-4b6e-e628-541cc76b3fce"
      },
      "execution_count": 61,
      "outputs": [
        {
          "output_type": "stream",
          "name": "stdout",
          "text": [
            "Recall = 0.5855704697986577\n",
            "Specificity = 0.5784313725490197\n",
            "Precision = 0.5857142857142856\n",
            "Balanced Accuracy = 0.5857674104124408\n",
            "F1 Score = 0.5856346426638516\n"
          ]
        }
      ]
    },
    {
      "cell_type": "code",
      "source": [
        "grid = {\n",
        "    'learning_rate': [0,0.1,0.5,1,2,5,100], \n",
        "    'n_estimators': [1,10,50,100,250,500],\n",
        "    }\n",
        "gs = GridSearchCV(estimator=AdaBoostClassifier(),\n",
        "                   param_grid=grid)\n",
        "gs.fit(X_train, y_train)\n",
        "gs.best_params_"
      ],
      "metadata": {
        "colab": {
          "base_uri": "https://localhost:8080/"
        },
        "id": "zI8jRo5KlUq-",
        "outputId": "c60d53e1-f06f-4e5b-bcdc-1d7c95402cfa"
      },
      "execution_count": 63,
      "outputs": [
        {
          "output_type": "execute_result",
          "data": {
            "text/plain": [
              "{'learning_rate': 0.1, 'n_estimators': 250}"
            ]
          },
          "metadata": {},
          "execution_count": 63
        }
      ]
    },
    {
      "cell_type": "code",
      "source": [
        "adb = AdaBoostClassifier(n_estimators=250, learning_rate=0.1)\n",
        "adb.fit(X_train, y_train)\n",
        "predictions = adb.predict(X_val)\n",
        "recall = recall_score(y_val, predictions, average='micro')\n",
        "spec = recall_score(y_val, predictions, pos_label = 0)\n",
        "pres = precision_score(y_val, predictions, average='macro')\n",
        "bal = balanced_accuracy_score(y_val, predictions)\n",
        "f1 = f1_score(y_val, predictions, average='weighted')\n",
        "print(\"Recall =\", recall)\n",
        "print(\"Specificity =\", spec)\n",
        "print(\"Precision =\", pres)\n",
        "print(\"Balanced Accuracy =\", bal)\n",
        "print(\"F1 Score =\", f1)"
      ],
      "metadata": {
        "colab": {
          "base_uri": "https://localhost:8080/"
        },
        "id": "D-B7iNMOmEXj",
        "outputId": "20d46797-4459-49bd-f7e3-9b3d697500a8"
      },
      "execution_count": 64,
      "outputs": [
        {
          "output_type": "stream",
          "name": "stdout",
          "text": [
            "Recall = 0.5973154362416108\n",
            "Specificity = 0.6209150326797386\n",
            "Precision = 0.5968740118353887\n",
            "Balanced Accuracy = 0.5966644128915934\n",
            "F1 Score = 0.5970974251987458\n"
          ]
        }
      ]
    },
    {
      "cell_type": "code",
      "source": [
        "feat_importances = pd.Series(adb.feature_importances_, index=X.columns)\n",
        "feat_importances.nlargest().plot(kind='barh')\n",
        "plt.title('Feature Importances in Adaboost Model')\n",
        "plt.show()"
      ],
      "metadata": {
        "colab": {
          "base_uri": "https://localhost:8080/",
          "height": 280
        },
        "id": "FCS1iPJ2m2yq",
        "outputId": "a5b8a678-15d1-4b03-ad2f-880d96e78bd1"
      },
      "execution_count": 75,
      "outputs": [
        {
          "output_type": "display_data",
          "data": {
            "text/plain": [
              "<Figure size 432x288 with 1 Axes>"
            ],
            "image/png": "[encoded data removed]"
          },
          "metadata": {
            "image/png": {
              "width": 441,
              "height": 263
            },
            "needs_background": "light"
          }
        }
      ]
    },
    {
      "cell_type": "markdown",
      "metadata": {
        "id": "nToD3wKW6Cnk"
      },
      "source": [
        "# Q7"
      ]
    },
    {
      "cell_type": "markdown",
      "metadata": {
        "id": "PgQW0AXp6Cnk"
      },
      "source": [
        "## Gradient Boosting Machine"
      ]
    },
    {
      "cell_type": "markdown",
      "metadata": {
        "id": "4ihkpF2T6Cnl"
      },
      "source": [
        "1. Default Gradient Boosting classifier:\n",
        "    - Initiate the Gradient Boosting classifier from the sklearn library. Keep all parameters with their default values. (No need to specify anything)\n",
        "    - Fit the model\n",
        "    - Make predictions\n",
        "    - Calculate accuracy score. What are the **training** and **validation** accuracies of the model?\n",
        "    - Create confusion matrix\n",
        "    - Provide the performance metrics for the **validation** set.\n",
        "    \n",
        "    \n",
        "2. Using the training data perform hyper-parameter tuning. Use an appropriate metric for scoring (f1 is generally good).\n",
        "    - Perform grid search (`GridSearchCV`) where you check for `learning_rate`, and `n_estimators`.\n",
        "        - Using the best model provide the performance metrics for the validation set.\n",
        "        \n",
        "3. Create a chart showing the feature importances based on the best model obtained."
      ]
    },
    {
      "cell_type": "code",
      "execution_count": 67,
      "metadata": {
        "id": "5PPKfr556Cnl"
      },
      "outputs": [],
      "source": [
        "from sklearn.ensemble import GradientBoostingClassifier"
      ]
    },
    {
      "cell_type": "code",
      "execution_count": 68,
      "metadata": {
        "colab": {
          "base_uri": "https://localhost:8080/"
        },
        "id": "MqSIbYJq6Cnl",
        "outputId": "8c90b615-8e9c-4c6c-d2b8-e98a7a99f75c"
      },
      "outputs": [
        {
          "output_type": "stream",
          "name": "stdout",
          "text": [
            "0.7986577181208053\n",
            "0.610738255033557\n"
          ]
        }
      ],
      "source": [
        "gbc = GradientBoostingClassifier()\n",
        "gbc.fit(X_train, y_train)\n",
        "predictions = gbc.predict(X_val)\n",
        "train_score = gbc.score(X_train,y_train)\n",
        "val_score = gbc.score(X_val,y_val)\n",
        "print(train_score)\n",
        "print(val_score)"
      ]
    },
    {
      "cell_type": "code",
      "source": [
        "cm = metrics.confusion_matrix(y_val, predictions)\n",
        "print(cm)"
      ],
      "metadata": {
        "colab": {
          "base_uri": "https://localhost:8080/"
        },
        "id": "k2nH2o4QnKQw",
        "outputId": "ccd6716e-7e7f-4475-f3f6-dc7cec5b3bf7"
      },
      "execution_count": 69,
      "outputs": [
        {
          "output_type": "stream",
          "name": "stdout",
          "text": [
            "[[193 113]\n",
            " [119 171]]\n"
          ]
        }
      ]
    },
    {
      "cell_type": "code",
      "source": [
        "recall = recall_score(y_val, predictions, average='micro')\n",
        "spec = recall_score(y_val, predictions, pos_label = 0)\n",
        "pres = precision_score(y_val, predictions, average='macro')\n",
        "bal = balanced_accuracy_score(y_val, predictions)\n",
        "f1 = f1_score(y_val, predictions, average='weighted')\n",
        "print(\"Recall =\", recall)\n",
        "print(\"Specificity =\", spec)\n",
        "print(\"Precision =\", pres)\n",
        "print(\"Balanced Accuracy =\", bal)\n",
        "print(\"F1 Score =\", f1)"
      ],
      "metadata": {
        "colab": {
          "base_uri": "https://localhost:8080/"
        },
        "id": "K8eq3TAenLXC",
        "outputId": "775b09ba-1a00-48c4-d15d-34a972ae2898"
      },
      "execution_count": 70,
      "outputs": [
        {
          "output_type": "stream",
          "name": "stdout",
          "text": [
            "Recall = 0.610738255033557\n",
            "Specificity = 0.630718954248366\n",
            "Precision = 0.6103512098230408\n",
            "Balanced Accuracy = 0.6101870633310795\n",
            "F1 Score = 0.6105934061044062\n"
          ]
        }
      ]
    },
    {
      "cell_type": "code",
      "source": [
        "grid = {\n",
        "    'learning_rate': [0,0.1,0.5,1,2,5,100], \n",
        "    'n_estimators': [1,10,50,100,250,500],\n",
        "    }\n",
        "gs = GridSearchCV(estimator=GradientBoostingClassifier(),\n",
        "                   param_grid=grid)\n",
        "gs.fit(X_train, y_train)\n",
        "gs.best_params_"
      ],
      "metadata": {
        "colab": {
          "base_uri": "https://localhost:8080/"
        },
        "id": "V45bqYPRned8",
        "outputId": "5159ab36-07eb-4088-a141-e32eb896d821"
      },
      "execution_count": 71,
      "outputs": [
        {
          "output_type": "execute_result",
          "data": {
            "text/plain": [
              "{'learning_rate': 0.1, 'n_estimators': 50}"
            ]
          },
          "metadata": {},
          "execution_count": 71
        }
      ]
    },
    {
      "cell_type": "code",
      "source": [
        "gbc = GradientBoostingClassifier(n_estimators=50, learning_rate=0.1)\n",
        "gbc.fit(X_train, y_train)\n",
        "predictions = gbc.predict(X_val)\n",
        "recall = recall_score(y_val, predictions, average='micro')\n",
        "spec = recall_score(y_val, predictions, pos_label = 0)\n",
        "pres = precision_score(y_val, predictions, average='macro')\n",
        "bal = balanced_accuracy_score(y_val, predictions)\n",
        "f1 = f1_score(y_val, predictions, average='weighted')\n",
        "print(\"Recall =\", recall)\n",
        "print(\"Specificity =\", spec)\n",
        "print(\"Precision =\", pres)\n",
        "print(\"Balanced Accuracy =\", bal)\n",
        "print(\"F1 Score =\", f1)"
      ],
      "metadata": {
        "colab": {
          "base_uri": "https://localhost:8080/"
        },
        "id": "P0AXIp2rnoHI",
        "outputId": "01809a9f-5a0c-49f3-bcf4-ecee5dc94955"
      },
      "execution_count": 72,
      "outputs": [
        {
          "output_type": "stream",
          "name": "stdout",
          "text": [
            "Recall = 0.610738255033557\n",
            "Specificity = 0.6241830065359477\n",
            "Precision = 0.6104121572871573\n",
            "Balanced Accuracy = 0.6103673653369394\n",
            "F1 Score = 0.6106987685903044\n"
          ]
        }
      ]
    },
    {
      "cell_type": "code",
      "source": [
        "feat_importances = pd.Series(gbc.feature_importances_, index=X.columns)\n",
        "feat_importances.nlargest().plot(kind='barh')\n",
        "plt.title('Feature Importances in Gradient Boosting')\n",
        "plt.show()"
      ],
      "metadata": {
        "colab": {
          "base_uri": "https://localhost:8080/",
          "height": 280
        },
        "id": "3TjHI72lnzYC",
        "outputId": "6ca50777-906b-40ec-8731-cce05ec79c8b"
      },
      "execution_count": 74,
      "outputs": [
        {
          "output_type": "display_data",
          "data": {
            "text/plain": [
              "<Figure size 432x288 with 1 Axes>"
            ],
            "image/png": "[encoded data removed]"
          },
          "metadata": {
            "image/png": {
              "width": 427,
              "height": 263
            },
            "needs_background": "light"
          }
        }
      ]
    },
    {
      "cell_type": "markdown",
      "metadata": {
        "id": "7houSDHk6Cnl"
      },
      "source": [
        "# Q8 (15 points)"
      ]
    },
    {
      "cell_type": "markdown",
      "metadata": {
        "id": "zUSBoI0u6Cnl"
      },
      "source": [
        "- Using one or more of the Decision Tree, Random Forest, Adaboost, and Gradient Boosting classifer models:\n",
        "    - Think of other ways of improving the recall and F1-score and list at least two possibilities.\n",
        "    - Implement both of the methods you proposed. \n",
        "    - Is the model F1-score increasing?"
      ]
    },
    {
      "cell_type": "markdown",
      "source": [
        "In the random forest classifier changing the default criterion from 'gini' to 'entropy' could improve recall and F1, implemented below with optimized model values:"
      ],
      "metadata": {
        "id": "v9Fmfoaso0qu"
      }
    },
    {
      "cell_type": "code",
      "execution_count": 80,
      "metadata": {
        "colab": {
          "base_uri": "https://localhost:8080/"
        },
        "id": "kybCPU3Y6Cnl",
        "outputId": "0fd32fb1-cef7-4dba-a118-ea0c5c9da1c0"
      },
      "outputs": [
        {
          "output_type": "stream",
          "name": "stdout",
          "text": [
            "Recall = 0.6140939597315436\n",
            "F1 Score = 0.6141461091964447\n"
          ]
        }
      ],
      "source": [
        "rfc = RandomForestClassifier(max_depth=None, criterion='entropy', min_samples_split=50, n_estimators=250)\n",
        "rfc.fit(X_train, y_train)\n",
        "predictions = rfc.predict(X_val)\n",
        "recall = recall_score(y_val, predictions, average='micro')\n",
        "f1 = f1_score(y_val, predictions, average='weighted')\n",
        "print(\"Recall =\", recall)\n",
        "print(\"F1 Score =\", f1)"
      ]
    },
    {
      "cell_type": "markdown",
      "source": [
        "resulted in slight increase in F1 score from 0.610 to 0.614"
      ],
      "metadata": {
        "id": "bLwoc_wSqSeh"
      }
    },
    {
      "cell_type": "markdown",
      "source": [
        "for gradient boost classifier changing the loss function from default deviance to exponential could improve recall and F1, implemented below with optimized model values:"
      ],
      "metadata": {
        "id": "BwC56ycWqC_m"
      }
    },
    {
      "cell_type": "code",
      "source": [
        "gbc = GradientBoostingClassifier(n_estimators=50, learning_rate=0.1, loss='exponential')\n",
        "gbc.fit(X_train, y_train)\n",
        "predictions = gbc.predict(X_val)\n",
        "recall = recall_score(y_val, predictions, average='micro')\n",
        "f1 = f1_score(y_val, predictions, average='weighted')\n",
        "print(\"Recall =\", recall)\n",
        "print(\"F1 Score =\", f1)"
      ],
      "metadata": {
        "colab": {
          "base_uri": "https://localhost:8080/"
        },
        "id": "dN7oo_6BrpOe",
        "outputId": "6a009ce0-e72e-48c9-da43-bbead1494feb"
      },
      "execution_count": 87,
      "outputs": [
        {
          "output_type": "stream",
          "name": "stdout",
          "text": [
            "Recall = 0.6057046979865772\n",
            "F1 Score = 0.6056413627307269\n"
          ]
        }
      ]
    },
    {
      "cell_type": "markdown",
      "source": [
        "resulted in slight decrease in F1 score from .61 to .60"
      ],
      "metadata": {
        "id": "bQ5apwUztVXm"
      }
    },
    {
      "cell_type": "markdown",
      "metadata": {
        "id": "PHBjq-jV6Cnl"
      },
      "source": [
        "# Q9 (15 points)"
      ]
    },
    {
      "cell_type": "markdown",
      "metadata": {
        "id": "qWwwt4oE6Cnl"
      },
      "source": [
        "- Choose the best fitted model for each of the classifiers (1 model for each of Decision Tree, Random Forest, Adaboost, and Gradient Boosting)\n",
        "- Create a table summarizing results on the **test set**:\n",
        "    - Create confusion matrix for each model\n",
        "    - Provide the performance metrics on the test set for each model.\n",
        "\n",
        "Which one is the winner among all?"
      ]
    },
    {
      "cell_type": "code",
      "execution_count": 94,
      "metadata": {
        "colab": {
          "base_uri": "https://localhost:8080/"
        },
        "id": "AiuAAdzY6Cnl",
        "outputId": "b9fdaf16-a677-4f35-c384-36d6a6686257"
      },
      "outputs": [
        {
          "output_type": "stream",
          "name": "stdout",
          "text": [
            "decision tree best model:\n",
            "[[205 122]\n",
            " [122 148]]\n",
            "Recall = 0.5912897822445561\n",
            "Specificity = 0.6269113149847095\n",
            "Precision = 0.5875297315664288\n",
            "Balanced Accuracy = 0.5875297315664288\n",
            "F1 Score = 0.5912897822445561\n",
            "\n",
            " random forest best model:\n",
            "[[197 130]\n",
            " [111 159]]\n",
            "Recall = 0.5963149078726968\n",
            "Specificity = 0.6024464831804281\n",
            "Precision = 0.5948916999955063\n",
            "Balanced Accuracy = 0.5956676860346586\n",
            "F1 Score = 0.5971360047034151\n",
            "\n",
            " adaboost best model:\n",
            "[[206 121]\n",
            " [119 151]]\n",
            "Recall = 0.5979899497487438\n",
            "Specificity = 0.6299694189602446\n",
            "Precision = 0.5944966063348416\n",
            "Balanced Accuracy = 0.5946143391097519\n",
            "F1 Score = 0.5981150858769431\n",
            "\n",
            " gradient boosting best model:\n",
            "[[210 117]\n",
            " [117 153]]\n",
            "Recall = 0.6080402010050251\n",
            "Specificity = 0.6422018348623854\n",
            "Precision = 0.604434250764526\n",
            "Balanced Accuracy = 0.604434250764526\n",
            "F1 Score = 0.6080402010050251\n"
          ]
        }
      ],
      "source": [
        "print('decision tree best model:')\n",
        "dtc = DecisionTreeClassifier(min_samples_split=150,max_depth=15)\n",
        "dtc.fit(X_train, y_train)\n",
        "predictions = dtc.predict(X_test)\n",
        "cm = metrics.confusion_matrix(y_test, predictions)\n",
        "print(cm)\n",
        "recall = recall_score(y_test, predictions, average='micro')\n",
        "spec = recall_score(y_test, predictions, pos_label = 0)\n",
        "pres = precision_score(y_test, predictions, average='macro')\n",
        "bal = balanced_accuracy_score(y_test, predictions)\n",
        "f1 = f1_score(y_test, predictions, average='weighted')\n",
        "print(\"Recall =\", recall)\n",
        "print(\"Specificity =\", spec)\n",
        "print(\"Precision =\", pres)\n",
        "print(\"Balanced Accuracy =\", bal)\n",
        "print(\"F1 Score =\", f1)\n",
        "\n",
        "print('\\n', 'random forest best model:')\n",
        "rfc = RandomForestClassifier(max_depth=None, min_samples_split=50, n_estimators=250)\n",
        "rfc.fit(X_train, y_train)\n",
        "predictions = rfc.predict(X_test)\n",
        "cm = metrics.confusion_matrix(y_test, predictions)\n",
        "print(cm)\n",
        "recall = recall_score(y_test, predictions, average='micro')\n",
        "spec = recall_score(y_test, predictions, pos_label = 0)\n",
        "pres = precision_score(y_test, predictions, average='macro')\n",
        "bal = balanced_accuracy_score(y_test, predictions)\n",
        "f1 = f1_score(y_test, predictions, average='weighted')\n",
        "print(\"Recall =\", recall)\n",
        "print(\"Specificity =\", spec)\n",
        "print(\"Precision =\", pres)\n",
        "print(\"Balanced Accuracy =\", bal)\n",
        "print(\"F1 Score =\", f1)\n",
        "\n",
        "print('\\n', 'adaboost best model:')\n",
        "adb = AdaBoostClassifier(n_estimators=250, learning_rate=0.1)\n",
        "adb.fit(X_train, y_train)\n",
        "predictions = adb.predict(X_test)\n",
        "cm = metrics.confusion_matrix(y_test, predictions)\n",
        "print(cm)\n",
        "recall = recall_score(y_test, predictions, average='micro')\n",
        "spec = recall_score(y_test, predictions, pos_label = 0)\n",
        "pres = precision_score(y_test, predictions, average='macro')\n",
        "bal = balanced_accuracy_score(y_test, predictions)\n",
        "f1 = f1_score(y_test, predictions, average='weighted')\n",
        "print(\"Recall =\", recall)\n",
        "print(\"Specificity =\", spec)\n",
        "print(\"Precision =\", pres)\n",
        "print(\"Balanced Accuracy =\", bal)\n",
        "print(\"F1 Score =\", f1)\n",
        "\n",
        "print('\\n', 'gradient boosting best model:')\n",
        "gbc = GradientBoostingClassifier(n_estimators=50, learning_rate=0.1)\n",
        "gbc.fit(X_train, y_train)\n",
        "predictions = gbc.predict(X_test)\n",
        "cm = metrics.confusion_matrix(y_test, predictions)\n",
        "print(cm)\n",
        "recall = recall_score(y_test, predictions, average='micro')\n",
        "spec = recall_score(y_test, predictions, pos_label = 0)\n",
        "pres = precision_score(y_test, predictions, average='macro')\n",
        "bal = balanced_accuracy_score(y_test, predictions)\n",
        "f1 = f1_score(y_test, predictions, average='weighted')\n",
        "print(\"Recall =\", recall)\n",
        "print(\"Specificity =\", spec)\n",
        "print(\"Precision =\", pres)\n",
        "print(\"Balanced Accuracy =\", bal)\n",
        "print(\"F1 Score =\", f1)"
      ]
    },
    {
      "cell_type": "markdown",
      "source": [
        "Winner among all appears to be Gradient Boosting!"
      ],
      "metadata": {
        "id": "rnCPySDdv08Y"
      }
    },
    {
      "cell_type": "markdown",
      "metadata": {
        "id": "dldW7CPQ6Cnm"
      },
      "source": [
        "# Great Job!"
      ]
    }
  ],
  "metadata": {
    "kernelspec": {
      "display_name": "Python 3 (ipykernel)",
      "language": "python",
      "name": "python3"
    },
    "language_info": {
      "codemirror_mode": {
        "name": "ipython",
        "version": 3
      },
      "file_extension": ".py",
      "mimetype": "text/x-python",
      "name": "python",
      "nbconvert_exporter": "python",
      "pygments_lexer": "ipython3",
      "version": "3.8.10"
    },
    "toc": {
      "base_numbering": 1,
      "nav_menu": {},
      "number_sections": false,
      "sideBar": false,
      "skip_h1_title": false,
      "title_cell": "Table of Contents",
      "title_sidebar": "Contents",
      "toc_cell": false,
      "toc_position": {},
      "toc_section_display": false,
      "toc_window_display": false
    },
    "colab": {
      "provenance": [],
      "collapsed_sections": [
        "uiIOL-r56Cne"
      ]
    }
  },
  "nbformat": 4,
  "nbformat_minor": 0
}