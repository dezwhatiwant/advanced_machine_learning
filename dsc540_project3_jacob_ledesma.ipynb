{
  "cells": [
    {
      "cell_type": "markdown",
      "metadata": {
        "id": "70HuQocaJPJI"
      },
      "source": [
        "# DSC540 Project 3"
      ]
    },
    {
      "cell_type": "markdown",
      "metadata": {
        "id": "mycHEw5iJPJJ"
      },
      "source": [
        "## Rules\n",
        "- Write your code under the corresponding questions. You are encouraged to use more than one cell.\n",
        "- Provide explanation in a separate Markdown formatted cell. \n",
        "- You can change the cell type by:\n",
        "    - Click on the outer area of the cell type you want to change,\n",
        "    - Go to the top, and select either Code or Markdown from the dropdown menu.\n",
        "- Be concise in your explanations and conclusions.\n",
        "- Write clear code and provide explanation to functions you create by using `#` comment sign.\n",
        "- Try to answer the questions by yourself. Use documentation from pandas, sklearn and similar libraries to solve the problem.\n",
        "- If you are stuck you can use different resources. Do not find an identical project and copy paste the solutions. \n",
        "- Write your name at the beginning of the jupyter notebook.\n",
        "\n",
        "\n",
        "Important:  \n",
        "- **Do NOT share the solutions with other people.**\n",
        "- **Do NOT share the solutions on the internet including but not limited to Github and other platforms.**\n",
        "- Sign the Honor Pledge below indicating that you have agreed to these rules listed here, and any other ethical and honor rules as required by the university.\n",
        "\n",
        "\n",
        "\n",
        "- **Deliverables:**\n",
        "    1. The Python Jupyter notebook file named properly with your name. Example: dsc540_project1_john_doe.ipynb\n",
        "    2. The HTML output of this code notebook names the same way. Example: dsc540_project1_john_doe.html\n",
        "        - File -> Download as -> HTML  \n",
        "        \n",
        "        \n",
        "**DO NOT zip the files.**\n",
        "\n",
        "Good Luck!"
      ]
    },
    {
      "cell_type": "markdown",
      "metadata": {
        "id": "dS0TNKqxJPJK"
      },
      "source": [
        "### Jacob Ledesma"
      ]
    },
    {
      "cell_type": "markdown",
      "metadata": {
        "id": "9B19ROZLJPJK"
      },
      "source": [
        "**Honor Pledge:**  \n",
        "I pledge on my honor that I, **Jacob Ledesma**, have followed the rules listed above, that I have not given or received any unauthorized assistance on this assignment. \n"
      ]
    },
    {
      "cell_type": "markdown",
      "metadata": {
        "id": "ow0Mj_0fJPJL"
      },
      "source": [
        "\n",
        "## Project Description\n",
        "\n",
        "In this project we will be analyzing CO and NOX gas emissions from a power plant. The variables, their meanings and some statistics are given in the table below."
      ]
    },
    {
      "cell_type": "markdown",
      "metadata": {
        "id": "QCwyEvcfJPJL"
      },
      "source": [
        "![PowerPlantEmissionsFeaturesTable]\n",
        "(PowerPlantEmissionsFeaturesTable.PNG)"
      ]
    },
    {
      "cell_type": "markdown",
      "metadata": {
        "id": "JiuJClgvJPJL"
      },
      "source": [
        "## Import Libraries\n",
        "\n",
        "**Import the usual libraries for pandas and plotting, and sklearn.**"
      ]
    },
    {
      "cell_type": "code",
      "execution_count": 72,
      "metadata": {
        "id": "IG_5GZGaJPJL"
      },
      "outputs": [],
      "source": [
        "import pandas as pd\n",
        "import numpy as np\n",
        "import matplotlib.pyplot as plt\n",
        "import seaborn as sns\n",
        "\n",
        "from sklearn import metrics"
      ]
    },
    {
      "cell_type": "code",
      "execution_count": 73,
      "metadata": {
        "colab": {
          "base_uri": "https://localhost:8080/",
          "height": 35
        },
        "id": "nSJvhtTKJPJM",
        "outputId": "77ac1bbe-b4af-4a7d-b8cc-0bb728480d66"
      },
      "outputs": [
        {
          "output_type": "execute_result",
          "data": {
            "text/plain": [
              "'1.0.2'"
            ],
            "application/vnd.google.colaboratory.intrinsic+json": {
              "type": "string"
            }
          },
          "metadata": {},
          "execution_count": 73
        }
      ],
      "source": [
        "import sklearn\n",
        "sklearn.__version__"
      ]
    },
    {
      "cell_type": "code",
      "execution_count": 74,
      "metadata": {
        "id": "eawghEoTJPJN"
      },
      "outputs": [],
      "source": [
        "pd.set_option('display.max_columns', 100)\n",
        "RANDOM_STATE = 0"
      ]
    },
    {
      "cell_type": "markdown",
      "metadata": {
        "id": "RoysF936JPJN"
      },
      "source": [
        "### These are the packages I used"
      ]
    },
    {
      "cell_type": "code",
      "execution_count": 145,
      "metadata": {
        "id": "6mJHvzLfJPJN"
      },
      "outputs": [],
      "source": [
        "from sklearn.metrics import recall_score\n",
        "from sklearn.metrics import precision_score\n",
        "from sklearn.metrics import balanced_accuracy_score\n",
        "from sklearn.metrics import f1_score\n",
        "from sklearn.ensemble import RandomForestClassifier\n",
        "from sklearn.ensemble import GradientBoostingClassifier\n",
        "from tabulate import tabulate"
      ]
    },
    {
      "cell_type": "markdown",
      "metadata": {
        "id": "9IN0ky9oJPJN"
      },
      "source": [
        "> NOTE: For the Kernel RBF SVM hyper parameter tuning use these parameters in the questions:\n",
        "        \n",
        "        'C': [1, 10, 100, 1000]\n",
        "        'gamma': [0.001, 0.01, 0.1, 1]"
      ]
    },
    {
      "cell_type": "markdown",
      "metadata": {
        "id": "Fl53oXEhJPJN"
      },
      "source": [
        "## Q1 [10]\n",
        "- Read in the dataset\n",
        "- How many rows and variables are there?\n"
      ]
    },
    {
      "cell_type": "markdown",
      "metadata": {
        "id": "t0eI_zeiJPJO"
      },
      "source": [
        "#### Get the Data\n",
        "\n",
        "**Use pandas to read in the datasets as a dataframe.**"
      ]
    },
    {
      "cell_type": "code",
      "execution_count": 76,
      "metadata": {
        "id": "Sc_OTkgYJPJO"
      },
      "outputs": [],
      "source": [
        "df = pd.read_csv('gas_emissions.csv')"
      ]
    },
    {
      "cell_type": "code",
      "execution_count": 77,
      "metadata": {
        "colab": {
          "base_uri": "https://localhost:8080/",
          "height": 206
        },
        "id": "ckIdWtYGJPJO",
        "outputId": "0ade00c7-0213-4c58-8754-ea46b96f92dc"
      },
      "outputs": [
        {
          "output_type": "execute_result",
          "data": {
            "text/plain": [
              "        AT      AP      AH    AFDP    GTEP     TIT     TAT     TEY     CDP  \\\n",
              "0  1.95320  1020.1  84.985  2.5304  20.116  1048.7  544.92  116.27  10.799   \n",
              "1  1.21910  1020.1  87.523  2.3937  18.584  1045.5  548.50  109.18  10.347   \n",
              "2  0.94915  1022.2  78.335  2.7789  22.264  1068.8  549.95  125.88  11.256   \n",
              "3  1.00750  1021.7  76.942  2.8170  23.358  1075.2  549.63  132.21  11.702   \n",
              "4  1.28580  1021.6  76.732  2.8377  23.483  1076.2  549.68  133.58  11.737   \n",
              "\n",
              "       CO      NOX  \n",
              "0  7.4491  113.250  \n",
              "1  6.4684  112.020  \n",
              "2  3.6335   88.147  \n",
              "3  3.1972   87.078  \n",
              "4  2.3833   82.515  "
            ],
            "text/html": [
              "\n",
              "  <div id=\"df-cb83e237-25a0-4ceb-84d0-3c6a8be88ffd\">\n",
              "    <div class=\"colab-df-container\">\n",
              "      <div>\n",
              "<style scoped>\n",
              "    .dataframe tbody tr th:only-of-type {\n",
              "        vertical-align: middle;\n",
              "    }\n",
              "\n",
              "    .dataframe tbody tr th {\n",
              "        vertical-align: top;\n",
              "    }\n",
              "\n",
              "    .dataframe thead th {\n",
              "        text-align: right;\n",
              "    }\n",
              "</style>\n",
              "<table border=\"1\" class=\"dataframe\">\n",
              "  <thead>\n",
              "    <tr style=\"text-align: right;\">\n",
              "      <th></th>\n",
              "      <th>AT</th>\n",
              "      <th>AP</th>\n",
              "      <th>AH</th>\n",
              "      <th>AFDP</th>\n",
              "      <th>GTEP</th>\n",
              "      <th>TIT</th>\n",
              "      <th>TAT</th>\n",
              "      <th>TEY</th>\n",
              "      <th>CDP</th>\n",
              "      <th>CO</th>\n",
              "      <th>NOX</th>\n",
              "    </tr>\n",
              "  </thead>\n",
              "  <tbody>\n",
              "    <tr>\n",
              "      <th>0</th>\n",
              "      <td>1.95320</td>\n",
              "      <td>1020.1</td>\n",
              "      <td>84.985</td>\n",
              "      <td>2.5304</td>\n",
              "      <td>20.116</td>\n",
              "      <td>1048.7</td>\n",
              "      <td>544.92</td>\n",
              "      <td>116.27</td>\n",
              "      <td>10.799</td>\n",
              "      <td>7.4491</td>\n",
              "      <td>113.250</td>\n",
              "    </tr>\n",
              "    <tr>\n",
              "      <th>1</th>\n",
              "      <td>1.21910</td>\n",
              "      <td>1020.1</td>\n",
              "      <td>87.523</td>\n",
              "      <td>2.3937</td>\n",
              "      <td>18.584</td>\n",
              "      <td>1045.5</td>\n",
              "      <td>548.50</td>\n",
              "      <td>109.18</td>\n",
              "      <td>10.347</td>\n",
              "      <td>6.4684</td>\n",
              "      <td>112.020</td>\n",
              "    </tr>\n",
              "    <tr>\n",
              "      <th>2</th>\n",
              "      <td>0.94915</td>\n",
              "      <td>1022.2</td>\n",
              "      <td>78.335</td>\n",
              "      <td>2.7789</td>\n",
              "      <td>22.264</td>\n",
              "      <td>1068.8</td>\n",
              "      <td>549.95</td>\n",
              "      <td>125.88</td>\n",
              "      <td>11.256</td>\n",
              "      <td>3.6335</td>\n",
              "      <td>88.147</td>\n",
              "    </tr>\n",
              "    <tr>\n",
              "      <th>3</th>\n",
              "      <td>1.00750</td>\n",
              "      <td>1021.7</td>\n",
              "      <td>76.942</td>\n",
              "      <td>2.8170</td>\n",
              "      <td>23.358</td>\n",
              "      <td>1075.2</td>\n",
              "      <td>549.63</td>\n",
              "      <td>132.21</td>\n",
              "      <td>11.702</td>\n",
              "      <td>3.1972</td>\n",
              "      <td>87.078</td>\n",
              "    </tr>\n",
              "    <tr>\n",
              "      <th>4</th>\n",
              "      <td>1.28580</td>\n",
              "      <td>1021.6</td>\n",
              "      <td>76.732</td>\n",
              "      <td>2.8377</td>\n",
              "      <td>23.483</td>\n",
              "      <td>1076.2</td>\n",
              "      <td>549.68</td>\n",
              "      <td>133.58</td>\n",
              "      <td>11.737</td>\n",
              "      <td>2.3833</td>\n",
              "      <td>82.515</td>\n",
              "    </tr>\n",
              "  </tbody>\n",
              "</table>\n",
              "</div>\n",
              "      <button class=\"colab-df-convert\" onclick=\"convertToInteractive('df-cb83e237-25a0-4ceb-84d0-3c6a8be88ffd')\"\n",
              "              title=\"Convert this dataframe to an interactive table.\"\n",
              "              style=\"display:none;\">\n",
              "        \n",
              "  <svg xmlns=\"http://www.w3.org/2000/svg\" height=\"24px\"viewBox=\"0 0 24 24\"\n",
              "       width=\"24px\">\n",
              "    <path d=\"M0 0h24v24H0V0z\" fill=\"none\"/>\n",
              "    <path d=\"M18.56 5.44l.94 2.06.94-2.06 2.06-.94-2.06-.94-.94-2.06-.94 2.06-2.06.94zm-11 1L8.5 8.5l.94-2.06 2.06-.94-2.06-.94L8.5 2.5l-.94 2.06-2.06.94zm10 10l.94 2.06.94-2.06 2.06-.94-2.06-.94-.94-2.06-.94 2.06-2.06.94z\"/><path d=\"M17.41 7.96l-1.37-1.37c-.4-.4-.92-.59-1.43-.59-.52 0-1.04.2-1.43.59L10.3 9.45l-7.72 7.72c-.78.78-.78 2.05 0 2.83L4 21.41c.39.39.9.59 1.41.59.51 0 1.02-.2 1.41-.59l7.78-7.78 2.81-2.81c.8-.78.8-2.07 0-2.86zM5.41 20L4 18.59l7.72-7.72 1.47 1.35L5.41 20z\"/>\n",
              "  </svg>\n",
              "      </button>\n",
              "      \n",
              "  <style>\n",
              "    .colab-df-container {\n",
              "      display:flex;\n",
              "      flex-wrap:wrap;\n",
              "      gap: 12px;\n",
              "    }\n",
              "\n",
              "    .colab-df-convert {\n",
              "      background-color: #E8F0FE;\n",
              "      border: none;\n",
              "      border-radius: 50%;\n",
              "      cursor: pointer;\n",
              "      display: none;\n",
              "      fill: #1967D2;\n",
              "      height: 32px;\n",
              "      padding: 0 0 0 0;\n",
              "      width: 32px;\n",
              "    }\n",
              "\n",
              "    .colab-df-convert:hover {\n",
              "      background-color: #E2EBFA;\n",
              "      box-shadow: 0px 1px 2px rgba(60, 64, 67, 0.3), 0px 1px 3px 1px rgba(60, 64, 67, 0.15);\n",
              "      fill: #174EA6;\n",
              "    }\n",
              "\n",
              "    [theme=dark] .colab-df-convert {\n",
              "      background-color: #3B4455;\n",
              "      fill: #D2E3FC;\n",
              "    }\n",
              "\n",
              "    [theme=dark] .colab-df-convert:hover {\n",
              "      background-color: #434B5C;\n",
              "      box-shadow: 0px 1px 3px 1px rgba(0, 0, 0, 0.15);\n",
              "      filter: drop-shadow(0px 1px 2px rgba(0, 0, 0, 0.3));\n",
              "      fill: #FFFFFF;\n",
              "    }\n",
              "  </style>\n",
              "\n",
              "      <script>\n",
              "        const buttonEl =\n",
              "          document.querySelector('#df-cb83e237-25a0-4ceb-84d0-3c6a8be88ffd button.colab-df-convert');\n",
              "        buttonEl.style.display =\n",
              "          google.colab.kernel.accessAllowed ? 'block' : 'none';\n",
              "\n",
              "        async function convertToInteractive(key) {\n",
              "          const element = document.querySelector('#df-cb83e237-25a0-4ceb-84d0-3c6a8be88ffd');\n",
              "          const dataTable =\n",
              "            await google.colab.kernel.invokeFunction('convertToInteractive',\n",
              "                                                     [key], {});\n",
              "          if (!dataTable) return;\n",
              "\n",
              "          const docLinkHtml = 'Like what you see? Visit the ' +\n",
              "            '<a target=\"_blank\" href=https://colab.research.google.com/notebooks/data_table.ipynb>data table notebook</a>'\n",
              "            + ' to learn more about interactive tables.';\n",
              "          element.innerHTML = '';\n",
              "          dataTable['output_type'] = 'display_data';\n",
              "          await google.colab.output.renderOutput(dataTable, element);\n",
              "          const docLink = document.createElement('div');\n",
              "          docLink.innerHTML = docLinkHtml;\n",
              "          element.appendChild(docLink);\n",
              "        }\n",
              "      </script>\n",
              "    </div>\n",
              "  </div>\n",
              "  "
            ]
          },
          "metadata": {},
          "execution_count": 77
        }
      ],
      "source": [
        "df.head()"
      ]
    },
    {
      "cell_type": "markdown",
      "metadata": {
        "id": "r1w7DfzcJPJO"
      },
      "source": [
        "#### Is there any missing data?"
      ]
    },
    {
      "cell_type": "code",
      "execution_count": 78,
      "metadata": {
        "colab": {
          "base_uri": "https://localhost:8080/"
        },
        "id": "ErVZsd2yJPJO",
        "outputId": "612d2711-6a81-4046-daa7-f735d44dc2ac"
      },
      "outputs": [
        {
          "output_type": "execute_result",
          "data": {
            "text/plain": [
              "AT      0\n",
              "AP      0\n",
              "AH      0\n",
              "AFDP    0\n",
              "GTEP    0\n",
              "TIT     0\n",
              "TAT     0\n",
              "TEY     0\n",
              "CDP     0\n",
              "CO      0\n",
              "NOX     0\n",
              "dtype: int64"
            ]
          },
          "metadata": {},
          "execution_count": 78
        }
      ],
      "source": [
        "df.isna().sum()"
      ]
    },
    {
      "cell_type": "markdown",
      "metadata": {
        "id": "jUuRjFWwJPJO"
      },
      "source": [
        "#### What is the average value of AP for those points who have CO levels above 3 $mg/m^3$?"
      ]
    },
    {
      "cell_type": "code",
      "execution_count": 79,
      "metadata": {
        "colab": {
          "base_uri": "https://localhost:8080/"
        },
        "id": "NqquJbB7JPJO",
        "outputId": "2131961a-e25b-497f-a17b-fe22c4cb847f"
      },
      "outputs": [
        {
          "output_type": "execute_result",
          "data": {
            "text/plain": [
              "1015.690017349063"
            ]
          },
          "metadata": {},
          "execution_count": 79
        }
      ],
      "source": [
        "df.loc[df['CO']>3,'AP'].mean()"
      ]
    },
    {
      "cell_type": "markdown",
      "metadata": {
        "id": "czKJs9B6JPJO"
      },
      "source": [
        "#### Create a correlation map between the variables. Which variables have high correlation (> |0.9|)?"
      ]
    },
    {
      "cell_type": "code",
      "source": [
        "plt.figure(figsize=(16, 6))\n",
        "sns.heatmap(df.corr(), annot=True)"
      ],
      "metadata": {
        "colab": {
          "base_uri": "https://localhost:8080/",
          "height": 396
        },
        "id": "lzaTrAcgNRf7",
        "outputId": "c4d38681-7123-418d-ab02-29e9d719bc61"
      },
      "execution_count": 80,
      "outputs": [
        {
          "output_type": "execute_result",
          "data": {
            "text/plain": [
              "<matplotlib.axes._subplots.AxesSubplot at 0x7fda74418ac0>"
            ]
          },
          "metadata": {},
          "execution_count": 80
        },
        {
          "output_type": "display_data",
          "data": {
            "text/plain": [
              "<Figure size 1152x432 with 2 Axes>"
            ],
            "image/png": "[encoded data removed]"
          },
          "metadata": {
            "needs_background": "light"
          }
        }
      ]
    },
    {
      "cell_type": "markdown",
      "source": [
        "There are 7 combinations of variables with high correlation (>|0.9|):\n",
        "* TIT & AFDP - 0.92\n",
        "* TEY & GTEP - 0.93\n",
        "* TEY & TIT - 0.95\n",
        "* CDP & AFDP - 0.92\n",
        "* CDP & GTEP - 0.94\n",
        "* CDP & TIT - 0.95\n",
        "* CDP & TEY - 0.99"
      ],
      "metadata": {
        "id": "_CwTJww1OjAM"
      }
    },
    {
      "cell_type": "markdown",
      "metadata": {
        "id": "qtGeQiDiJPJP"
      },
      "source": [
        "#### Create a scatter plot of 'TEY' vs 'CDP'"
      ]
    },
    {
      "cell_type": "code",
      "execution_count": 81,
      "metadata": {
        "colab": {
          "base_uri": "https://localhost:8080/",
          "height": 297
        },
        "id": "1k5Aq0ktJPJP",
        "outputId": "f916b5f5-a95e-4d24-f4b2-8f2e4fe0735d"
      },
      "outputs": [
        {
          "output_type": "execute_result",
          "data": {
            "text/plain": [
              "<matplotlib.axes._subplots.AxesSubplot at 0x7fda74427160>"
            ]
          },
          "metadata": {},
          "execution_count": 81
        },
        {
          "output_type": "display_data",
          "data": {
            "text/plain": [
              "<Figure size 432x288 with 1 Axes>"
            ],
            "image/png": "[encoded data removed]"
          },
          "metadata": {
            "needs_background": "light"
          }
        }
      ],
      "source": [
        "df.plot.scatter('CDP', 'TEY', s=50, edgecolor='lightblue')"
      ]
    },
    {
      "cell_type": "markdown",
      "metadata": {
        "id": "1XxvFt0-JPJP"
      },
      "source": [
        "#### Create histograms for CO and NOX."
      ]
    },
    {
      "cell_type": "code",
      "execution_count": 82,
      "metadata": {
        "colab": {
          "base_uri": "https://localhost:8080/",
          "height": 317
        },
        "id": "Sjo9TyZpJPJP",
        "outputId": "ef2848fe-26f0-4c47-c417-4601ae825174"
      },
      "outputs": [
        {
          "output_type": "execute_result",
          "data": {
            "text/plain": [
              "array([[<matplotlib.axes._subplots.AxesSubplot object at 0x7fda75110430>]],\n",
              "      dtype=object)"
            ]
          },
          "metadata": {},
          "execution_count": 82
        },
        {
          "output_type": "display_data",
          "data": {
            "text/plain": [
              "<Figure size 432x288 with 1 Axes>"
            ],
            "image/png": "[encoded data removed]"
          },
          "metadata": {
            "needs_background": "light"
          }
        }
      ],
      "source": [
        "df.hist(column='CO', grid=False, bins=30)"
      ]
    },
    {
      "cell_type": "code",
      "execution_count": 83,
      "metadata": {
        "colab": {
          "base_uri": "https://localhost:8080/",
          "height": 317
        },
        "id": "zkhIrR_oJPJP",
        "outputId": "898dcbd0-5681-4608-c859-803840d8b22d"
      },
      "outputs": [
        {
          "output_type": "execute_result",
          "data": {
            "text/plain": [
              "array([[<matplotlib.axes._subplots.AxesSubplot object at 0x7fda7508e250>]],\n",
              "      dtype=object)"
            ]
          },
          "metadata": {},
          "execution_count": 83
        },
        {
          "output_type": "display_data",
          "data": {
            "text/plain": [
              "<Figure size 432x288 with 1 Axes>"
            ],
            "image/png": "[encoded data removed]"
          },
          "metadata": {
            "needs_background": "light"
          }
        }
      ],
      "source": [
        "df.hist(column='NOX', grid=False, bins=30)"
      ]
    },
    {
      "cell_type": "markdown",
      "metadata": {
        "id": "d_pMD8BAJPJP"
      },
      "source": [
        "#### Create a sctter plot of CO vs NOX."
      ]
    },
    {
      "cell_type": "code",
      "execution_count": 84,
      "metadata": {
        "colab": {
          "base_uri": "https://localhost:8080/",
          "height": 297
        },
        "id": "Mb9o_bdaJPJP",
        "outputId": "8fdf519f-44cf-453b-84bd-c06f7f70067b"
      },
      "outputs": [
        {
          "output_type": "execute_result",
          "data": {
            "text/plain": [
              "<matplotlib.axes._subplots.AxesSubplot at 0x7fda77d03460>"
            ]
          },
          "metadata": {},
          "execution_count": 84
        },
        {
          "output_type": "display_data",
          "data": {
            "text/plain": [
              "<Figure size 432x288 with 1 Axes>"
            ],
            "image/png": "[encoded data removed]"
          },
          "metadata": {
            "needs_background": "light"
          }
        }
      ],
      "source": [
        "df.plot.scatter('NOX', 'CO', s=50, edgecolor='lightblue')"
      ]
    },
    {
      "cell_type": "markdown",
      "metadata": {
        "id": "CeA-FjQ0JPJP"
      },
      "source": [
        "### Prepare data for machine learning"
      ]
    },
    {
      "cell_type": "markdown",
      "metadata": {
        "id": "Lj3FCSfDJPJP"
      },
      "source": [
        "- We will predict CO using all the other variables.\n",
        "- NOX, which is another emission gas, will not be used as predictor.\n",
        "- CO is a continuous variable, thus we will be doing regression.\n",
        "- Many of algorithms that do classification also have regression counterparts."
      ]
    },
    {
      "cell_type": "code",
      "execution_count": 85,
      "metadata": {
        "id": "R3-OM89_JPJQ"
      },
      "outputs": [],
      "source": [
        "y = df.CO\n",
        "X = df.drop(['CO', 'NOX'], axis=1)"
      ]
    },
    {
      "cell_type": "code",
      "execution_count": 151,
      "metadata": {
        "id": "f1yb_8raJPJQ"
      },
      "outputs": [],
      "source": [
        "from sklearn.model_selection import train_test_split\n",
        "X_train, X_test, y_train, y_test = train_test_split(X, y, test_size=0.10, random_state=RANDOM_STATE)\n",
        "X_train, X_val, y_train, y_val = train_test_split(X_train, y_train, test_size=0.20, random_state=RANDOM_STATE)"
      ]
    },
    {
      "cell_type": "code",
      "execution_count": 152,
      "metadata": {
        "id": "iB1LX7oeJPJQ"
      },
      "outputs": [],
      "source": [
        "# Standardization of the data\n",
        "from sklearn.preprocessing import StandardScaler\n",
        "ss = StandardScaler()\n",
        "ss.fit(X_train)\n",
        "X_train = ss.transform(X_train)\n",
        "X_val = ss.transform(X_val)\n",
        "X_test = ss.transform(X_test)"
      ]
    },
    {
      "cell_type": "code",
      "execution_count": 88,
      "metadata": {
        "colab": {
          "base_uri": "https://localhost:8080/"
        },
        "id": "TaKH85e8JPJQ",
        "outputId": "9516523b-289d-4b9f-fbbf-db7a89ae7990"
      },
      "outputs": [
        {
          "output_type": "execute_result",
          "data": {
            "text/plain": [
              "(5316, 9)"
            ]
          },
          "metadata": {},
          "execution_count": 88
        }
      ],
      "source": [
        "X_train.shape"
      ]
    },
    {
      "cell_type": "code",
      "execution_count": 89,
      "metadata": {
        "colab": {
          "base_uri": "https://localhost:8080/"
        },
        "id": "PXUJv8neJPJQ",
        "outputId": "0ea27279-dde2-4a7e-dee4-63e3c675ef3e"
      },
      "outputs": [
        {
          "output_type": "execute_result",
          "data": {
            "text/plain": [
              "(1329, 9)"
            ]
          },
          "metadata": {},
          "execution_count": 89
        }
      ],
      "source": [
        "X_val.shape"
      ]
    },
    {
      "cell_type": "code",
      "execution_count": 90,
      "metadata": {
        "colab": {
          "base_uri": "https://localhost:8080/"
        },
        "id": "zA4kfccLJPJQ",
        "outputId": "f04a251b-d04d-4e01-e93e-8e1eb1459a7e"
      },
      "outputs": [
        {
          "output_type": "execute_result",
          "data": {
            "text/plain": [
              "(739, 9)"
            ]
          },
          "metadata": {},
          "execution_count": 90
        }
      ],
      "source": [
        "X_test.shape"
      ]
    },
    {
      "cell_type": "markdown",
      "metadata": {
        "id": "iGBQyRXVJPJQ"
      },
      "source": [
        "## Utility Functions"
      ]
    },
    {
      "cell_type": "markdown",
      "metadata": {
        "id": "HnLhoOkyJPJR"
      },
      "source": [
        "You can create helper functions.\n",
        "For example, create functions that take the score and store it in a dataframe for a specific model."
      ]
    },
    {
      "cell_type": "code",
      "execution_count": 90,
      "metadata": {
        "id": "oGJEOzXdJPJR"
      },
      "outputs": [],
      "source": []
    },
    {
      "cell_type": "markdown",
      "metadata": {
        "id": "jWK_OjHJJPJR"
      },
      "source": [
        "## Q2 [10]"
      ]
    },
    {
      "cell_type": "markdown",
      "metadata": {
        "id": "o4oTrLAOJPJR"
      },
      "source": [
        "- Apply Linear Regression. Predict CO emission using other variables.\n",
        "    - What is the model $R^2$ on training data?\n",
        "    - What is the $R^2$ on validation data?\n",
        "    - What is the Root Mean Squared Error (RMSE) on training data?\n",
        "    - What is the RMSE on validation data?\n",
        "    \n",
        "> - $R^2$ higher is better. ($R^2$ is % variation in data being explained)  \n",
        "> - RMSE lower is better. (RMSE (Root Mean Squared Error) is error, meaning the difference between predictions and actual data)  \n",
        "\n",
        "Hint:  \n",
        "- You can use the `r2_score` and `mean_squared_error` methods in `sklearn.metrics`.   \n",
        "- You need to take the square root of Mean Squared Error to get to RMSE. (MSE $\\rightarrow$ square root $\\rightarrow$ RMSE)"
      ]
    },
    {
      "cell_type": "code",
      "execution_count": 91,
      "metadata": {
        "id": "4CY9djT4JPJR"
      },
      "outputs": [],
      "source": [
        "from sklearn.linear_model import LinearRegression"
      ]
    },
    {
      "cell_type": "code",
      "execution_count": 92,
      "metadata": {
        "id": "vLlReENvJPJR"
      },
      "outputs": [],
      "source": [
        "linreg = LinearRegression().fit(X_train, y_train)"
      ]
    },
    {
      "cell_type": "code",
      "execution_count": 93,
      "metadata": {
        "colab": {
          "base_uri": "https://localhost:8080/"
        },
        "id": "4idxFUZuJPJR",
        "outputId": "414f99e3-2e2e-45a7-d603-795ad7d14ec6"
      },
      "outputs": [
        {
          "output_type": "execute_result",
          "data": {
            "text/plain": [
              "0.6640090820784397"
            ]
          },
          "metadata": {},
          "execution_count": 93
        }
      ],
      "source": [
        "trainpred = linreg.predict(X_train)\n",
        "metrics.r2_score(y_train, trainpred)"
      ]
    },
    {
      "cell_type": "markdown",
      "source": [
        "R2 score for the model on training data is .66"
      ],
      "metadata": {
        "id": "vogqxpaYxMFQ"
      }
    },
    {
      "cell_type": "code",
      "source": [
        "valpred = linreg.predict(X_val)\n",
        "metrics.r2_score(y_val, valpred)"
      ],
      "metadata": {
        "colab": {
          "base_uri": "https://localhost:8080/"
        },
        "id": "3LkPcfR1Z8ws",
        "outputId": "60085075-d9e1-4796-ed95-726eacb98f92"
      },
      "execution_count": 94,
      "outputs": [
        {
          "output_type": "execute_result",
          "data": {
            "text/plain": [
              "0.646343190818214"
            ]
          },
          "metadata": {},
          "execution_count": 94
        }
      ]
    },
    {
      "cell_type": "markdown",
      "source": [
        "R2 score for the model on validation data is .64"
      ],
      "metadata": {
        "id": "fwbOcGaVxQtO"
      }
    },
    {
      "cell_type": "code",
      "source": [
        "mse = metrics.mean_squared_error(y_train, trainpred)\n",
        "rmse = np.sqrt(mse)\n",
        "print(rmse)"
      ],
      "metadata": {
        "colab": {
          "base_uri": "https://localhost:8080/"
        },
        "id": "kVt6-xdhZ7jI",
        "outputId": "3e65ec26-665d-4bc4-f3f5-3815387ccb57"
      },
      "execution_count": 95,
      "outputs": [
        {
          "output_type": "stream",
          "name": "stdout",
          "text": [
            "1.2720122104103535\n"
          ]
        }
      ]
    },
    {
      "cell_type": "markdown",
      "source": [
        "RMSE on training data is 1.27"
      ],
      "metadata": {
        "id": "C0zYHRdByHaf"
      }
    },
    {
      "cell_type": "code",
      "source": [
        "mse = metrics.mean_squared_error(y_val, valpred)\n",
        "rmse = np.sqrt(mse)\n",
        "print(rmse)"
      ],
      "metadata": {
        "colab": {
          "base_uri": "https://localhost:8080/"
        },
        "id": "TXNj4yWgyJUU",
        "outputId": "b2b22d60-6ed2-4d43-a29f-a61722759209"
      },
      "execution_count": 96,
      "outputs": [
        {
          "output_type": "stream",
          "name": "stdout",
          "text": [
            "1.3884894690085987\n"
          ]
        }
      ]
    },
    {
      "cell_type": "markdown",
      "source": [
        "RMSE on validation data is 1.39"
      ],
      "metadata": {
        "id": "DgG2XGzfyTSC"
      }
    },
    {
      "cell_type": "markdown",
      "metadata": {
        "id": "1WoKB08gJPJR"
      },
      "source": [
        "## Q3 [10]"
      ]
    },
    {
      "cell_type": "markdown",
      "metadata": {
        "id": "nJSCFu8GJPJR"
      },
      "source": [
        "- Apply Random Forest Regression with 100 trees. Predict CO emission using other variables.\n",
        "    - What is the model $R^2$?\n",
        "    - What is the $R^2$ on validation data?\n",
        "    - What is the RMSE on training data?\n",
        "    - What is the RMSE on validation data?\n",
        "\n",
        "- Is training and validation score close? If not what might be the problem?\n",
        "- If there is a large gap, try to decrease the gap by changing some hyperparameters of the Random Forest model. (In this analysis, any difference more than 0.10 $R^2$ difference can be assumed to be large.)\n",
        "    - Once you reach a difference of less than or close to 0.10 between training $R^2$ and validation $R^2$ you can stop. \n",
        "    - During this process your training score will probably decrease, and that is OK. "
      ]
    },
    {
      "cell_type": "code",
      "execution_count": 97,
      "metadata": {
        "id": "vfrgSqAgJPJS"
      },
      "outputs": [],
      "source": [
        "from sklearn.ensemble import RandomForestRegressor"
      ]
    },
    {
      "cell_type": "code",
      "execution_count": 98,
      "metadata": {
        "id": "1amAtEinJPJS"
      },
      "outputs": [],
      "source": [
        "estimator = RandomForestRegressor(n_estimators=100, random_state=RANDOM_STATE)"
      ]
    },
    {
      "cell_type": "code",
      "execution_count": 99,
      "metadata": {
        "colab": {
          "base_uri": "https://localhost:8080/"
        },
        "id": "EL6K5bm2JPJS",
        "outputId": "ddb2fa71-5ade-47a4-bf9a-e16311fb4e0e"
      },
      "outputs": [
        {
          "output_type": "execute_result",
          "data": {
            "text/plain": [
              "RandomForestRegressor(random_state=0)"
            ]
          },
          "metadata": {},
          "execution_count": 99
        }
      ],
      "source": [
        "estimator.fit(X_train, y_train)"
      ]
    },
    {
      "cell_type": "code",
      "source": [
        "trainpreds = estimator.predict(X_train)\n",
        "metrics.r2_score(y_train, trainpreds)"
      ],
      "metadata": {
        "colab": {
          "base_uri": "https://localhost:8080/"
        },
        "id": "wbn289Wtyzvo",
        "outputId": "bd523bb4-1dfd-4c6b-c035-e656740a2511"
      },
      "execution_count": 100,
      "outputs": [
        {
          "output_type": "execute_result",
          "data": {
            "text/plain": [
              "0.9635412068046666"
            ]
          },
          "metadata": {},
          "execution_count": 100
        }
      ]
    },
    {
      "cell_type": "code",
      "source": [
        "valpreds = estimator.predict(X_val)\n",
        "metrics.r2_score(y_val, valpreds)"
      ],
      "metadata": {
        "colab": {
          "base_uri": "https://localhost:8080/"
        },
        "id": "NgxC48oCzRLw",
        "outputId": "6e958c15-f37c-431b-dcbc-c617872a6522"
      },
      "execution_count": 101,
      "outputs": [
        {
          "output_type": "execute_result",
          "data": {
            "text/plain": [
              "0.7558012206331827"
            ]
          },
          "metadata": {},
          "execution_count": 101
        }
      ]
    },
    {
      "cell_type": "code",
      "source": [
        "mse = metrics.mean_squared_error(y_train, trainpreds)\n",
        "rmse = np.sqrt(mse)\n",
        "print(rmse)"
      ],
      "metadata": {
        "colab": {
          "base_uri": "https://localhost:8080/"
        },
        "id": "-vftkc45z21H",
        "outputId": "038ea34e-be5d-4e86-c3f4-11b29ff46b6a"
      },
      "execution_count": 102,
      "outputs": [
        {
          "output_type": "stream",
          "name": "stdout",
          "text": [
            "0.419014117669241\n"
          ]
        }
      ]
    },
    {
      "cell_type": "code",
      "source": [
        "mse = metrics.mean_squared_error(y_val, valpreds)\n",
        "rmse = np.sqrt(mse)\n",
        "print(rmse)"
      ],
      "metadata": {
        "colab": {
          "base_uri": "https://localhost:8080/"
        },
        "id": "fyvsjE-qz9Zx",
        "outputId": "519f357a-3c49-4243-ec09-28799fad7bbf"
      },
      "execution_count": 103,
      "outputs": [
        {
          "output_type": "stream",
          "name": "stdout",
          "text": [
            "1.1537808394478866\n"
          ]
        }
      ]
    },
    {
      "cell_type": "markdown",
      "source": [
        "Training and validation R2 scores are not close (~0.21 apart) This appears to be the model overfitting to the test data. Hyperparameter tuning to reduce the gap:"
      ],
      "metadata": {
        "id": "65ygUBVGzwgr"
      }
    },
    {
      "cell_type": "code",
      "source": [
        "estimator = RandomForestRegressor(n_estimators=250, max_depth=4, min_samples_split=50, random_state=RANDOM_STATE)\n",
        "estimator.fit(X_train, y_train)\n",
        "trainpreds = estimator.predict(X_train)\n",
        "print('training R2 score: ', metrics.r2_score(y_train, trainpreds))\n",
        "valpreds = estimator.predict(X_val)\n",
        "print('validation R2 score: ', metrics.r2_score(y_val, valpreds))"
      ],
      "metadata": {
        "colab": {
          "base_uri": "https://localhost:8080/"
        },
        "id": "tyzLpLsU0QFm",
        "outputId": "2fd78afb-dbb5-4045-a94b-057b07085cb4"
      },
      "execution_count": 104,
      "outputs": [
        {
          "output_type": "stream",
          "name": "stdout",
          "text": [
            "training R2 score:  0.7951437753565359\n",
            "validation R2 score:  0.7394722549138324\n"
          ]
        }
      ]
    },
    {
      "cell_type": "markdown",
      "source": [
        "After hyperparameter tuning of n_estimators, max_depth, and min_samples_split the difference in R2 score is ~0.06"
      ],
      "metadata": {
        "id": "5yB5nS7T1uPV"
      }
    },
    {
      "cell_type": "markdown",
      "metadata": {
        "id": "tPBn3r5xJPJS"
      },
      "source": [
        "## Q4 [10]"
      ]
    },
    {
      "cell_type": "markdown",
      "metadata": {
        "id": "SxJ5DCjlJPJS"
      },
      "source": [
        "- Apply Support Vector Regression. Predict CO emission using other variables.\n",
        "    - What is the model $R^2$?\n",
        "    - What is the $R^2$ on validation data?\n",
        "    - What is the RMSE on training data?\n",
        "    - What is the RMSE on validation data?\n",
        "    \n",
        "- Do this for each of the models listed below using the default parameters:  \n",
        "    1. **Linear kernel SVR**  \n",
        "    2. **Polynomial kernel SVR**  \n",
        "    3. **RBF kernel SVR** "
      ]
    },
    {
      "cell_type": "code",
      "execution_count": 105,
      "metadata": {
        "id": "0_HEZ2hTJPJS"
      },
      "outputs": [],
      "source": [
        "from sklearn.svm import SVR"
      ]
    },
    {
      "cell_type": "markdown",
      "metadata": {
        "id": "li44niRmJPJS"
      },
      "source": [
        "### Linear SVM Regressor"
      ]
    },
    {
      "cell_type": "code",
      "execution_count": 106,
      "metadata": {
        "colab": {
          "base_uri": "https://localhost:8080/"
        },
        "id": "Neg36yLbJPJS",
        "outputId": "bd0f20d3-daba-41b0-874f-1c4f71e51468"
      },
      "outputs": [
        {
          "output_type": "stream",
          "name": "stdout",
          "text": [
            "training R2 score:  0.6244073289252593 \n",
            " validation R2 score:  0.6021447054947482 \n",
            " training RMSE:  1.3448878366234214 \n",
            " validation RMSE:  1.472699532649528\n"
          ]
        }
      ],
      "source": [
        "estimator = SVR(kernel='linear')\n",
        "estimator.fit(X_train, y_train)\n",
        "trainpreds = estimator.predict(X_train)\n",
        "valpreds = estimator.predict(X_val)\n",
        "print('training R2 score: ', metrics.r2_score(y_train, trainpreds), '\\n', \n",
        "      'validation R2 score: ', metrics.r2_score(y_val, valpreds), '\\n',\n",
        "      'training RMSE: ', np.sqrt(metrics.mean_squared_error(y_train, trainpreds)), '\\n', \n",
        "      'validation RMSE: ', np.sqrt(metrics.mean_squared_error(y_val, valpreds)))"
      ]
    },
    {
      "cell_type": "markdown",
      "metadata": {
        "id": "4fULnhezJPJS"
      },
      "source": [
        "### Polynomial Kernel SVM Regressor"
      ]
    },
    {
      "cell_type": "code",
      "execution_count": 107,
      "metadata": {
        "colab": {
          "base_uri": "https://localhost:8080/"
        },
        "id": "zdc7NA5KJPJS",
        "outputId": "ca011abb-9967-4076-8504-739219a7e4f7"
      },
      "outputs": [
        {
          "output_type": "stream",
          "name": "stdout",
          "text": [
            "training R2 score:  0.7404852376508422 \n",
            " validation R2 score:  0.7310487212257795 \n",
            " training RMSE:  1.1179143857689038 \n",
            " validation RMSE:  1.21084453183651\n"
          ]
        }
      ],
      "source": [
        "from sklearn.svm import SVR\n",
        "estimator = SVR(kernel='poly')\n",
        "estimator.fit(X_train, y_train)\n",
        "trainpreds = estimator.predict(X_train)\n",
        "valpreds = estimator.predict(X_val)\n",
        "print('training R2 score: ', metrics.r2_score(y_train, trainpreds), '\\n', \n",
        "      'validation R2 score: ', metrics.r2_score(y_val, valpreds), '\\n',\n",
        "      'training RMSE: ', np.sqrt(metrics.mean_squared_error(y_train, trainpreds)), '\\n', \n",
        "      'validation RMSE: ', np.sqrt(metrics.mean_squared_error(y_val, valpreds)))"
      ]
    },
    {
      "cell_type": "markdown",
      "metadata": {
        "id": "tca7JVNfJPJS"
      },
      "source": [
        "### RBF Kernel SVM Regressor"
      ]
    },
    {
      "cell_type": "code",
      "execution_count": 108,
      "metadata": {
        "colab": {
          "base_uri": "https://localhost:8080/"
        },
        "id": "arf9L7DwJPJS",
        "outputId": "04be3046-1cb5-42a5-af05-90dc5be822ce"
      },
      "outputs": [
        {
          "output_type": "stream",
          "name": "stdout",
          "text": [
            "training R2 score:  0.7653225070588423 \n",
            " validation R2 score:  0.7476173201040637 \n",
            " training RMSE:  1.0630733502205556 \n",
            " validation RMSE:  1.1729550025939748\n"
          ]
        }
      ],
      "source": [
        "from sklearn.svm import SVR\n",
        "estimator = SVR(kernel='rbf')\n",
        "estimator.fit(X_train, y_train)\n",
        "trainpreds = estimator.predict(X_train)\n",
        "valpreds = estimator.predict(X_val)\n",
        "print('training R2 score: ', metrics.r2_score(y_train, trainpreds), '\\n', \n",
        "      'validation R2 score: ', metrics.r2_score(y_val, valpreds), '\\n',\n",
        "      'training RMSE: ', np.sqrt(metrics.mean_squared_error(y_train, trainpreds)), '\\n', \n",
        "      'validation RMSE: ', np.sqrt(metrics.mean_squared_error(y_val, valpreds)))"
      ]
    },
    {
      "cell_type": "markdown",
      "metadata": {
        "id": "arAQlvVDJPJT"
      },
      "source": [
        "### Q5 [10]"
      ]
    },
    {
      "cell_type": "markdown",
      "metadata": {
        "id": "CBfJ7CruJPJT"
      },
      "source": [
        "- Take RBF Kernel SVM and perform hyperparameter tuning. See if you can increase the $R^2$ score.   \n",
        "    - Use:  \n",
        "          'C': [1, 10, 100, 1000]\n",
        "          'gamma': [0.001, 0.01, 0.1, 1]  \n",
        "\n",
        "    - What is the model $R^2$?\n",
        "    - What is the $R^2$ on validation data?\n",
        "    - What is the RMSE on training data?\n",
        "    - What is the RMSE on validation data?"
      ]
    },
    {
      "cell_type": "code",
      "execution_count": 38,
      "metadata": {
        "id": "Y7PUpxUPJPJT"
      },
      "outputs": [],
      "source": [
        "from sklearn.model_selection import GridSearchCV"
      ]
    },
    {
      "cell_type": "code",
      "execution_count": 39,
      "metadata": {
        "id": "99IazZ7wJPJT"
      },
      "outputs": [],
      "source": [
        "grid = {\n",
        "    'C': [1, 10, 100, 1000], \n",
        "    'gamma': [0.001, 0.01, 0.1, 1],\n",
        "    }\n",
        "gs = GridSearchCV(estimator=SVR(kernel='rbf'), param_grid=grid)"
      ]
    },
    {
      "cell_type": "code",
      "source": [
        "gs.fit(X_train, y_train)\n",
        "gs.best_params_"
      ],
      "metadata": {
        "colab": {
          "base_uri": "https://localhost:8080/"
        },
        "id": "QN6FDHQK9lHk",
        "outputId": "1ef45427-d2fa-4ce0-86dc-04233f83dc7a"
      },
      "execution_count": 43,
      "outputs": [
        {
          "output_type": "execute_result",
          "data": {
            "text/plain": [
              "{'C': 1000, 'gamma': 0.01}"
            ]
          },
          "metadata": {},
          "execution_count": 43
        }
      ]
    },
    {
      "cell_type": "code",
      "source": [
        "estimator = SVR(kernel='rbf', C=1000, gamma=0.01)\n",
        "estimator.fit(X_train, y_train)\n",
        "trainpreds = estimator.predict(X_train)\n",
        "valpreds = estimator.predict(X_val)\n",
        "print('training R2 score: ', metrics.r2_score(y_train, trainpreds), '\\n', \n",
        "      'validation R2 score: ', metrics.r2_score(y_val, valpreds), '\\n',\n",
        "      'training RMSE: ', np.sqrt(metrics.mean_squared_error(y_train, trainpreds)), '\\n', \n",
        "      'validation RMSE: ', np.sqrt(metrics.mean_squared_error(y_val, valpreds)))"
      ],
      "metadata": {
        "colab": {
          "base_uri": "https://localhost:8080/"
        },
        "id": "2LK69oi1B2FX",
        "outputId": "0905c0f5-6dc9-43b6-ade7-d7b63df15265"
      },
      "execution_count": 44,
      "outputs": [
        {
          "output_type": "stream",
          "name": "stdout",
          "text": [
            "training R2 score:  0.7922405098708589 \n",
            " validation R2 score:  0.7568500533368814 \n",
            " training RMSE:  1.0002485869512074 \n",
            " validation RMSE:  1.1513004313829738\n"
          ]
        }
      ]
    },
    {
      "cell_type": "markdown",
      "metadata": {
        "id": "Jbpo4kFwJPJT"
      },
      "source": [
        "## Q6 [10]"
      ]
    },
    {
      "cell_type": "markdown",
      "metadata": {
        "id": "skQXvjLLJPJT"
      },
      "source": [
        "- Apply PCA and transform the data. \n",
        "    - For PCA we need to decide on the number of  components. Take sufficient number of components based on variance explained \n",
        "        - generally it is chosen as the number of components that can explain 90% of the variance \n",
        "        - or cross-validation accuracy using an ML model.\n",
        "\n",
        "- Use the PCA transformed data to perform regression. Use the models: \n",
        "    - Linear Regression\n",
        "    - Random Forest Regression (Optional to do hyper parameter tuning)\n",
        "    - RBF Kernel Support Vector Regression (Optional to do hyper parameter tuning)\n",
        "  \n",
        "- For each model:  \n",
        "    - What is the model $R^2$?\n",
        "    - What is the $R^2$ on validation data?\n",
        "    - What is the RMSE on training data?\n",
        "    - What is the RMSE on validation data?\n",
        "    \n",
        "- Compare these models with their counterparts obtained before. For example: Compare `PCA RBF SVR` with the `RBF SVR` model from before. Do you observe any change in performance? Please explain. \n"
      ]
    },
    {
      "cell_type": "code",
      "execution_count": 109,
      "metadata": {
        "id": "I_tg2aWWJPJT"
      },
      "outputs": [],
      "source": [
        "from sklearn.decomposition import PCA"
      ]
    },
    {
      "cell_type": "code",
      "execution_count": 110,
      "metadata": {
        "id": "3mMUY4CwJPJT"
      },
      "outputs": [],
      "source": [
        "pca = PCA(n_components=None)\n",
        "\n",
        "pca.fit(X_train)\n",
        "X_train_pca = pca.transform(X_train)\n",
        "X_val_pca = pca.transform(X_val)\n",
        "X_test_pca = pca.transform(X_test)"
      ]
    },
    {
      "cell_type": "code",
      "execution_count": 111,
      "metadata": {
        "colab": {
          "base_uri": "https://localhost:8080/",
          "height": 315
        },
        "id": "Qy7BPr58JPJT",
        "outputId": "624213a5-c0e1-492e-e9fd-78c14707e13c"
      },
      "outputs": [
        {
          "output_type": "stream",
          "name": "stdout",
          "text": [
            "[0.58158952 0.78924196 0.88751722 0.94337792 0.98704348 0.9959942\n",
            " 0.99975821 0.99992456 1.        ]\n"
          ]
        },
        {
          "output_type": "display_data",
          "data": {
            "text/plain": [
              "<Figure size 432x288 with 1 Axes>"
            ],
            "image/png": "[encoded data removed]"
          },
          "metadata": {
            "needs_background": "light"
          }
        }
      ],
      "source": [
        "print(pca.explained_variance_ratio_.cumsum())\n",
        "plt.plot(pca.explained_variance_ratio_.cumsum(), '-o');\n",
        "plt.xticks(ticks= range(X_train_pca.shape[1]), labels=[i+1 for i in range(X_train_pca.shape[1])])\n",
        "plt.xlabel('Principal Components')\n",
        "plt.ylabel('Variance Explained')\n",
        "plt.show()"
      ]
    },
    {
      "cell_type": "markdown",
      "metadata": {
        "id": "A8vc2IRWJPJT"
      },
      "source": [
        "Choose the number of components."
      ]
    },
    {
      "cell_type": "code",
      "execution_count": 112,
      "metadata": {
        "id": "Q2aYOfAfJPJT"
      },
      "outputs": [],
      "source": [
        "X_train_pca2 = X_train_pca[:, 0:5]\n",
        "X_val_pca2 = X_val_pca[:, 0:5]\n",
        "X_test_pca2 = X_test_pca[:, 0:5]"
      ]
    },
    {
      "cell_type": "markdown",
      "metadata": {
        "id": "JQEfkHTEJPJU"
      },
      "source": [
        "**Linear Regression with PCA transformed data**"
      ]
    },
    {
      "cell_type": "code",
      "execution_count": 113,
      "metadata": {
        "colab": {
          "base_uri": "https://localhost:8080/"
        },
        "id": "glXIXRpdJPJU",
        "outputId": "7af261fc-b2e1-4d79-ac6d-244af8ff3364"
      },
      "outputs": [
        {
          "output_type": "stream",
          "name": "stdout",
          "text": [
            "training R2 score:  0.6557906042002006 \n",
            " validation R2 score:  0.6333206399655549 \n",
            " training RMSE:  1.2874751982855395 \n",
            " validation RMSE:  1.413822244602062\n"
          ]
        }
      ],
      "source": [
        "estimator = LinearRegression()\n",
        "estimator.fit(X_train_pca2, y_train)\n",
        "trainpreds = estimator.predict(X_train_pca2)\n",
        "valpreds = estimator.predict(X_val_pca2)\n",
        "print('training R2 score: ', metrics.r2_score(y_train, trainpreds), '\\n', \n",
        "      'validation R2 score: ', metrics.r2_score(y_val, valpreds), '\\n',\n",
        "      'training RMSE: ', np.sqrt(metrics.mean_squared_error(y_train, trainpreds)), '\\n', \n",
        "      'validation RMSE: ', np.sqrt(metrics.mean_squared_error(y_val, valpreds)))"
      ]
    },
    {
      "cell_type": "markdown",
      "metadata": {
        "id": "gjS22NARJPJU"
      },
      "source": [
        "**RF Regression with PCA transformed data**"
      ]
    },
    {
      "cell_type": "code",
      "execution_count": 114,
      "metadata": {
        "colab": {
          "base_uri": "https://localhost:8080/"
        },
        "id": "ru8HzJokJPJU",
        "outputId": "428ade3e-138c-41d5-c874-e77afd5167fc"
      },
      "outputs": [
        {
          "output_type": "stream",
          "name": "stdout",
          "text": [
            "training R2 score:  0.7951675778698483 \n",
            " validation R2 score:  0.7234216919446337 \n",
            " training RMSE:  0.9931774751814639 \n",
            " validation RMSE:  1.227893317514672\n"
          ]
        }
      ],
      "source": [
        "estimator = RandomForestRegressor(n_estimators=250, max_depth=5, min_samples_split=50, random_state=RANDOM_STATE)\n",
        "estimator.fit(X_train_pca2, y_train)\n",
        "trainpreds = estimator.predict(X_train_pca2)\n",
        "valpreds = estimator.predict(X_val_pca2)\n",
        "print('training R2 score: ', metrics.r2_score(y_train, trainpreds), '\\n', \n",
        "      'validation R2 score: ', metrics.r2_score(y_val, valpreds), '\\n',\n",
        "      'training RMSE: ', np.sqrt(metrics.mean_squared_error(y_train, trainpreds)), '\\n', \n",
        "      'validation RMSE: ', np.sqrt(metrics.mean_squared_error(y_val, valpreds)))"
      ]
    },
    {
      "cell_type": "markdown",
      "metadata": {
        "id": "Cdkq6RtnJPJU"
      },
      "source": [
        "**SVM Regression with PCA transformed data**"
      ]
    },
    {
      "cell_type": "code",
      "execution_count": 115,
      "metadata": {
        "colab": {
          "base_uri": "https://localhost:8080/"
        },
        "id": "fMkuO_YXJPJU",
        "outputId": "cd9c5bee-65da-45e1-b130-a86fd46fe21b"
      },
      "outputs": [
        {
          "output_type": "stream",
          "name": "stdout",
          "text": [
            "training R2 score:  0.7852916421421293 \n",
            " validation R2 score:  0.7520178174537542 \n",
            " training RMSE:  1.016838511681673 \n",
            " validation RMSE:  1.162684323953344\n"
          ]
        }
      ],
      "source": [
        "estimator = SVR(kernel='rbf', C=1000, gamma=0.01)\n",
        "estimator.fit(X_train_pca2, y_train)\n",
        "trainpreds = estimator.predict(X_train_pca2)\n",
        "valpreds = estimator.predict(X_val_pca2)\n",
        "print('training R2 score: ', metrics.r2_score(y_train, trainpreds), '\\n', \n",
        "      'validation R2 score: ', metrics.r2_score(y_val, valpreds), '\\n',\n",
        "      'training RMSE: ', np.sqrt(metrics.mean_squared_error(y_train, trainpreds)), '\\n', \n",
        "      'validation RMSE: ', np.sqrt(metrics.mean_squared_error(y_val, valpreds)))"
      ]
    },
    {
      "cell_type": "markdown",
      "source": [
        "Looking at the R2 scores across the PCA transformed models and the non-transformed models there does not seem to be much difference. Same goes with the RMSE values, the differences are only about 0.01 in either direction."
      ],
      "metadata": {
        "id": "FDuajYltHBMQ"
      }
    },
    {
      "cell_type": "markdown",
      "metadata": {
        "id": "63dFN0d9JPJU"
      },
      "source": [
        "## Q7 [10]"
      ]
    },
    {
      "cell_type": "markdown",
      "metadata": {
        "id": "A6VsZtp4JPJU"
      },
      "source": [
        "#### Let's do  classification "
      ]
    },
    {
      "cell_type": "markdown",
      "metadata": {
        "id": "iONywvTXJPJU"
      },
      "source": [
        "We will convert CO target values into binary form by comparing them to a threshold. $ 0 - 3  mg/m^3$ is the range of max 8-hour avg. ambient CO in most US cities. So let's take that.  \n",
        "[CO Levels of Concern in Government Recommendations and Regulations](https://www.carbonmonoxidekills.com/are-you-at-risk/carbon-monoxide-levels/)"
      ]
    },
    {
      "cell_type": "code",
      "execution_count": 116,
      "metadata": {
        "id": "4HO-fvPeJPJU"
      },
      "outputs": [],
      "source": [
        "from sklearn.preprocessing import Binarizer"
      ]
    },
    {
      "cell_type": "code",
      "execution_count": 117,
      "metadata": {
        "id": "3qsX3KR8JPJU"
      },
      "outputs": [],
      "source": [
        "binarizer = Binarizer(threshold=3)"
      ]
    },
    {
      "cell_type": "code",
      "execution_count": 118,
      "metadata": {
        "id": "rTh0qo49JPJU"
      },
      "outputs": [],
      "source": [
        "y_train_cat = binarizer.transform(y_train.values.reshape(-1,1)).ravel()\n",
        "y_val_cat = binarizer.transform(y_val.values.reshape(-1,1)).ravel()\n",
        "y_test_cat = binarizer.transform(y_test.values.reshape(-1,1)).ravel()"
      ]
    },
    {
      "cell_type": "code",
      "execution_count": 119,
      "metadata": {
        "id": "GGlmUFuZJPJV"
      },
      "outputs": [],
      "source": [
        "y_train_cat = pd.Series(y_train_cat)"
      ]
    },
    {
      "cell_type": "code",
      "execution_count": 120,
      "metadata": {
        "colab": {
          "base_uri": "https://localhost:8080/",
          "height": 283
        },
        "id": "DPprgGZQJPJV",
        "outputId": "8bcbe1ce-c1d9-49d6-c8a7-bffbd92d1961"
      },
      "outputs": [
        {
          "output_type": "execute_result",
          "data": {
            "text/plain": [
              "<matplotlib.axes._subplots.AxesSubplot at 0x7fda77c78f40>"
            ]
          },
          "metadata": {},
          "execution_count": 120
        },
        {
          "output_type": "display_data",
          "data": {
            "text/plain": [
              "<Figure size 432x288 with 1 Axes>"
            ],
            "image/png": "[encoded data removed]"
          },
          "metadata": {
            "needs_background": "light"
          }
        }
      ],
      "source": [
        "y_train_cat.value_counts().plot.barh()"
      ]
    },
    {
      "cell_type": "markdown",
      "metadata": {
        "id": "VrvTcatTJPJV"
      },
      "source": [
        "### Fit RBF Kernel SVM Classifier\n",
        "\n",
        "#### 1. Standardized training data \n",
        "- Using the standardized training data perform grid search:\n",
        "    - Find the best combination of the `C` and `gamma` hyper-parameters.  \n",
        "- For the best model:\n",
        "    - Either using the confusion matrix or the methods in `sklearn.metrics` get the following metrics on the validation set:\n",
        "     - Create confusion matrix\n",
        "     - Recall (Sensitivity)\n",
        "     - Specificity\n",
        "     - Precision\n",
        "     - Balanced Accuracy\n",
        "     - F1 Score\n",
        "     \n",
        "\n",
        "#### 2. PCA transformed training data \n",
        "- Using the **pca** transformed training data `X_train_pca2` perform grid search:\n",
        "    - Find the best combination of the `C` and `gamma` hyper-parameters.  \n",
        "- For the best model:\n",
        "    - Either using the confusion matrix or the methods in `sklearn.metrics` get the following metrics on the validation set `X_val_pca2`:\n",
        "         - Create confusion matrix\n",
        "         - Recall (Sensitivity)\n",
        "         - Specificity\n",
        "         - Precision\n",
        "         - Balanced Accuracy\n",
        "         - F1 Score\n"
      ]
    },
    {
      "cell_type": "code",
      "execution_count": 121,
      "metadata": {
        "id": "tD1KQGqlJPJV"
      },
      "outputs": [],
      "source": [
        "from sklearn.svm import SVC"
      ]
    },
    {
      "cell_type": "code",
      "execution_count": 122,
      "metadata": {
        "id": "ODEzR23AJPJV"
      },
      "outputs": [],
      "source": [
        "estimator = SVC(kernel ='rbf')"
      ]
    },
    {
      "cell_type": "markdown",
      "metadata": {
        "id": "xjaQkUECJPJV"
      },
      "source": [
        "#### SVC Model 1 "
      ]
    },
    {
      "cell_type": "code",
      "execution_count": 123,
      "metadata": {
        "colab": {
          "base_uri": "https://localhost:8080/",
          "height": 371
        },
        "id": "gpILioT-JPJV",
        "outputId": "448a9382-8168-4bdc-8043-a071a94fdd5a"
      },
      "outputs": [
        {
          "output_type": "error",
          "ename": "KeyboardInterrupt",
          "evalue": "ignored",
          "traceback": [
            "\u001b[0;31m---------------------------------------------------------------------------\u001b[0m",
            "\u001b[0;31mKeyboardInterrupt\u001b[0m                         Traceback (most recent call last)",
            "\u001b[0;32m<ipython-input-123-44dff7a7d8b6>\u001b[0m in \u001b[0;36m<module>\u001b[0;34m\u001b[0m\n\u001b[1;32m      4\u001b[0m     }\n\u001b[1;32m      5\u001b[0m \u001b[0mgs\u001b[0m \u001b[0;34m=\u001b[0m \u001b[0mGridSearchCV\u001b[0m\u001b[0;34m(\u001b[0m\u001b[0mestimator\u001b[0m \u001b[0;34m=\u001b[0m \u001b[0mSVC\u001b[0m\u001b[0;34m(\u001b[0m\u001b[0mkernel\u001b[0m \u001b[0;34m=\u001b[0m\u001b[0;34m'rbf'\u001b[0m\u001b[0;34m)\u001b[0m\u001b[0;34m,\u001b[0m \u001b[0mparam_grid\u001b[0m\u001b[0;34m=\u001b[0m\u001b[0mgrid\u001b[0m\u001b[0;34m)\u001b[0m\u001b[0;34m\u001b[0m\u001b[0;34m\u001b[0m\u001b[0m\n\u001b[0;32m----> 6\u001b[0;31m \u001b[0mgs\u001b[0m\u001b[0;34m.\u001b[0m\u001b[0mfit\u001b[0m\u001b[0;34m(\u001b[0m\u001b[0mX_train\u001b[0m\u001b[0;34m,\u001b[0m \u001b[0my_train_cat\u001b[0m\u001b[0;34m)\u001b[0m\u001b[0;34m\u001b[0m\u001b[0;34m\u001b[0m\u001b[0m\n\u001b[0m\u001b[1;32m      7\u001b[0m \u001b[0mgs\u001b[0m\u001b[0;34m.\u001b[0m\u001b[0mbest_params_\u001b[0m\u001b[0;34m\u001b[0m\u001b[0;34m\u001b[0m\u001b[0m\n",
            "\u001b[0;32m/usr/local/lib/python3.8/dist-packages/sklearn/model_selection/_search.py\u001b[0m in \u001b[0;36mfit\u001b[0;34m(self, X, y, groups, **fit_params)\u001b[0m\n\u001b[1;32m    889\u001b[0m                 \u001b[0;32mreturn\u001b[0m \u001b[0mresults\u001b[0m\u001b[0;34m\u001b[0m\u001b[0;34m\u001b[0m\u001b[0m\n\u001b[1;32m    890\u001b[0m \u001b[0;34m\u001b[0m\u001b[0m\n\u001b[0;32m--> 891\u001b[0;31m             \u001b[0mself\u001b[0m\u001b[0;34m.\u001b[0m\u001b[0m_run_search\u001b[0m\u001b[0;34m(\u001b[0m\u001b[0mevaluate_candidates\u001b[0m\u001b[0;34m)\u001b[0m\u001b[0;34m\u001b[0m\u001b[0;34m\u001b[0m\u001b[0m\n\u001b[0m\u001b[1;32m    892\u001b[0m \u001b[0;34m\u001b[0m\u001b[0m\n\u001b[1;32m    893\u001b[0m             \u001b[0;31m# multimetric is determined here because in the case of a callable\u001b[0m\u001b[0;34m\u001b[0m\u001b[0;34m\u001b[0m\u001b[0;34m\u001b[0m\u001b[0m\n",
            "\u001b[0;32m/usr/local/lib/python3.8/dist-packages/sklearn/model_selection/_search.py\u001b[0m in \u001b[0;36m_run_search\u001b[0;34m(self, evaluate_candidates)\u001b[0m\n\u001b[1;32m   1390\u001b[0m     \u001b[0;32mdef\u001b[0m \u001b[0m_run_search\u001b[0m\u001b[0;34m(\u001b[0m\u001b[0mself\u001b[0m\u001b[0;34m,\u001b[0m \u001b[0mevaluate_candidates\u001b[0m\u001b[0;34m)\u001b[0m\u001b[0;34m:\u001b[0m\u001b[0;34m\u001b[0m\u001b[0;34m\u001b[0m\u001b[0m\n\u001b[1;32m   1391\u001b[0m         \u001b[0;34m\"\"\"Search all candidates in param_grid\"\"\"\u001b[0m\u001b[0;34m\u001b[0m\u001b[0;34m\u001b[0m\u001b[0m\n\u001b[0;32m-> 1392\u001b[0;31m         \u001b[0mevaluate_candidates\u001b[0m\u001b[0;34m(\u001b[0m\u001b[0mParameterGrid\u001b[0m\u001b[0;34m(\u001b[0m\u001b[0mself\u001b[0m\u001b[0;34m.\u001b[0m\u001b[0mparam_grid\u001b[0m\u001b[0;34m)\u001b[0m\u001b[0;34m)\u001b[0m\u001b[0;34m\u001b[0m\u001b[0;34m\u001b[0m\u001b[0m\n\u001b[0m\u001b[1;32m   1393\u001b[0m \u001b[0;34m\u001b[0m\u001b[0m\n\u001b[1;32m   1394\u001b[0m \u001b[0;34m\u001b[0m\u001b[0m\n",
            "\u001b[0;32m/usr/local/lib/python3.8/dist-packages/sklearn/model_selection/_search.py\u001b[0m in \u001b[0;36mevaluate_candidates\u001b[0;34m(candidate_params, cv, more_results)\u001b[0m\n\u001b[1;32m    836\u001b[0m                     )\n\u001b[1;32m    837\u001b[0m \u001b[0;34m\u001b[0m\u001b[0m\n\u001b[0;32m--> 838\u001b[0;31m                 out = parallel(\n\u001b[0m\u001b[1;32m    839\u001b[0m                     delayed(_fit_and_score)(\n\u001b[1;32m    840\u001b[0m                         \u001b[0mclone\u001b[0m\u001b[0;34m(\u001b[0m\u001b[0mbase_estimator\u001b[0m\u001b[0;34m)\u001b[0m\u001b[0;34m,\u001b[0m\u001b[0;34m\u001b[0m\u001b[0;34m\u001b[0m\u001b[0m\n",
            "\u001b[0;32m/usr/local/lib/python3.8/dist-packages/joblib/parallel.py\u001b[0m in \u001b[0;36m__call__\u001b[0;34m(self, iterable)\u001b[0m\n\u001b[1;32m   1086\u001b[0m                 \u001b[0mself\u001b[0m\u001b[0;34m.\u001b[0m\u001b[0m_iterating\u001b[0m \u001b[0;34m=\u001b[0m \u001b[0mself\u001b[0m\u001b[0;34m.\u001b[0m\u001b[0m_original_iterator\u001b[0m \u001b[0;32mis\u001b[0m \u001b[0;32mnot\u001b[0m \u001b[0;32mNone\u001b[0m\u001b[0;34m\u001b[0m\u001b[0;34m\u001b[0m\u001b[0m\n\u001b[1;32m   1087\u001b[0m \u001b[0;34m\u001b[0m\u001b[0m\n\u001b[0;32m-> 1088\u001b[0;31m             \u001b[0;32mwhile\u001b[0m \u001b[0mself\u001b[0m\u001b[0;34m.\u001b[0m\u001b[0mdispatch_one_batch\u001b[0m\u001b[0;34m(\u001b[0m\u001b[0miterator\u001b[0m\u001b[0;34m)\u001b[0m\u001b[0;34m:\u001b[0m\u001b[0;34m\u001b[0m\u001b[0;34m\u001b[0m\u001b[0m\n\u001b[0m\u001b[1;32m   1089\u001b[0m                 \u001b[0;32mpass\u001b[0m\u001b[0;34m\u001b[0m\u001b[0;34m\u001b[0m\u001b[0m\n\u001b[1;32m   1090\u001b[0m \u001b[0;34m\u001b[0m\u001b[0m\n",
            "\u001b[0;32m/usr/local/lib/python3.8/dist-packages/joblib/parallel.py\u001b[0m in \u001b[0;36mdispatch_one_batch\u001b[0;34m(self, iterator)\u001b[0m\n\u001b[1;32m    899\u001b[0m                 \u001b[0;32mreturn\u001b[0m \u001b[0;32mFalse\u001b[0m\u001b[0;34m\u001b[0m\u001b[0;34m\u001b[0m\u001b[0m\n\u001b[1;32m    900\u001b[0m             \u001b[0;32melse\u001b[0m\u001b[0;34m:\u001b[0m\u001b[0;34m\u001b[0m\u001b[0;34m\u001b[0m\u001b[0m\n\u001b[0;32m--> 901\u001b[0;31m                 \u001b[0mself\u001b[0m\u001b[0;34m.\u001b[0m\u001b[0m_dispatch\u001b[0m\u001b[0;34m(\u001b[0m\u001b[0mtasks\u001b[0m\u001b[0;34m)\u001b[0m\u001b[0;34m\u001b[0m\u001b[0;34m\u001b[0m\u001b[0m\n\u001b[0m\u001b[1;32m    902\u001b[0m                 \u001b[0;32mreturn\u001b[0m \u001b[0;32mTrue\u001b[0m\u001b[0;34m\u001b[0m\u001b[0;34m\u001b[0m\u001b[0m\n\u001b[1;32m    903\u001b[0m \u001b[0;34m\u001b[0m\u001b[0m\n",
            "\u001b[0;32m/usr/local/lib/python3.8/dist-packages/joblib/parallel.py\u001b[0m in \u001b[0;36m_dispatch\u001b[0;34m(self, batch)\u001b[0m\n\u001b[1;32m    817\u001b[0m         \u001b[0;32mwith\u001b[0m \u001b[0mself\u001b[0m\u001b[0;34m.\u001b[0m\u001b[0m_lock\u001b[0m\u001b[0;34m:\u001b[0m\u001b[0;34m\u001b[0m\u001b[0;34m\u001b[0m\u001b[0m\n\u001b[1;32m    818\u001b[0m             \u001b[0mjob_idx\u001b[0m \u001b[0;34m=\u001b[0m \u001b[0mlen\u001b[0m\u001b[0;34m(\u001b[0m\u001b[0mself\u001b[0m\u001b[0;34m.\u001b[0m\u001b[0m_jobs\u001b[0m\u001b[0;34m)\u001b[0m\u001b[0;34m\u001b[0m\u001b[0;34m\u001b[0m\u001b[0m\n\u001b[0;32m--> 819\u001b[0;31m             \u001b[0mjob\u001b[0m \u001b[0;34m=\u001b[0m \u001b[0mself\u001b[0m\u001b[0;34m.\u001b[0m\u001b[0m_backend\u001b[0m\u001b[0;34m.\u001b[0m\u001b[0mapply_async\u001b[0m\u001b[0;34m(\u001b[0m\u001b[0mbatch\u001b[0m\u001b[0;34m,\u001b[0m \u001b[0mcallback\u001b[0m\u001b[0;34m=\u001b[0m\u001b[0mcb\u001b[0m\u001b[0;34m)\u001b[0m\u001b[0;34m\u001b[0m\u001b[0;34m\u001b[0m\u001b[0m\n\u001b[0m\u001b[1;32m    820\u001b[0m             \u001b[0;31m# A job can complete so quickly than its callback is\u001b[0m\u001b[0;34m\u001b[0m\u001b[0;34m\u001b[0m\u001b[0;34m\u001b[0m\u001b[0m\n\u001b[1;32m    821\u001b[0m             \u001b[0;31m# called before we get here, causing self._jobs to\u001b[0m\u001b[0;34m\u001b[0m\u001b[0;34m\u001b[0m\u001b[0;34m\u001b[0m\u001b[0m\n",
            "\u001b[0;32m/usr/local/lib/python3.8/dist-packages/joblib/_parallel_backends.py\u001b[0m in \u001b[0;36mapply_async\u001b[0;34m(self, func, callback)\u001b[0m\n\u001b[1;32m    206\u001b[0m     \u001b[0;32mdef\u001b[0m \u001b[0mapply_async\u001b[0m\u001b[0;34m(\u001b[0m\u001b[0mself\u001b[0m\u001b[0;34m,\u001b[0m \u001b[0mfunc\u001b[0m\u001b[0;34m,\u001b[0m \u001b[0mcallback\u001b[0m\u001b[0;34m=\u001b[0m\u001b[0;32mNone\u001b[0m\u001b[0;34m)\u001b[0m\u001b[0;34m:\u001b[0m\u001b[0;34m\u001b[0m\u001b[0;34m\u001b[0m\u001b[0m\n\u001b[1;32m    207\u001b[0m         \u001b[0;34m\"\"\"Schedule a func to be run\"\"\"\u001b[0m\u001b[0;34m\u001b[0m\u001b[0;34m\u001b[0m\u001b[0m\n\u001b[0;32m--> 208\u001b[0;31m         \u001b[0mresult\u001b[0m \u001b[0;34m=\u001b[0m \u001b[0mImmediateResult\u001b[0m\u001b[0;34m(\u001b[0m\u001b[0mfunc\u001b[0m\u001b[0;34m)\u001b[0m\u001b[0;34m\u001b[0m\u001b[0;34m\u001b[0m\u001b[0m\n\u001b[0m\u001b[1;32m    209\u001b[0m         \u001b[0;32mif\u001b[0m \u001b[0mcallback\u001b[0m\u001b[0;34m:\u001b[0m\u001b[0;34m\u001b[0m\u001b[0;34m\u001b[0m\u001b[0m\n\u001b[1;32m    210\u001b[0m             \u001b[0mcallback\u001b[0m\u001b[0;34m(\u001b[0m\u001b[0mresult\u001b[0m\u001b[0;34m)\u001b[0m\u001b[0;34m\u001b[0m\u001b[0;34m\u001b[0m\u001b[0m\n",
            "\u001b[0;32m/usr/local/lib/python3.8/dist-packages/joblib/_parallel_backends.py\u001b[0m in \u001b[0;36m__init__\u001b[0;34m(self, batch)\u001b[0m\n\u001b[1;32m    595\u001b[0m         \u001b[0;31m# Don't delay the application, to avoid keeping the input\u001b[0m\u001b[0;34m\u001b[0m\u001b[0;34m\u001b[0m\u001b[0;34m\u001b[0m\u001b[0m\n\u001b[1;32m    596\u001b[0m         \u001b[0;31m# arguments in memory\u001b[0m\u001b[0;34m\u001b[0m\u001b[0;34m\u001b[0m\u001b[0;34m\u001b[0m\u001b[0m\n\u001b[0;32m--> 597\u001b[0;31m         \u001b[0mself\u001b[0m\u001b[0;34m.\u001b[0m\u001b[0mresults\u001b[0m \u001b[0;34m=\u001b[0m \u001b[0mbatch\u001b[0m\u001b[0;34m(\u001b[0m\u001b[0;34m)\u001b[0m\u001b[0;34m\u001b[0m\u001b[0;34m\u001b[0m\u001b[0m\n\u001b[0m\u001b[1;32m    598\u001b[0m \u001b[0;34m\u001b[0m\u001b[0m\n\u001b[1;32m    599\u001b[0m     \u001b[0;32mdef\u001b[0m \u001b[0mget\u001b[0m\u001b[0;34m(\u001b[0m\u001b[0mself\u001b[0m\u001b[0;34m)\u001b[0m\u001b[0;34m:\u001b[0m\u001b[0;34m\u001b[0m\u001b[0;34m\u001b[0m\u001b[0m\n",
            "\u001b[0;32m/usr/local/lib/python3.8/dist-packages/joblib/parallel.py\u001b[0m in \u001b[0;36m__call__\u001b[0;34m(self)\u001b[0m\n\u001b[1;32m    286\u001b[0m         \u001b[0;31m# change the default number of processes to -1\u001b[0m\u001b[0;34m\u001b[0m\u001b[0;34m\u001b[0m\u001b[0;34m\u001b[0m\u001b[0m\n\u001b[1;32m    287\u001b[0m         \u001b[0;32mwith\u001b[0m \u001b[0mparallel_backend\u001b[0m\u001b[0;34m(\u001b[0m\u001b[0mself\u001b[0m\u001b[0;34m.\u001b[0m\u001b[0m_backend\u001b[0m\u001b[0;34m,\u001b[0m \u001b[0mn_jobs\u001b[0m\u001b[0;34m=\u001b[0m\u001b[0mself\u001b[0m\u001b[0;34m.\u001b[0m\u001b[0m_n_jobs\u001b[0m\u001b[0;34m)\u001b[0m\u001b[0;34m:\u001b[0m\u001b[0;34m\u001b[0m\u001b[0;34m\u001b[0m\u001b[0m\n\u001b[0;32m--> 288\u001b[0;31m             return [func(*args, **kwargs)\n\u001b[0m\u001b[1;32m    289\u001b[0m                     for func, args, kwargs in self.items]\n\u001b[1;32m    290\u001b[0m \u001b[0;34m\u001b[0m\u001b[0m\n",
            "\u001b[0;32m/usr/local/lib/python3.8/dist-packages/joblib/parallel.py\u001b[0m in \u001b[0;36m<listcomp>\u001b[0;34m(.0)\u001b[0m\n\u001b[1;32m    286\u001b[0m         \u001b[0;31m# change the default number of processes to -1\u001b[0m\u001b[0;34m\u001b[0m\u001b[0;34m\u001b[0m\u001b[0;34m\u001b[0m\u001b[0m\n\u001b[1;32m    287\u001b[0m         \u001b[0;32mwith\u001b[0m \u001b[0mparallel_backend\u001b[0m\u001b[0;34m(\u001b[0m\u001b[0mself\u001b[0m\u001b[0;34m.\u001b[0m\u001b[0m_backend\u001b[0m\u001b[0;34m,\u001b[0m \u001b[0mn_jobs\u001b[0m\u001b[0;34m=\u001b[0m\u001b[0mself\u001b[0m\u001b[0;34m.\u001b[0m\u001b[0m_n_jobs\u001b[0m\u001b[0;34m)\u001b[0m\u001b[0;34m:\u001b[0m\u001b[0;34m\u001b[0m\u001b[0;34m\u001b[0m\u001b[0m\n\u001b[0;32m--> 288\u001b[0;31m             return [func(*args, **kwargs)\n\u001b[0m\u001b[1;32m    289\u001b[0m                     for func, args, kwargs in self.items]\n\u001b[1;32m    290\u001b[0m \u001b[0;34m\u001b[0m\u001b[0m\n",
            "\u001b[0;32m/usr/local/lib/python3.8/dist-packages/sklearn/utils/fixes.py\u001b[0m in \u001b[0;36m__call__\u001b[0;34m(self, *args, **kwargs)\u001b[0m\n\u001b[1;32m    214\u001b[0m     \u001b[0;32mdef\u001b[0m \u001b[0m__call__\u001b[0m\u001b[0;34m(\u001b[0m\u001b[0mself\u001b[0m\u001b[0;34m,\u001b[0m \u001b[0;34m*\u001b[0m\u001b[0margs\u001b[0m\u001b[0;34m,\u001b[0m \u001b[0;34m**\u001b[0m\u001b[0mkwargs\u001b[0m\u001b[0;34m)\u001b[0m\u001b[0;34m:\u001b[0m\u001b[0;34m\u001b[0m\u001b[0;34m\u001b[0m\u001b[0m\n\u001b[1;32m    215\u001b[0m         \u001b[0;32mwith\u001b[0m \u001b[0mconfig_context\u001b[0m\u001b[0;34m(\u001b[0m\u001b[0;34m**\u001b[0m\u001b[0mself\u001b[0m\u001b[0;34m.\u001b[0m\u001b[0mconfig\u001b[0m\u001b[0;34m)\u001b[0m\u001b[0;34m:\u001b[0m\u001b[0;34m\u001b[0m\u001b[0;34m\u001b[0m\u001b[0m\n\u001b[0;32m--> 216\u001b[0;31m             \u001b[0;32mreturn\u001b[0m \u001b[0mself\u001b[0m\u001b[0;34m.\u001b[0m\u001b[0mfunction\u001b[0m\u001b[0;34m(\u001b[0m\u001b[0;34m*\u001b[0m\u001b[0margs\u001b[0m\u001b[0;34m,\u001b[0m \u001b[0;34m**\u001b[0m\u001b[0mkwargs\u001b[0m\u001b[0;34m)\u001b[0m\u001b[0;34m\u001b[0m\u001b[0;34m\u001b[0m\u001b[0m\n\u001b[0m\u001b[1;32m    217\u001b[0m \u001b[0;34m\u001b[0m\u001b[0m\n\u001b[1;32m    218\u001b[0m \u001b[0;34m\u001b[0m\u001b[0m\n",
            "\u001b[0;32m/usr/local/lib/python3.8/dist-packages/sklearn/model_selection/_validation.py\u001b[0m in \u001b[0;36m_fit_and_score\u001b[0;34m(estimator, X, y, scorer, train, test, verbose, parameters, fit_params, return_train_score, return_parameters, return_n_test_samples, return_times, return_estimator, split_progress, candidate_progress, error_score)\u001b[0m\n\u001b[1;32m    678\u001b[0m             \u001b[0mestimator\u001b[0m\u001b[0;34m.\u001b[0m\u001b[0mfit\u001b[0m\u001b[0;34m(\u001b[0m\u001b[0mX_train\u001b[0m\u001b[0;34m,\u001b[0m \u001b[0;34m**\u001b[0m\u001b[0mfit_params\u001b[0m\u001b[0;34m)\u001b[0m\u001b[0;34m\u001b[0m\u001b[0;34m\u001b[0m\u001b[0m\n\u001b[1;32m    679\u001b[0m         \u001b[0;32melse\u001b[0m\u001b[0;34m:\u001b[0m\u001b[0;34m\u001b[0m\u001b[0;34m\u001b[0m\u001b[0m\n\u001b[0;32m--> 680\u001b[0;31m             \u001b[0mestimator\u001b[0m\u001b[0;34m.\u001b[0m\u001b[0mfit\u001b[0m\u001b[0;34m(\u001b[0m\u001b[0mX_train\u001b[0m\u001b[0;34m,\u001b[0m \u001b[0my_train\u001b[0m\u001b[0;34m,\u001b[0m \u001b[0;34m**\u001b[0m\u001b[0mfit_params\u001b[0m\u001b[0;34m)\u001b[0m\u001b[0;34m\u001b[0m\u001b[0;34m\u001b[0m\u001b[0m\n\u001b[0m\u001b[1;32m    681\u001b[0m \u001b[0;34m\u001b[0m\u001b[0m\n\u001b[1;32m    682\u001b[0m     \u001b[0;32mexcept\u001b[0m \u001b[0mException\u001b[0m\u001b[0;34m:\u001b[0m\u001b[0;34m\u001b[0m\u001b[0;34m\u001b[0m\u001b[0m\n",
            "\u001b[0;32m/usr/local/lib/python3.8/dist-packages/sklearn/svm/_base.py\u001b[0m in \u001b[0;36mfit\u001b[0;34m(self, X, y, sample_weight)\u001b[0m\n\u001b[1;32m    253\u001b[0m \u001b[0;34m\u001b[0m\u001b[0m\n\u001b[1;32m    254\u001b[0m         \u001b[0mseed\u001b[0m \u001b[0;34m=\u001b[0m \u001b[0mrnd\u001b[0m\u001b[0;34m.\u001b[0m\u001b[0mrandint\u001b[0m\u001b[0;34m(\u001b[0m\u001b[0mnp\u001b[0m\u001b[0;34m.\u001b[0m\u001b[0miinfo\u001b[0m\u001b[0;34m(\u001b[0m\u001b[0;34m\"i\"\u001b[0m\u001b[0;34m)\u001b[0m\u001b[0;34m.\u001b[0m\u001b[0mmax\u001b[0m\u001b[0;34m)\u001b[0m\u001b[0;34m\u001b[0m\u001b[0;34m\u001b[0m\u001b[0m\n\u001b[0;32m--> 255\u001b[0;31m         \u001b[0mfit\u001b[0m\u001b[0;34m(\u001b[0m\u001b[0mX\u001b[0m\u001b[0;34m,\u001b[0m \u001b[0my\u001b[0m\u001b[0;34m,\u001b[0m \u001b[0msample_weight\u001b[0m\u001b[0;34m,\u001b[0m \u001b[0msolver_type\u001b[0m\u001b[0;34m,\u001b[0m \u001b[0mkernel\u001b[0m\u001b[0;34m,\u001b[0m \u001b[0mrandom_seed\u001b[0m\u001b[0;34m=\u001b[0m\u001b[0mseed\u001b[0m\u001b[0;34m)\u001b[0m\u001b[0;34m\u001b[0m\u001b[0;34m\u001b[0m\u001b[0m\n\u001b[0m\u001b[1;32m    256\u001b[0m         \u001b[0;31m# see comment on the other call to np.iinfo in this file\u001b[0m\u001b[0;34m\u001b[0m\u001b[0;34m\u001b[0m\u001b[0;34m\u001b[0m\u001b[0m\n\u001b[1;32m    257\u001b[0m \u001b[0;34m\u001b[0m\u001b[0m\n",
            "\u001b[0;32m/usr/local/lib/python3.8/dist-packages/sklearn/svm/_base.py\u001b[0m in \u001b[0;36m_dense_fit\u001b[0;34m(self, X, y, sample_weight, solver_type, kernel, random_seed)\u001b[0m\n\u001b[1;32m    313\u001b[0m             \u001b[0mself\u001b[0m\u001b[0;34m.\u001b[0m\u001b[0m_probB\u001b[0m\u001b[0;34m,\u001b[0m\u001b[0;34m\u001b[0m\u001b[0;34m\u001b[0m\u001b[0m\n\u001b[1;32m    314\u001b[0m             \u001b[0mself\u001b[0m\u001b[0;34m.\u001b[0m\u001b[0mfit_status_\u001b[0m\u001b[0;34m,\u001b[0m\u001b[0;34m\u001b[0m\u001b[0;34m\u001b[0m\u001b[0m\n\u001b[0;32m--> 315\u001b[0;31m         \u001b[0;34m)\u001b[0m \u001b[0;34m=\u001b[0m \u001b[0mlibsvm\u001b[0m\u001b[0;34m.\u001b[0m\u001b[0mfit\u001b[0m\u001b[0;34m(\u001b[0m\u001b[0;34m\u001b[0m\u001b[0;34m\u001b[0m\u001b[0m\n\u001b[0m\u001b[1;32m    316\u001b[0m             \u001b[0mX\u001b[0m\u001b[0;34m,\u001b[0m\u001b[0;34m\u001b[0m\u001b[0;34m\u001b[0m\u001b[0m\n\u001b[1;32m    317\u001b[0m             \u001b[0my\u001b[0m\u001b[0;34m,\u001b[0m\u001b[0;34m\u001b[0m\u001b[0;34m\u001b[0m\u001b[0m\n",
            "\u001b[0;31mKeyboardInterrupt\u001b[0m: "
          ]
        }
      ],
      "source": [
        "grid = {\n",
        "    'C': [1, 10, 100, 1000], \n",
        "    'gamma': [0.001, 0.01, 0.1, 1],\n",
        "    }\n",
        "gs = GridSearchCV(estimator = SVC(kernel ='rbf'), param_grid=grid)\n",
        "gs.fit(X_train, y_train_cat)\n",
        "gs.best_params_"
      ]
    },
    {
      "cell_type": "code",
      "source": [
        "estimator = SVC(kernel ='rbf', C=1, gamma=1)\n",
        "estimator.fit(X_train, y_train_cat)\n",
        "predictions = estimator.predict(X_val)\n",
        "print(metrics.confusion_matrix(y_val_cat, predictions))\n",
        "recall = recall_score(y_val_cat, predictions, average='micro')\n",
        "spec = recall_score(y_val_cat, predictions, pos_label = 0)\n",
        "pres = precision_score(y_val_cat, predictions, average='macro')\n",
        "bal = balanced_accuracy_score(y_val_cat, predictions)\n",
        "f1 = f1_score(y_val_cat, predictions, average='weighted')\n",
        "print(\"Recall =\", recall)\n",
        "print(\"Specificity =\", spec)\n",
        "print(\"Precision =\", pres)\n",
        "print(\"Balanced Accuracy =\", bal)\n",
        "print(\"F1 Score =\", f1)"
      ],
      "metadata": {
        "colab": {
          "base_uri": "https://localhost:8080/"
        },
        "id": "Eb32zjxEJd2w",
        "outputId": "7c11d14f-60c9-4beb-e35b-95198100a728"
      },
      "execution_count": 124,
      "outputs": [
        {
          "output_type": "stream",
          "name": "stdout",
          "text": [
            "[[762  50]\n",
            " [ 68 449]]\n",
            "Recall = 0.9112114371708051\n",
            "Specificity = 0.9384236453201971\n",
            "Precision = 0.9089359441775117\n",
            "Balanced Accuracy = 0.9034477994492668\n",
            "F1 Score = 0.9109115851305024\n"
          ]
        }
      ]
    },
    {
      "cell_type": "markdown",
      "metadata": {
        "id": "CDoUvE9RJPJV"
      },
      "source": [
        "#### SVC Model 2"
      ]
    },
    {
      "cell_type": "code",
      "execution_count": 125,
      "metadata": {
        "colab": {
          "base_uri": "https://localhost:8080/",
          "height": 371
        },
        "id": "fbu1xQr7JPJV",
        "outputId": "cc931b93-4972-43f3-97bf-3340b2d4a305"
      },
      "outputs": [
        {
          "output_type": "error",
          "ename": "KeyboardInterrupt",
          "evalue": "ignored",
          "traceback": [
            "\u001b[0;31m---------------------------------------------------------------------------\u001b[0m",
            "\u001b[0;31mKeyboardInterrupt\u001b[0m                         Traceback (most recent call last)",
            "\u001b[0;32m<ipython-input-125-0b252bd88d1f>\u001b[0m in \u001b[0;36m<module>\u001b[0;34m\u001b[0m\n\u001b[1;32m      4\u001b[0m     }\n\u001b[1;32m      5\u001b[0m \u001b[0mgs\u001b[0m \u001b[0;34m=\u001b[0m \u001b[0mGridSearchCV\u001b[0m\u001b[0;34m(\u001b[0m\u001b[0mestimator\u001b[0m \u001b[0;34m=\u001b[0m \u001b[0mSVC\u001b[0m\u001b[0;34m(\u001b[0m\u001b[0mkernel\u001b[0m \u001b[0;34m=\u001b[0m\u001b[0;34m'rbf'\u001b[0m\u001b[0;34m)\u001b[0m\u001b[0;34m,\u001b[0m \u001b[0mparam_grid\u001b[0m\u001b[0;34m=\u001b[0m\u001b[0mgrid\u001b[0m\u001b[0;34m)\u001b[0m\u001b[0;34m\u001b[0m\u001b[0;34m\u001b[0m\u001b[0m\n\u001b[0;32m----> 6\u001b[0;31m \u001b[0mgs\u001b[0m\u001b[0;34m.\u001b[0m\u001b[0mfit\u001b[0m\u001b[0;34m(\u001b[0m\u001b[0mX_train_pca2\u001b[0m\u001b[0;34m,\u001b[0m \u001b[0my_train_cat\u001b[0m\u001b[0;34m)\u001b[0m\u001b[0;34m\u001b[0m\u001b[0;34m\u001b[0m\u001b[0m\n\u001b[0m\u001b[1;32m      7\u001b[0m \u001b[0mgs\u001b[0m\u001b[0;34m.\u001b[0m\u001b[0mbest_params_\u001b[0m\u001b[0;34m\u001b[0m\u001b[0;34m\u001b[0m\u001b[0m\n",
            "\u001b[0;32m/usr/local/lib/python3.8/dist-packages/sklearn/model_selection/_search.py\u001b[0m in \u001b[0;36mfit\u001b[0;34m(self, X, y, groups, **fit_params)\u001b[0m\n\u001b[1;32m    889\u001b[0m                 \u001b[0;32mreturn\u001b[0m \u001b[0mresults\u001b[0m\u001b[0;34m\u001b[0m\u001b[0;34m\u001b[0m\u001b[0m\n\u001b[1;32m    890\u001b[0m \u001b[0;34m\u001b[0m\u001b[0m\n\u001b[0;32m--> 891\u001b[0;31m             \u001b[0mself\u001b[0m\u001b[0;34m.\u001b[0m\u001b[0m_run_search\u001b[0m\u001b[0;34m(\u001b[0m\u001b[0mevaluate_candidates\u001b[0m\u001b[0;34m)\u001b[0m\u001b[0;34m\u001b[0m\u001b[0;34m\u001b[0m\u001b[0m\n\u001b[0m\u001b[1;32m    892\u001b[0m \u001b[0;34m\u001b[0m\u001b[0m\n\u001b[1;32m    893\u001b[0m             \u001b[0;31m# multimetric is determined here because in the case of a callable\u001b[0m\u001b[0;34m\u001b[0m\u001b[0;34m\u001b[0m\u001b[0;34m\u001b[0m\u001b[0m\n",
            "\u001b[0;32m/usr/local/lib/python3.8/dist-packages/sklearn/model_selection/_search.py\u001b[0m in \u001b[0;36m_run_search\u001b[0;34m(self, evaluate_candidates)\u001b[0m\n\u001b[1;32m   1390\u001b[0m     \u001b[0;32mdef\u001b[0m \u001b[0m_run_search\u001b[0m\u001b[0;34m(\u001b[0m\u001b[0mself\u001b[0m\u001b[0;34m,\u001b[0m \u001b[0mevaluate_candidates\u001b[0m\u001b[0;34m)\u001b[0m\u001b[0;34m:\u001b[0m\u001b[0;34m\u001b[0m\u001b[0;34m\u001b[0m\u001b[0m\n\u001b[1;32m   1391\u001b[0m         \u001b[0;34m\"\"\"Search all candidates in param_grid\"\"\"\u001b[0m\u001b[0;34m\u001b[0m\u001b[0;34m\u001b[0m\u001b[0m\n\u001b[0;32m-> 1392\u001b[0;31m         \u001b[0mevaluate_candidates\u001b[0m\u001b[0;34m(\u001b[0m\u001b[0mParameterGrid\u001b[0m\u001b[0;34m(\u001b[0m\u001b[0mself\u001b[0m\u001b[0;34m.\u001b[0m\u001b[0mparam_grid\u001b[0m\u001b[0;34m)\u001b[0m\u001b[0;34m)\u001b[0m\u001b[0;34m\u001b[0m\u001b[0;34m\u001b[0m\u001b[0m\n\u001b[0m\u001b[1;32m   1393\u001b[0m \u001b[0;34m\u001b[0m\u001b[0m\n\u001b[1;32m   1394\u001b[0m \u001b[0;34m\u001b[0m\u001b[0m\n",
            "\u001b[0;32m/usr/local/lib/python3.8/dist-packages/sklearn/model_selection/_search.py\u001b[0m in \u001b[0;36mevaluate_candidates\u001b[0;34m(candidate_params, cv, more_results)\u001b[0m\n\u001b[1;32m    836\u001b[0m                     )\n\u001b[1;32m    837\u001b[0m \u001b[0;34m\u001b[0m\u001b[0m\n\u001b[0;32m--> 838\u001b[0;31m                 out = parallel(\n\u001b[0m\u001b[1;32m    839\u001b[0m                     delayed(_fit_and_score)(\n\u001b[1;32m    840\u001b[0m                         \u001b[0mclone\u001b[0m\u001b[0;34m(\u001b[0m\u001b[0mbase_estimator\u001b[0m\u001b[0;34m)\u001b[0m\u001b[0;34m,\u001b[0m\u001b[0;34m\u001b[0m\u001b[0;34m\u001b[0m\u001b[0m\n",
            "\u001b[0;32m/usr/local/lib/python3.8/dist-packages/joblib/parallel.py\u001b[0m in \u001b[0;36m__call__\u001b[0;34m(self, iterable)\u001b[0m\n\u001b[1;32m   1086\u001b[0m                 \u001b[0mself\u001b[0m\u001b[0;34m.\u001b[0m\u001b[0m_iterating\u001b[0m \u001b[0;34m=\u001b[0m \u001b[0mself\u001b[0m\u001b[0;34m.\u001b[0m\u001b[0m_original_iterator\u001b[0m \u001b[0;32mis\u001b[0m \u001b[0;32mnot\u001b[0m \u001b[0;32mNone\u001b[0m\u001b[0;34m\u001b[0m\u001b[0;34m\u001b[0m\u001b[0m\n\u001b[1;32m   1087\u001b[0m \u001b[0;34m\u001b[0m\u001b[0m\n\u001b[0;32m-> 1088\u001b[0;31m             \u001b[0;32mwhile\u001b[0m \u001b[0mself\u001b[0m\u001b[0;34m.\u001b[0m\u001b[0mdispatch_one_batch\u001b[0m\u001b[0;34m(\u001b[0m\u001b[0miterator\u001b[0m\u001b[0;34m)\u001b[0m\u001b[0;34m:\u001b[0m\u001b[0;34m\u001b[0m\u001b[0;34m\u001b[0m\u001b[0m\n\u001b[0m\u001b[1;32m   1089\u001b[0m                 \u001b[0;32mpass\u001b[0m\u001b[0;34m\u001b[0m\u001b[0;34m\u001b[0m\u001b[0m\n\u001b[1;32m   1090\u001b[0m \u001b[0;34m\u001b[0m\u001b[0m\n",
            "\u001b[0;32m/usr/local/lib/python3.8/dist-packages/joblib/parallel.py\u001b[0m in \u001b[0;36mdispatch_one_batch\u001b[0;34m(self, iterator)\u001b[0m\n\u001b[1;32m    899\u001b[0m                 \u001b[0;32mreturn\u001b[0m \u001b[0;32mFalse\u001b[0m\u001b[0;34m\u001b[0m\u001b[0;34m\u001b[0m\u001b[0m\n\u001b[1;32m    900\u001b[0m             \u001b[0;32melse\u001b[0m\u001b[0;34m:\u001b[0m\u001b[0;34m\u001b[0m\u001b[0;34m\u001b[0m\u001b[0m\n\u001b[0;32m--> 901\u001b[0;31m                 \u001b[0mself\u001b[0m\u001b[0;34m.\u001b[0m\u001b[0m_dispatch\u001b[0m\u001b[0;34m(\u001b[0m\u001b[0mtasks\u001b[0m\u001b[0;34m)\u001b[0m\u001b[0;34m\u001b[0m\u001b[0;34m\u001b[0m\u001b[0m\n\u001b[0m\u001b[1;32m    902\u001b[0m                 \u001b[0;32mreturn\u001b[0m \u001b[0;32mTrue\u001b[0m\u001b[0;34m\u001b[0m\u001b[0;34m\u001b[0m\u001b[0m\n\u001b[1;32m    903\u001b[0m \u001b[0;34m\u001b[0m\u001b[0m\n",
            "\u001b[0;32m/usr/local/lib/python3.8/dist-packages/joblib/parallel.py\u001b[0m in \u001b[0;36m_dispatch\u001b[0;34m(self, batch)\u001b[0m\n\u001b[1;32m    817\u001b[0m         \u001b[0;32mwith\u001b[0m \u001b[0mself\u001b[0m\u001b[0;34m.\u001b[0m\u001b[0m_lock\u001b[0m\u001b[0;34m:\u001b[0m\u001b[0;34m\u001b[0m\u001b[0;34m\u001b[0m\u001b[0m\n\u001b[1;32m    818\u001b[0m             \u001b[0mjob_idx\u001b[0m \u001b[0;34m=\u001b[0m \u001b[0mlen\u001b[0m\u001b[0;34m(\u001b[0m\u001b[0mself\u001b[0m\u001b[0;34m.\u001b[0m\u001b[0m_jobs\u001b[0m\u001b[0;34m)\u001b[0m\u001b[0;34m\u001b[0m\u001b[0;34m\u001b[0m\u001b[0m\n\u001b[0;32m--> 819\u001b[0;31m             \u001b[0mjob\u001b[0m \u001b[0;34m=\u001b[0m \u001b[0mself\u001b[0m\u001b[0;34m.\u001b[0m\u001b[0m_backend\u001b[0m\u001b[0;34m.\u001b[0m\u001b[0mapply_async\u001b[0m\u001b[0;34m(\u001b[0m\u001b[0mbatch\u001b[0m\u001b[0;34m,\u001b[0m \u001b[0mcallback\u001b[0m\u001b[0;34m=\u001b[0m\u001b[0mcb\u001b[0m\u001b[0;34m)\u001b[0m\u001b[0;34m\u001b[0m\u001b[0;34m\u001b[0m\u001b[0m\n\u001b[0m\u001b[1;32m    820\u001b[0m             \u001b[0;31m# A job can complete so quickly than its callback is\u001b[0m\u001b[0;34m\u001b[0m\u001b[0;34m\u001b[0m\u001b[0;34m\u001b[0m\u001b[0m\n\u001b[1;32m    821\u001b[0m             \u001b[0;31m# called before we get here, causing self._jobs to\u001b[0m\u001b[0;34m\u001b[0m\u001b[0;34m\u001b[0m\u001b[0;34m\u001b[0m\u001b[0m\n",
            "\u001b[0;32m/usr/local/lib/python3.8/dist-packages/joblib/_parallel_backends.py\u001b[0m in \u001b[0;36mapply_async\u001b[0;34m(self, func, callback)\u001b[0m\n\u001b[1;32m    206\u001b[0m     \u001b[0;32mdef\u001b[0m \u001b[0mapply_async\u001b[0m\u001b[0;34m(\u001b[0m\u001b[0mself\u001b[0m\u001b[0;34m,\u001b[0m \u001b[0mfunc\u001b[0m\u001b[0;34m,\u001b[0m \u001b[0mcallback\u001b[0m\u001b[0;34m=\u001b[0m\u001b[0;32mNone\u001b[0m\u001b[0;34m)\u001b[0m\u001b[0;34m:\u001b[0m\u001b[0;34m\u001b[0m\u001b[0;34m\u001b[0m\u001b[0m\n\u001b[1;32m    207\u001b[0m         \u001b[0;34m\"\"\"Schedule a func to be run\"\"\"\u001b[0m\u001b[0;34m\u001b[0m\u001b[0;34m\u001b[0m\u001b[0m\n\u001b[0;32m--> 208\u001b[0;31m         \u001b[0mresult\u001b[0m \u001b[0;34m=\u001b[0m \u001b[0mImmediateResult\u001b[0m\u001b[0;34m(\u001b[0m\u001b[0mfunc\u001b[0m\u001b[0;34m)\u001b[0m\u001b[0;34m\u001b[0m\u001b[0;34m\u001b[0m\u001b[0m\n\u001b[0m\u001b[1;32m    209\u001b[0m         \u001b[0;32mif\u001b[0m \u001b[0mcallback\u001b[0m\u001b[0;34m:\u001b[0m\u001b[0;34m\u001b[0m\u001b[0;34m\u001b[0m\u001b[0m\n\u001b[1;32m    210\u001b[0m             \u001b[0mcallback\u001b[0m\u001b[0;34m(\u001b[0m\u001b[0mresult\u001b[0m\u001b[0;34m)\u001b[0m\u001b[0;34m\u001b[0m\u001b[0;34m\u001b[0m\u001b[0m\n",
            "\u001b[0;32m/usr/local/lib/python3.8/dist-packages/joblib/_parallel_backends.py\u001b[0m in \u001b[0;36m__init__\u001b[0;34m(self, batch)\u001b[0m\n\u001b[1;32m    595\u001b[0m         \u001b[0;31m# Don't delay the application, to avoid keeping the input\u001b[0m\u001b[0;34m\u001b[0m\u001b[0;34m\u001b[0m\u001b[0;34m\u001b[0m\u001b[0m\n\u001b[1;32m    596\u001b[0m         \u001b[0;31m# arguments in memory\u001b[0m\u001b[0;34m\u001b[0m\u001b[0;34m\u001b[0m\u001b[0;34m\u001b[0m\u001b[0m\n\u001b[0;32m--> 597\u001b[0;31m         \u001b[0mself\u001b[0m\u001b[0;34m.\u001b[0m\u001b[0mresults\u001b[0m \u001b[0;34m=\u001b[0m \u001b[0mbatch\u001b[0m\u001b[0;34m(\u001b[0m\u001b[0;34m)\u001b[0m\u001b[0;34m\u001b[0m\u001b[0;34m\u001b[0m\u001b[0m\n\u001b[0m\u001b[1;32m    598\u001b[0m \u001b[0;34m\u001b[0m\u001b[0m\n\u001b[1;32m    599\u001b[0m     \u001b[0;32mdef\u001b[0m \u001b[0mget\u001b[0m\u001b[0;34m(\u001b[0m\u001b[0mself\u001b[0m\u001b[0;34m)\u001b[0m\u001b[0;34m:\u001b[0m\u001b[0;34m\u001b[0m\u001b[0;34m\u001b[0m\u001b[0m\n",
            "\u001b[0;32m/usr/local/lib/python3.8/dist-packages/joblib/parallel.py\u001b[0m in \u001b[0;36m__call__\u001b[0;34m(self)\u001b[0m\n\u001b[1;32m    286\u001b[0m         \u001b[0;31m# change the default number of processes to -1\u001b[0m\u001b[0;34m\u001b[0m\u001b[0;34m\u001b[0m\u001b[0;34m\u001b[0m\u001b[0m\n\u001b[1;32m    287\u001b[0m         \u001b[0;32mwith\u001b[0m \u001b[0mparallel_backend\u001b[0m\u001b[0;34m(\u001b[0m\u001b[0mself\u001b[0m\u001b[0;34m.\u001b[0m\u001b[0m_backend\u001b[0m\u001b[0;34m,\u001b[0m \u001b[0mn_jobs\u001b[0m\u001b[0;34m=\u001b[0m\u001b[0mself\u001b[0m\u001b[0;34m.\u001b[0m\u001b[0m_n_jobs\u001b[0m\u001b[0;34m)\u001b[0m\u001b[0;34m:\u001b[0m\u001b[0;34m\u001b[0m\u001b[0;34m\u001b[0m\u001b[0m\n\u001b[0;32m--> 288\u001b[0;31m             return [func(*args, **kwargs)\n\u001b[0m\u001b[1;32m    289\u001b[0m                     for func, args, kwargs in self.items]\n\u001b[1;32m    290\u001b[0m \u001b[0;34m\u001b[0m\u001b[0m\n",
            "\u001b[0;32m/usr/local/lib/python3.8/dist-packages/joblib/parallel.py\u001b[0m in \u001b[0;36m<listcomp>\u001b[0;34m(.0)\u001b[0m\n\u001b[1;32m    286\u001b[0m         \u001b[0;31m# change the default number of processes to -1\u001b[0m\u001b[0;34m\u001b[0m\u001b[0;34m\u001b[0m\u001b[0;34m\u001b[0m\u001b[0m\n\u001b[1;32m    287\u001b[0m         \u001b[0;32mwith\u001b[0m \u001b[0mparallel_backend\u001b[0m\u001b[0;34m(\u001b[0m\u001b[0mself\u001b[0m\u001b[0;34m.\u001b[0m\u001b[0m_backend\u001b[0m\u001b[0;34m,\u001b[0m \u001b[0mn_jobs\u001b[0m\u001b[0;34m=\u001b[0m\u001b[0mself\u001b[0m\u001b[0;34m.\u001b[0m\u001b[0m_n_jobs\u001b[0m\u001b[0;34m)\u001b[0m\u001b[0;34m:\u001b[0m\u001b[0;34m\u001b[0m\u001b[0;34m\u001b[0m\u001b[0m\n\u001b[0;32m--> 288\u001b[0;31m             return [func(*args, **kwargs)\n\u001b[0m\u001b[1;32m    289\u001b[0m                     for func, args, kwargs in self.items]\n\u001b[1;32m    290\u001b[0m \u001b[0;34m\u001b[0m\u001b[0m\n",
            "\u001b[0;32m/usr/local/lib/python3.8/dist-packages/sklearn/utils/fixes.py\u001b[0m in \u001b[0;36m__call__\u001b[0;34m(self, *args, **kwargs)\u001b[0m\n\u001b[1;32m    214\u001b[0m     \u001b[0;32mdef\u001b[0m \u001b[0m__call__\u001b[0m\u001b[0;34m(\u001b[0m\u001b[0mself\u001b[0m\u001b[0;34m,\u001b[0m \u001b[0;34m*\u001b[0m\u001b[0margs\u001b[0m\u001b[0;34m,\u001b[0m \u001b[0;34m**\u001b[0m\u001b[0mkwargs\u001b[0m\u001b[0;34m)\u001b[0m\u001b[0;34m:\u001b[0m\u001b[0;34m\u001b[0m\u001b[0;34m\u001b[0m\u001b[0m\n\u001b[1;32m    215\u001b[0m         \u001b[0;32mwith\u001b[0m \u001b[0mconfig_context\u001b[0m\u001b[0;34m(\u001b[0m\u001b[0;34m**\u001b[0m\u001b[0mself\u001b[0m\u001b[0;34m.\u001b[0m\u001b[0mconfig\u001b[0m\u001b[0;34m)\u001b[0m\u001b[0;34m:\u001b[0m\u001b[0;34m\u001b[0m\u001b[0;34m\u001b[0m\u001b[0m\n\u001b[0;32m--> 216\u001b[0;31m             \u001b[0;32mreturn\u001b[0m \u001b[0mself\u001b[0m\u001b[0;34m.\u001b[0m\u001b[0mfunction\u001b[0m\u001b[0;34m(\u001b[0m\u001b[0;34m*\u001b[0m\u001b[0margs\u001b[0m\u001b[0;34m,\u001b[0m \u001b[0;34m**\u001b[0m\u001b[0mkwargs\u001b[0m\u001b[0;34m)\u001b[0m\u001b[0;34m\u001b[0m\u001b[0;34m\u001b[0m\u001b[0m\n\u001b[0m\u001b[1;32m    217\u001b[0m \u001b[0;34m\u001b[0m\u001b[0m\n\u001b[1;32m    218\u001b[0m \u001b[0;34m\u001b[0m\u001b[0m\n",
            "\u001b[0;32m/usr/local/lib/python3.8/dist-packages/sklearn/model_selection/_validation.py\u001b[0m in \u001b[0;36m_fit_and_score\u001b[0;34m(estimator, X, y, scorer, train, test, verbose, parameters, fit_params, return_train_score, return_parameters, return_n_test_samples, return_times, return_estimator, split_progress, candidate_progress, error_score)\u001b[0m\n\u001b[1;32m    678\u001b[0m             \u001b[0mestimator\u001b[0m\u001b[0;34m.\u001b[0m\u001b[0mfit\u001b[0m\u001b[0;34m(\u001b[0m\u001b[0mX_train\u001b[0m\u001b[0;34m,\u001b[0m \u001b[0;34m**\u001b[0m\u001b[0mfit_params\u001b[0m\u001b[0;34m)\u001b[0m\u001b[0;34m\u001b[0m\u001b[0;34m\u001b[0m\u001b[0m\n\u001b[1;32m    679\u001b[0m         \u001b[0;32melse\u001b[0m\u001b[0;34m:\u001b[0m\u001b[0;34m\u001b[0m\u001b[0;34m\u001b[0m\u001b[0m\n\u001b[0;32m--> 680\u001b[0;31m             \u001b[0mestimator\u001b[0m\u001b[0;34m.\u001b[0m\u001b[0mfit\u001b[0m\u001b[0;34m(\u001b[0m\u001b[0mX_train\u001b[0m\u001b[0;34m,\u001b[0m \u001b[0my_train\u001b[0m\u001b[0;34m,\u001b[0m \u001b[0;34m**\u001b[0m\u001b[0mfit_params\u001b[0m\u001b[0;34m)\u001b[0m\u001b[0;34m\u001b[0m\u001b[0;34m\u001b[0m\u001b[0m\n\u001b[0m\u001b[1;32m    681\u001b[0m \u001b[0;34m\u001b[0m\u001b[0m\n\u001b[1;32m    682\u001b[0m     \u001b[0;32mexcept\u001b[0m \u001b[0mException\u001b[0m\u001b[0;34m:\u001b[0m\u001b[0;34m\u001b[0m\u001b[0;34m\u001b[0m\u001b[0m\n",
            "\u001b[0;32m/usr/local/lib/python3.8/dist-packages/sklearn/svm/_base.py\u001b[0m in \u001b[0;36mfit\u001b[0;34m(self, X, y, sample_weight)\u001b[0m\n\u001b[1;32m    253\u001b[0m \u001b[0;34m\u001b[0m\u001b[0m\n\u001b[1;32m    254\u001b[0m         \u001b[0mseed\u001b[0m \u001b[0;34m=\u001b[0m \u001b[0mrnd\u001b[0m\u001b[0;34m.\u001b[0m\u001b[0mrandint\u001b[0m\u001b[0;34m(\u001b[0m\u001b[0mnp\u001b[0m\u001b[0;34m.\u001b[0m\u001b[0miinfo\u001b[0m\u001b[0;34m(\u001b[0m\u001b[0;34m\"i\"\u001b[0m\u001b[0;34m)\u001b[0m\u001b[0;34m.\u001b[0m\u001b[0mmax\u001b[0m\u001b[0;34m)\u001b[0m\u001b[0;34m\u001b[0m\u001b[0;34m\u001b[0m\u001b[0m\n\u001b[0;32m--> 255\u001b[0;31m         \u001b[0mfit\u001b[0m\u001b[0;34m(\u001b[0m\u001b[0mX\u001b[0m\u001b[0;34m,\u001b[0m \u001b[0my\u001b[0m\u001b[0;34m,\u001b[0m \u001b[0msample_weight\u001b[0m\u001b[0;34m,\u001b[0m \u001b[0msolver_type\u001b[0m\u001b[0;34m,\u001b[0m \u001b[0mkernel\u001b[0m\u001b[0;34m,\u001b[0m \u001b[0mrandom_seed\u001b[0m\u001b[0;34m=\u001b[0m\u001b[0mseed\u001b[0m\u001b[0;34m)\u001b[0m\u001b[0;34m\u001b[0m\u001b[0;34m\u001b[0m\u001b[0m\n\u001b[0m\u001b[1;32m    256\u001b[0m         \u001b[0;31m# see comment on the other call to np.iinfo in this file\u001b[0m\u001b[0;34m\u001b[0m\u001b[0;34m\u001b[0m\u001b[0;34m\u001b[0m\u001b[0m\n\u001b[1;32m    257\u001b[0m \u001b[0;34m\u001b[0m\u001b[0m\n",
            "\u001b[0;32m/usr/local/lib/python3.8/dist-packages/sklearn/svm/_base.py\u001b[0m in \u001b[0;36m_dense_fit\u001b[0;34m(self, X, y, sample_weight, solver_type, kernel, random_seed)\u001b[0m\n\u001b[1;32m    313\u001b[0m             \u001b[0mself\u001b[0m\u001b[0;34m.\u001b[0m\u001b[0m_probB\u001b[0m\u001b[0;34m,\u001b[0m\u001b[0;34m\u001b[0m\u001b[0;34m\u001b[0m\u001b[0m\n\u001b[1;32m    314\u001b[0m             \u001b[0mself\u001b[0m\u001b[0;34m.\u001b[0m\u001b[0mfit_status_\u001b[0m\u001b[0;34m,\u001b[0m\u001b[0;34m\u001b[0m\u001b[0;34m\u001b[0m\u001b[0m\n\u001b[0;32m--> 315\u001b[0;31m         \u001b[0;34m)\u001b[0m \u001b[0;34m=\u001b[0m \u001b[0mlibsvm\u001b[0m\u001b[0;34m.\u001b[0m\u001b[0mfit\u001b[0m\u001b[0;34m(\u001b[0m\u001b[0;34m\u001b[0m\u001b[0;34m\u001b[0m\u001b[0m\n\u001b[0m\u001b[1;32m    316\u001b[0m             \u001b[0mX\u001b[0m\u001b[0;34m,\u001b[0m\u001b[0;34m\u001b[0m\u001b[0;34m\u001b[0m\u001b[0m\n\u001b[1;32m    317\u001b[0m             \u001b[0my\u001b[0m\u001b[0;34m,\u001b[0m\u001b[0;34m\u001b[0m\u001b[0;34m\u001b[0m\u001b[0m\n",
            "\u001b[0;31mKeyboardInterrupt\u001b[0m: "
          ]
        }
      ],
      "source": [
        "grid = {\n",
        "    'C': [1, 10, 100, 1000], \n",
        "    'gamma': [0.001, 0.01, 0.1, 1],\n",
        "    }\n",
        "gs = GridSearchCV(estimator = SVC(kernel ='rbf'), param_grid=grid)\n",
        "gs.fit(X_train_pca2, y_train_cat)\n",
        "gs.best_params_"
      ]
    },
    {
      "cell_type": "code",
      "source": [
        "estimator = SVC(kernel ='rbf', C=1, gamma=1)\n",
        "estimator.fit(X_train_pca2, y_train_cat)\n",
        "predictions = estimator.predict(X_val_pca2)\n",
        "print(metrics.confusion_matrix(y_val_cat, predictions))\n",
        "recall = recall_score(y_val_cat, predictions, average='micro')\n",
        "spec = recall_score(y_val_cat, predictions, pos_label = 0)\n",
        "pres = precision_score(y_val_cat, predictions, average='macro')\n",
        "bal = balanced_accuracy_score(y_val_cat, predictions)\n",
        "f1 = f1_score(y_val_cat, predictions, average='weighted')\n",
        "print(\"Recall =\", recall)\n",
        "print(\"Specificity =\", spec)\n",
        "print(\"Precision =\", pres)\n",
        "print(\"Balanced Accuracy =\", bal)\n",
        "print(\"F1 Score =\", f1)"
      ],
      "metadata": {
        "colab": {
          "base_uri": "https://localhost:8080/"
        },
        "id": "ynRps7piDtTg",
        "outputId": "07206391-b3ee-4ee1-e53b-19a73dacc2f9"
      },
      "execution_count": 126,
      "outputs": [
        {
          "output_type": "stream",
          "name": "stdout",
          "text": [
            "[[764  48]\n",
            " [ 70 447]]\n",
            "Recall = 0.9112114371708051\n",
            "Specificity = 0.9408866995073891\n",
            "Precision = 0.9095487246566383\n",
            "Balanced Accuracy = 0.9027450905660737\n",
            "F1 Score = 0.9108397063026021\n"
          ]
        }
      ]
    },
    {
      "cell_type": "markdown",
      "metadata": {
        "id": "dMNRMOqNJPJV"
      },
      "source": [
        "## Q8 [10]"
      ]
    },
    {
      "cell_type": "markdown",
      "metadata": {
        "id": "41OGlcLjJPJV"
      },
      "source": [
        "- For regression:\n",
        "    - Think of other ways of improving the regression performance and list at least two possibilities.\n",
        "    - You can use any of the datasets we have been using (standardized data, PCA transformed data), or re-create your own set from the original.\n",
        "    - Implement both of the methods you proposed. \n",
        "    - Is the validation performance increasing? For performance comparison you can use any regression performance metric that you deem to be appropriate. \n",
        "    - Optional: Apply different methods, ideas as you see fit and see if the validation performance is improving."
      ]
    },
    {
      "cell_type": "markdown",
      "source": [
        "Improving regresssion could be achieved through some hyperparameter tuning of the regression models used. One possibilities:\n",
        "- Linear Regression, increase n-jobs from none to 100"
      ],
      "metadata": {
        "id": "F0-FXDXVEWmd"
      }
    },
    {
      "cell_type": "code",
      "execution_count": 127,
      "metadata": {
        "colab": {
          "base_uri": "https://localhost:8080/"
        },
        "id": "ZAKH2zsmJPJV",
        "outputId": "e415b9c5-5bf9-4528-8b1b-477216b0a982"
      },
      "outputs": [
        {
          "output_type": "stream",
          "name": "stdout",
          "text": [
            "training R2 score:  0.6557906042002006 \n",
            " validation R2 score:  0.6333206399655549 \n",
            " training RMSE:  1.2874751982855395 \n",
            " validation RMSE:  1.413822244602062\n"
          ]
        }
      ],
      "source": [
        "estimator = LinearRegression(n_jobs=100)\n",
        "estimator.fit(X_train_pca2, y_train)\n",
        "trainpreds = estimator.predict(X_train_pca2)\n",
        "valpreds = estimator.predict(X_val_pca2)\n",
        "print('training R2 score: ', metrics.r2_score(y_train, trainpreds), '\\n', \n",
        "      'validation R2 score: ', metrics.r2_score(y_val, valpreds), '\\n',\n",
        "      'training RMSE: ', np.sqrt(metrics.mean_squared_error(y_train, trainpreds)), '\\n', \n",
        "      'validation RMSE: ', np.sqrt(metrics.mean_squared_error(y_val, valpreds)))"
      ]
    },
    {
      "cell_type": "markdown",
      "source": [
        "Seems to speed up the model output but no effect on R2 or RMSE"
      ],
      "metadata": {
        "id": "lwO5FRxOGLri"
      }
    },
    {
      "cell_type": "markdown",
      "source": [
        "Another possibility:\n",
        "- SVR Regression with epsilon = 0.25 instead of default 0.1"
      ],
      "metadata": {
        "id": "3tRY4Q_BGath"
      }
    },
    {
      "cell_type": "code",
      "source": [
        "estimator = SVR(kernel='rbf', C=1000, gamma=0.01, epsilon=0.25)\n",
        "estimator.fit(X_train_pca2, y_train)\n",
        "trainpreds = estimator.predict(X_train_pca2)\n",
        "valpreds = estimator.predict(X_val_pca2)\n",
        "print(' training R2 score: ', metrics.r2_score(y_train, trainpreds), '\\n', \n",
        "      'validation R2 score: ', metrics.r2_score(y_val, valpreds), '\\n',\n",
        "      'training RMSE: ', np.sqrt(metrics.mean_squared_error(y_train, trainpreds)), '\\n', \n",
        "      'validation RMSE: ', np.sqrt(metrics.mean_squared_error(y_val, valpreds)))"
      ],
      "metadata": {
        "colab": {
          "base_uri": "https://localhost:8080/"
        },
        "id": "u2JItpT-Gy6x",
        "outputId": "eddeea99-02e1-4216-fd58-9ee64a96f185"
      },
      "execution_count": 134,
      "outputs": [
        {
          "output_type": "stream",
          "name": "stdout",
          "text": [
            " training R2 score:  0.7857053816007232 \n",
            " validation R2 score:  0.752684608089259 \n",
            " training RMSE:  1.0158583237456014 \n",
            " validation RMSE:  1.1611201211137916\n"
          ]
        }
      ]
    },
    {
      "cell_type": "markdown",
      "source": [
        "With the inscrease epsilon there is a slight increase in R2 score and slight decrease in RMSE, however difference is only in the magnintude of .0001"
      ],
      "metadata": {
        "id": "s_-oT26NIFrJ"
      }
    },
    {
      "cell_type": "markdown",
      "metadata": {
        "id": "1ZQFk5-UJPJW"
      },
      "source": [
        "## Q9 [10]"
      ]
    },
    {
      "cell_type": "markdown",
      "metadata": {
        "id": "HJwCMkcqJPJW"
      },
      "source": [
        "- For classification:\n",
        "    - Try at least one classifier other than SVM (RF, GBM, Logistic Regression, etc). \n",
        "    - Think of other ways of improving the regression performance and list at least two possibilities.\n",
        "    - You can use any of the datasets we have been using (standardized data, PCA transformed data), or re-create your own set from the original.\n",
        "    - Implement both of the methods you proposed. \n",
        "    - Is the validation performance increasing? For performance comparison you can use any regression performance metric that you deem to be appropriate. \n",
        "    - Optional: Apply different methods, ideas as you see fit and see if the validation performance is improving."
      ]
    },
    {
      "cell_type": "markdown",
      "source": [
        "RF Classifier model"
      ],
      "metadata": {
        "id": "g4GBfjcDX1HU"
      }
    },
    {
      "cell_type": "code",
      "execution_count": 136,
      "metadata": {
        "colab": {
          "base_uri": "https://localhost:8080/"
        },
        "id": "agSMBYgnJPJW",
        "outputId": "b118fba3-6757-4449-f5a9-ff8acdc3b8a6"
      },
      "outputs": [
        {
          "output_type": "stream",
          "name": "stdout",
          "text": [
            "Recall = 0.9119638826185101\n",
            "Specificity = 0.9445812807881774\n",
            "Precision = 0.91117340857678\n",
            "Balanced Accuracy = 0.9026581452296787\n",
            "F1 Score = 0.9115035158434073\n"
          ]
        }
      ],
      "source": [
        "rfc = RandomForestClassifier(max_depth=None, min_samples_split=50, n_estimators=250)\n",
        "rfc.fit(X_train_pca2, y_train_cat)\n",
        "predictions = rfc.predict(X_val_pca2)\n",
        "recall = recall_score(y_val_cat, predictions, average='micro')\n",
        "spec = recall_score(y_val_cat, predictions, pos_label = 0)\n",
        "pres = precision_score(y_val_cat, predictions, average='macro')\n",
        "bal = balanced_accuracy_score(y_val_cat, predictions)\n",
        "f1 = f1_score(y_val_cat, predictions, average='weighted')\n",
        "print(\"Recall =\", recall)\n",
        "print(\"Specificity =\", spec)\n",
        "print(\"Precision =\", pres)\n",
        "print(\"Balanced Accuracy =\", bal)\n",
        "print(\"F1 Score =\", f1)"
      ]
    },
    {
      "cell_type": "markdown",
      "source": [
        "One way of improving performance in RF classifier, changing the default criterion from 'gini' to 'entropy'. Implemented:"
      ],
      "metadata": {
        "id": "IkcaHPK8Yol-"
      }
    },
    {
      "cell_type": "code",
      "source": [
        "rfc = RandomForestClassifier(max_depth=None, criterion='entropy', min_samples_split=50, n_estimators=250)\n",
        "rfc.fit(X_train_pca2, y_train_cat)\n",
        "predictions = rfc.predict(X_val_pca2)\n",
        "recall = recall_score(y_val_cat, predictions, average='micro')\n",
        "spec = recall_score(y_val_cat, predictions, pos_label = 0)\n",
        "pres = precision_score(y_val_cat, predictions, average='macro')\n",
        "bal = balanced_accuracy_score(y_val_cat, predictions)\n",
        "f1 = f1_score(y_val_cat, predictions, average='weighted')\n",
        "print(\"Recall =\", recall)\n",
        "print(\"Specificity =\", spec)\n",
        "print(\"Precision =\", pres)\n",
        "print(\"Balanced Accuracy =\", bal)\n",
        "print(\"F1 Score =\", f1)"
      ],
      "metadata": {
        "colab": {
          "base_uri": "https://localhost:8080/"
        },
        "id": "_322WdhfYzga",
        "outputId": "618249e9-5587-46eb-8d4c-8cea7499dd7f"
      },
      "execution_count": 137,
      "outputs": [
        {
          "output_type": "stream",
          "name": "stdout",
          "text": [
            "Recall = 0.9127163280662152\n",
            "Specificity = 0.9433497536945813\n",
            "Precision = 0.9114808272756388\n",
            "Balanced Accuracy = 0.9039766176596697\n",
            "F1 Score = 0.9123148550582336\n"
          ]
        }
      ]
    },
    {
      "cell_type": "markdown",
      "source": [
        "F1 Score improved with entropy as the RF criterion from .911 to .912"
      ],
      "metadata": {
        "id": "aReOytOMY9IE"
      }
    },
    {
      "cell_type": "markdown",
      "source": [
        "Using gradient boosting model:"
      ],
      "metadata": {
        "id": "kUZRA75OZOFu"
      }
    },
    {
      "cell_type": "code",
      "source": [
        "gbc = GradientBoostingClassifier()\n",
        "gbc.fit(X_train_pca2, y_train_cat)\n",
        "predictions = gbc.predict(X_val_pca2)\n",
        "recall = recall_score(y_val_cat, predictions, average='micro')\n",
        "spec = recall_score(y_val_cat, predictions, pos_label = 0)\n",
        "pres = precision_score(y_val_cat, predictions, average='macro')\n",
        "bal = balanced_accuracy_score(y_val_cat, predictions)\n",
        "f1 = f1_score(y_val_cat, predictions, average='weighted')\n",
        "print(\"Recall =\", recall)\n",
        "print(\"Specificity =\", spec)\n",
        "print(\"Precision =\", pres)\n",
        "print(\"Balanced Accuracy =\", bal)\n",
        "print(\"F1 Score =\", f1)"
      ],
      "metadata": {
        "colab": {
          "base_uri": "https://localhost:8080/"
        },
        "id": "QrQBeHo8ZC1_",
        "outputId": "066a5415-c2d2-46f1-d2c5-d80c65fb1d4d"
      },
      "execution_count": 139,
      "outputs": [
        {
          "output_type": "stream",
          "name": "stdout",
          "text": [
            "Recall = 0.9119638826185101\n",
            "Specificity = 0.9396551724137931\n",
            "Precision = 0.9098886520812492\n",
            "Balanced Accuracy = 0.9040635629960648\n",
            "F1 Score = 0.9116489334079181\n"
          ]
        }
      ]
    },
    {
      "cell_type": "markdown",
      "source": [
        "Improve GB model performance with n_estimators = 250 as opposed to default of 100 "
      ],
      "metadata": {
        "id": "KH34Zp3uZQfa"
      }
    },
    {
      "cell_type": "code",
      "source": [
        "gbc = GradientBoostingClassifier(n_estimators=250)\n",
        "gbc.fit(X_train_pca2, y_train_cat)\n",
        "predictions = gbc.predict(X_val_pca2)\n",
        "recall = recall_score(y_val_cat, predictions, average='micro')\n",
        "spec = recall_score(y_val_cat, predictions, pos_label = 0)\n",
        "pres = precision_score(y_val_cat, predictions, average='macro')\n",
        "bal = balanced_accuracy_score(y_val_cat, predictions)\n",
        "f1 = f1_score(y_val_cat, predictions, average='weighted')\n",
        "print(\"Recall =\", recall)\n",
        "print(\"Specificity =\", spec)\n",
        "print(\"Precision =\", pres)\n",
        "print(\"Balanced Accuracy =\", bal)\n",
        "print(\"F1 Score =\", f1)"
      ],
      "metadata": {
        "colab": {
          "base_uri": "https://localhost:8080/"
        },
        "id": "4gwe4L2LZ69a",
        "outputId": "8c38e80e-8d30-4269-bdc7-bf49613a39ba"
      },
      "execution_count": 143,
      "outputs": [
        {
          "output_type": "stream",
          "name": "stdout",
          "text": [
            "Recall = 0.9142212189616253\n",
            "Specificity = 0.9384236453201971\n",
            "Precision = 0.9115572906387341\n",
            "Balanced Accuracy = 0.9073162714028451\n",
            "F1 Score = 0.9139991170398819\n"
          ]
        }
      ]
    },
    {
      "cell_type": "markdown",
      "source": [
        "With the increase in n_estimators there was a modest increase in the F1 score from .911 to .913"
      ],
      "metadata": {
        "id": "LIiDiLn_Z_bw"
      }
    },
    {
      "cell_type": "markdown",
      "metadata": {
        "id": "M4Wxm8XGJPJW"
      },
      "source": [
        "## Q10 [10]\n",
        "\n"
      ]
    },
    {
      "cell_type": "markdown",
      "metadata": {
        "id": "n_FDhnznJPJW"
      },
      "source": [
        "- Choose the best 2 regressors among the trained regressions models:\n",
        "- Create a table summarizing results on the **test** set for regression (with target variables in `y_test`):\n",
        "    - Show the R^2 and RMSE performance metrics on test data for each model.\n",
        "- Which model is best for regression? Is this in line with your analysis (the validation performance of the models) or is this not expected?\n",
        "\n",
        "\n",
        "\n",
        "- Choose the best 2 classifiers among the trained classification models:\n",
        "- Create a table summarizing results on the **test** set for classification (with target variables in `y_test_cat`):\n",
        "    - Show the classification performance metrics (accuracy, recall, precision, f1-score, etc.) on test data for each model. \n",
        "- Which model is best for classification? Is this in line with your analysis (the validation performance of the models) or is this not expected? \n",
        "\n",
        "\n",
        "\n",
        "> Note that the same transformation used during training should be applied on the testing set. (If you applied PCA on training data for the selected model, you need to apply PCA on the testing set as well.) \n",
        "\n"
      ]
    },
    {
      "cell_type": "markdown",
      "source": [
        "Best Regression Models:"
      ],
      "metadata": {
        "id": "V0Wr6F1EharI"
      }
    },
    {
      "cell_type": "code",
      "execution_count": 160,
      "metadata": {
        "colab": {
          "base_uri": "https://localhost:8080/"
        },
        "id": "M8b-NS-zJPJW",
        "outputId": "6f6aafc9-ae06-4f89-c93d-4f64b7124b46"
      },
      "outputs": [
        {
          "output_type": "stream",
          "name": "stdout",
          "text": [
            "SVR test R2 score:  0.5748401522559217\n",
            "RF test R2 score:  0.5748401522559217\n",
            "+----+----------+------------+---------+\n",
            "|    | Metric   |   SVR(rbf) |      RF |\n",
            "|----+----------+------------+---------|\n",
            "|  0 | R^2      |    0.57484 | 0.57484 |\n",
            "|  1 | RMSE     |    1.52174 | 1.52174 |\n",
            "+----+----------+------------+---------+\n"
          ]
        }
      ],
      "source": [
        "estimator = SVR(kernel='rbf', C=1000, gamma=0.01, epsilon=0.25)\n",
        "estimator.fit(X_train, y_train)\n",
        "testpreds = estimator.predict(X_test)\n",
        "estimator2 = RandomForestRegressor(n_estimators=250, max_depth=5, min_samples_split=50, random_state=RANDOM_STATE)\n",
        "estimator2.fit(X_train, y_train)\n",
        "testpreds2 = estimator.predict(X_test)\n",
        "results = {'Metric':['R^2', 'RMSE',],\n",
        "        'SVR(rbf)':[metrics.r2_score(y_test, testpreds), np.sqrt(metrics.mean_squared_error(y_test, testpreds))],\n",
        "        'RF':[metrics.r2_score(y_test, testpreds2), np.sqrt(metrics.mean_squared_error(y_test, testpreds2))],\n",
        "        }\n",
        "    \n",
        "df = pd.DataFrame(results)\n",
        "print(tabulate(df, headers = 'keys', tablefmt = 'psql'))"
      ]
    },
    {
      "cell_type": "markdown",
      "source": [
        "Both models SVR and RF seem to be performing the same which is a surprise as I would expect SVR to be outperfroming based on the validation performance."
      ],
      "metadata": {
        "id": "i9v_GUANg5GM"
      }
    },
    {
      "cell_type": "markdown",
      "source": [
        "Best Classification Models:"
      ],
      "metadata": {
        "id": "HwOl6lsLhYVP"
      }
    },
    {
      "cell_type": "code",
      "source": [
        "estimator = SVC(kernel ='rbf', C=1, gamma=1)\n",
        "estimator.fit(X_train_pca2, y_train_cat)\n",
        "predictions = estimator.predict(X_test_pca2)\n",
        "recall = recall_score(y_test_cat, predictions, average='micro')\n",
        "spec = recall_score(y_test_cat, predictions, pos_label = 0)\n",
        "pres = precision_score(y_test_cat, predictions, average='macro')\n",
        "bal = balanced_accuracy_score(y_test_cat, predictions)\n",
        "f1 = f1_score(y_test_cat, predictions, average='weighted')\n",
        "\n",
        "gbc = GradientBoostingClassifier(n_estimators=250)\n",
        "gbc.fit(X_train_pca2, y_train_cat)\n",
        "predictions = gbc.predict(X_val_pca2)\n",
        "recall1 = recall_score(y_val_cat, predictions, average='micro')\n",
        "spec1 = recall_score(y_val_cat, predictions, pos_label = 0)\n",
        "pres1 = precision_score(y_val_cat, predictions, average='macro')\n",
        "bal1 = balanced_accuracy_score(y_val_cat, predictions)\n",
        "f11 = f1_score(y_val_cat, predictions, average='weighted')\n",
        "\n",
        "results = {'Metric':['Recall', 'Specificity', 'Precision', 'Balanced Accuracy', 'F1 Score'],\n",
        "        'SCV(rbf)':[recall, spec, pres, bal, f1],\n",
        "        'GB':[recall1, spec1, pres1, bal1, f11],\n",
        "        }\n",
        "\n",
        "df = pd.DataFrame(results)\n",
        "print(tabulate(df, headers = 'keys', tablefmt = 'psql'))"
      ],
      "metadata": {
        "colab": {
          "base_uri": "https://localhost:8080/"
        },
        "id": "2B2MmS28f-GB",
        "outputId": "ea5d1c87-4c95-484e-f698-9e78a5911cef"
      },
      "execution_count": 162,
      "outputs": [
        {
          "output_type": "stream",
          "name": "stdout",
          "text": [
            "+----+-------------------+------------+----------+\n",
            "|    | Metric            |   SCV(rbf) |       GB |\n",
            "|----+-------------------+------------+----------|\n",
            "|  0 | Recall            |   0.917456 | 0.914221 |\n",
            "|  1 | Specificity       |   0.93576  | 0.938424 |\n",
            "|  2 | Precision         |   0.91153  | 0.911557 |\n",
            "|  3 | Balanced Accuracy |   0.910895 | 0.907316 |\n",
            "|  4 | F1 Score          |   0.917424 | 0.913999 |\n",
            "+----+-------------------+------------+----------+\n"
          ]
        }
      ]
    },
    {
      "cell_type": "markdown",
      "source": [
        "SCV is the best classisfication model based on the metrics above compared to the GB model (best from validation) this is surprising given that the validation performance of GB (F1 Score) was slightly higher that the validation F1 score from the SCV model."
      ],
      "metadata": {
        "id": "shQhRbSui4u6"
      }
    },
    {
      "cell_type": "markdown",
      "metadata": {
        "id": "hTXqzpl8JPJW"
      },
      "source": [
        "- What did you learn in this project? Any suggestions?"
      ]
    },
    {
      "cell_type": "markdown",
      "source": [
        "I learned how to implement a variety of regression model including new models like Support Vector Machines, also learned how to take numeric data that would typically be used for regression analysis and use it in a classificaion model"
      ],
      "metadata": {
        "id": "O5b0UK-ojot3"
      }
    },
    {
      "cell_type": "markdown",
      "metadata": {
        "id": "1h7HdoJnJPJW"
      },
      "source": [
        "# Thank you\n",
        "Ilyas Ustun  \n",
        "twitter: \\_ilyas\\_ustun\\_"
      ]
    }
  ],
  "metadata": {
    "kernelspec": {
      "display_name": "Python 3 (ipykernel)",
      "language": "python",
      "name": "python3"
    },
    "language_info": {
      "codemirror_mode": {
        "name": "ipython",
        "version": 3
      },
      "file_extension": ".py",
      "mimetype": "text/x-python",
      "name": "python",
      "nbconvert_exporter": "python",
      "pygments_lexer": "ipython3",
      "version": "3.8.10"
    },
    "toc": {
      "base_numbering": 1,
      "nav_menu": {},
      "number_sections": false,
      "sideBar": false,
      "skip_h1_title": false,
      "title_cell": "Table of Contents",
      "title_sidebar": "Contents",
      "toc_cell": false,
      "toc_position": {},
      "toc_section_display": false,
      "toc_window_display": false
    },
    "colab": {
      "provenance": [],
      "machine_shape": "hm"
    },
    "accelerator": "GPU",
    "gpuClass": "premium"
  },
  "nbformat": 4,
  "nbformat_minor": 0
}